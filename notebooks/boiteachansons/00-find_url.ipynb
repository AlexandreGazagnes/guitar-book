{
 "cells": [
  {
   "cell_type": "code",
   "execution_count": 1,
   "metadata": {},
   "outputs": [
    {
     "name": "stdout",
     "output_type": "stream",
     "text": [
      "/home/alex/tmp/guitar-book\n"
     ]
    }
   ],
   "source": [
    "cd ../.."
   ]
  },
  {
   "cell_type": "markdown",
   "metadata": {},
   "source": [
    "# Imports"
   ]
  },
  {
   "cell_type": "code",
   "execution_count": 2,
   "metadata": {},
   "outputs": [],
   "source": [
    "import os, sys, time, logging, datetime\n",
    "import unicodedata\n",
    "import pandas as pd\n",
    "\n",
    "import requests\n",
    "import bs4\n",
    "from bs4 import BeautifulSoup\n",
    "\n",
    "import selenium\n",
    "\n",
    "from IPython.display import display, HTML\n",
    "\n",
    "from pandarallel import pandarallel\n",
    "\n",
    "\n",
    "# logging.basicConfig(filename='example.log', encoding='utf-8', level=logging.DEBUG)\n",
    "logging.basicConfig(encoding=\"utf-8\", level=logging.INFO, format=\"%(filename)s:%(module)s:%(funcName)s:%(lineno)d:%(levelname)s:%(message)s\")\n",
    "# formatter = logging.Formatter('[%(asctime)s] p%(process)s {%(pathname)s:%(lineno)d} %(levelname)s - %(message)s','%m-%d %H:%M:%S')\n",
    "\n",
    "\n",
    "\n",
    "from src.chords import Chord\n",
    "from src.scrappers import Scrapper, UrlFinder\n",
    "from src.managers import (\n",
    "    HelperManager,\n",
    "    AuthorManager,\n",
    "    UrlManager,\n",
    "    DateManager,\n",
    "    GeneratioManager,\n",
    "    LangManager,\n",
    "    StyleManager,\n",
    "    PopManager,\n",
    "    VideoManager,\n",
    ")\n",
    "from src.loaders import Loader\n",
    "from src.transformers import ManageClass, classes_to_find\n",
    "from src.helpers import now"
   ]
  },
  {
   "cell_type": "code",
   "execution_count": 3,
   "metadata": {},
   "outputs": [
    {
     "name": "stdout",
     "output_type": "stream",
     "text": [
      "INFO: Pandarallel will run on 8 workers.\n",
      "INFO: Pandarallel will use Memory file system to transfer data between the main process and workers.\n"
     ]
    }
   ],
   "source": [
    "pandarallel.initialize(progress_bar=True)"
   ]
  },
  {
   "cell_type": "code",
   "execution_count": 4,
   "metadata": {},
   "outputs": [
    {
     "data": {
      "text/plain": [
       "'2023-08-10 01:12:08'"
      ]
     },
     "execution_count": 4,
     "metadata": {},
     "output_type": "execute_result"
    }
   ],
   "source": [
    "now()"
   ]
  },
  {
   "cell_type": "markdown",
   "metadata": {},
   "source": [
    "# by One"
   ]
  },
  {
   "cell_type": "code",
   "execution_count": null,
   "metadata": {},
   "outputs": [],
   "source": [
    "name = \"alphonse brown mickael young\"\n",
    "response = UrlFinder.song.robust_tab(name)\n",
    "response"
   ]
  },
  {
   "cell_type": "code",
   "execution_count": null,
   "metadata": {},
   "outputs": [],
   "source": [
    "name = \"3-0 ogres de barback\"\n",
    "response = UrlFinder.song.tab(name, tab=\"tab\")\n",
    "response"
   ]
  },
  {
   "cell_type": "code",
   "execution_count": null,
   "metadata": {},
   "outputs": [],
   "source": [
    "name = \"la corrida\"\n",
    "response = UrlFinder.song.robust_tab(name, author=\"cabrel\", tab=\"\")\n",
    "response\n"
   ]
  },
  {
   "cell_type": "code",
   "execution_count": null,
   "metadata": {},
   "outputs": [],
   "source": [
    "# name = \"Samba do Bresil Bellini\"\n",
    "# response = UrlFinder.song.tab(name , website=\"ultimateguitar\", tab=\"\")\n",
    "# response\n"
   ]
  },
  {
   "cell_type": "code",
   "execution_count": null,
   "metadata": {},
   "outputs": [],
   "source": [
    "# name = \"Samba do Bresil Bellini\"\n",
    "# response = UrlFinder.song.tab(name)\n",
    "# response\n"
   ]
  },
  {
   "cell_type": "code",
   "execution_count": null,
   "metadata": {},
   "outputs": [],
   "source": [
    "name = \"alphonse brown mickael young\"\n",
    "response = UrlFinder.song.tab(name)\n",
    "response"
   ]
  },
  {
   "cell_type": "code",
   "execution_count": null,
   "metadata": {},
   "outputs": [],
   "source": []
  },
  {
   "cell_type": "code",
   "execution_count": null,
   "metadata": {},
   "outputs": [],
   "source": [
    "isinstance(UrlFinder.song.tab, function).__dict__"
   ]
  },
  {
   "cell_type": "code",
   "execution_count": null,
   "metadata": {},
   "outputs": [],
   "source": [
    "name = \"le frunkp alphonse brown\"\n",
    "response = UrlFinder.song.tab(name)\n",
    "response"
   ]
  },
  {
   "cell_type": "code",
   "execution_count": null,
   "metadata": {},
   "outputs": [],
   "source": []
  },
  {
   "cell_type": "code",
   "execution_count": null,
   "metadata": {},
   "outputs": [],
   "source": [
    "name = \"its an earthache\"\n",
    "response = UrlFinder.song.tab(name)\n",
    "response"
   ]
  },
  {
   "cell_type": "code",
   "execution_count": null,
   "metadata": {},
   "outputs": [],
   "source": [
    "response = UrlFinder.song.tab(\"Samba do Bresil Bellini\")\n",
    "response"
   ]
  },
  {
   "cell_type": "markdown",
   "metadata": {},
   "source": [
    "# by batch"
   ]
  },
  {
   "cell_type": "code",
   "execution_count": null,
   "metadata": {},
   "outputs": [],
   "source": [
    "df_source = UrlManager._load_base(website=\"\", nan_url=\"only\", top=10, not_processed=\"\")\n",
    "df_source.iloc[:, 6:12]\n"
   ]
  },
  {
   "cell_type": "code",
   "execution_count": null,
   "metadata": {},
   "outputs": [],
   "source": [
    "df_source.iloc[:, -1]"
   ]
  },
  {
   "cell_type": "code",
   "execution_count": null,
   "metadata": {},
   "outputs": [],
   "source": [
    "_df = UrlManager._scrap_urls(df_source)\n",
    "_df.iloc[:, 6:12]"
   ]
  },
  {
   "cell_type": "code",
   "execution_count": null,
   "metadata": {},
   "outputs": [],
   "source": [
    "_df.iloc[:, -1]"
   ]
  },
  {
   "cell_type": "code",
   "execution_count": null,
   "metadata": {},
   "outputs": [],
   "source": [
    "li = UrlManager._prepare_list_dict(_df)\n",
    "final_df = UrlManager._update_and_save(li)\n",
    "final_df.iloc[:6,:12]"
   ]
  },
  {
   "cell_type": "markdown",
   "metadata": {},
   "source": [
    "# by all "
   ]
  },
  {
   "cell_type": "code",
   "execution_count": 5,
   "metadata": {},
   "outputs": [
    {
     "name": "stderr",
     "output_type": "stream",
     "text": [
      "loaders.py:loaders:base:49:INFO:df.shape source loaded : (335, 24)\n",
      "loaders.py:loaders:base:54:INFO:df.shape after : (335, 24)\n",
      "loaders.py:loaders:base:62:INFO:df.shape after nan_url == only: (315, 24)\n",
      "loaders.py:loaders:base:69:INFO:df.shape after not_processed == : (315, 24)\n",
      "loaders.py:loaders:base:74:INFO:df.shape after top 10 : (10, 24)\n",
      "scrappers.py:scrappers:tab:174:INFO:3-0 ogres de barback tab boiteachansons\n",
      "managers.py:managers:_finder_url_manager:46:ERROR:504 - no partition in url - 3-0 ogres de barback tab boiteachansons - 0.8404\n",
      "scrappers.py:scrappers:tab:174:INFO:alphonse brown mickael young tab boiteachansons\n",
      "scrappers.py:scrappers:robust_tab:310:ERROR:error from ThreadManager -> googlesearch run in infinite\n",
      "managers.py:managers:_finder_url_manager:46:ERROR:555 - error from ThreadManager -> googlesearch run in infinite - --no query for robust tab - 17.02713894844055\n",
      "scrappers.py:scrappers:tab:174:INFO:amsterdam jacques brel tab boiteachansons\n",
      "scrappers.py:scrappers:tab:174:INFO:andalouse kendji girac tab boiteachansons\n",
      "scrappers.py:scrappers:tab:174:INFO:andy rita mitsouko tab boiteachansons\n",
      "managers.py:managers:_finder_url_manager:46:ERROR:504 - no partition in url - andy rita mitsouko tab boiteachansons - 2.2626\n",
      "scrappers.py:scrappers:tab:174:INFO:another one bites the dust queen tab boiteachansons\n",
      "scrappers.py:scrappers:tab:174:INFO:asereje las ketchup tab boiteachansons\n",
      "scrappers.py:scrappers:tab:174:INFO:au bar est barre papa tab boiteachansons\n",
      "managers.py:managers:_finder_url_manager:46:ERROR:504 - no partition in url - au bar est barre papa tab boiteachansons - 1.053\n",
      "scrappers.py:scrappers:tab:174:INFO:au cafe du canal pierre perret tab boiteachansons\n",
      "scrappers.py:scrappers:tab:174:INFO:Au soleil jenifer tab boiteachansons\n",
      "managers.py:managers:_finder_url_manager:46:ERROR:504 - no partition in url - Au soleil jenifer tab boiteachansons - 3.6979\n",
      "loaders.py:loaders:base:49:INFO:df.shape source loaded : (335, 24)\n",
      "loaders.py:loaders:base:54:INFO:df.shape after : (335, 24)\n",
      "loaders.py:loaders:base:62:INFO:df.shape after nan_url == : (335, 24)\n",
      "loaders.py:loaders:base:69:INFO:df.shape after not_processed == only: (335, 24)\n",
      "loaders.py:loaders:base:74:INFO:df.shape after top -1 : (335, 24)\n",
      "loaders.py:loaders:base:49:INFO:df.shape source loaded : (335, 24)\n",
      "loaders.py:loaders:base:54:INFO:df.shape after : (335, 24)\n",
      "loaders.py:loaders:base:62:INFO:df.shape after nan_url == only: (310, 24)\n",
      "loaders.py:loaders:base:69:INFO:df.shape after not_processed == : (310, 24)\n",
      "loaders.py:loaders:base:74:INFO:df.shape after top 10 : (10, 24)\n",
      "scrappers.py:scrappers:tab:174:INFO:3-0 ogres de barback tab boiteachansons\n",
      "managers.py:managers:_finder_url_manager:46:ERROR:504 - no partition in url - 3-0 ogres de barback tab boiteachansons - 2.2989\n",
      "scrappers.py:scrappers:tab:174:INFO:alphonse brown mickael young tab boiteachansons\n",
      "scrappers.py:scrappers:robust_tab:310:ERROR:error from ThreadManager -> googlesearch run in infinite\n",
      "managers.py:managers:_finder_url_manager:46:ERROR:555 - error from ThreadManager -> googlesearch run in infinite - --no query for robust tab - 17.0316104888916\n",
      "scrappers.py:scrappers:tab:174:INFO:andy rita mitsouko tab boiteachansons\n",
      "managers.py:managers:_finder_url_manager:46:ERROR:504 - no partition in url - andy rita mitsouko tab boiteachansons - 2.4706\n",
      "scrappers.py:scrappers:tab:174:INFO:au bar est barre papa tab boiteachansons\n",
      "managers.py:managers:_finder_url_manager:46:ERROR:504 - no partition in url - au bar est barre papa tab boiteachansons - 2.6647\n",
      "scrappers.py:scrappers:tab:174:INFO:Au soleil jenifer tab boiteachansons\n",
      "managers.py:managers:_finder_url_manager:46:ERROR:504 - no partition in url - Au soleil jenifer tab boiteachansons - 2.7418\n",
      "scrappers.py:scrappers:tab:174:INFO:Au summum 113 tab boiteachansons\n",
      "scrappers.py:scrappers:robust_tab:310:ERROR:error from ThreadManager -> googlesearch run in infinite\n",
      "managers.py:managers:_finder_url_manager:46:ERROR:555 - error from ThreadManager -> googlesearch run in infinite - --no query for robust tab - 17.024707317352295\n",
      "scrappers.py:scrappers:tab:174:INFO:aux arbres citoyens yannick noah tab boiteachansons\n",
      "scrappers.py:scrappers:tab:174:INFO:baby one more time britney spears tab boiteachansons\n",
      "scrappers.py:scrappers:tab:174:INFO:bad romance lady gaga tab boiteachansons\n",
      "scrappers.py:scrappers:tab:174:INFO:Bailando baila tab boiteachansons\n",
      "scrappers.py:scrappers:robust_tab:310:ERROR:error from ThreadManager -> googlesearch run in infinite\n",
      "managers.py:managers:_finder_url_manager:46:ERROR:555 - error from ThreadManager -> googlesearch run in infinite - --no query for robust tab - 17.091305017471313\n",
      "loaders.py:loaders:base:49:INFO:df.shape source loaded : (335, 24)\n",
      "loaders.py:loaders:base:54:INFO:df.shape after : (335, 24)\n",
      "loaders.py:loaders:base:62:INFO:df.shape after nan_url == : (335, 24)\n",
      "loaders.py:loaders:base:69:INFO:df.shape after not_processed == only: (335, 24)\n",
      "loaders.py:loaders:base:74:INFO:df.shape after top -1 : (335, 24)\n",
      "loaders.py:loaders:base:49:INFO:df.shape source loaded : (335, 24)\n",
      "loaders.py:loaders:base:54:INFO:df.shape after : (335, 24)\n",
      "loaders.py:loaders:base:62:INFO:df.shape after nan_url == only: (307, 24)\n",
      "loaders.py:loaders:base:69:INFO:df.shape after not_processed == : (307, 24)\n",
      "loaders.py:loaders:base:74:INFO:df.shape after top 10 : (10, 24)\n",
      "scrappers.py:scrappers:tab:174:INFO:3-0 ogres de barback tab boiteachansons\n",
      "managers.py:managers:_finder_url_manager:46:ERROR:504 - no partition in url - 3-0 ogres de barback tab boiteachansons - 3.393\n",
      "scrappers.py:scrappers:tab:174:INFO:alphonse brown mickael young tab boiteachansons\n",
      "scrappers.py:scrappers:robust_tab:310:ERROR:error from ThreadManager -> googlesearch run in infinite\n",
      "managers.py:managers:_finder_url_manager:46:ERROR:555 - error from ThreadManager -> googlesearch run in infinite - --no query for robust tab - 17.2092924118042\n",
      "scrappers.py:scrappers:tab:174:INFO:andy rita mitsouko tab boiteachansons\n",
      "managers.py:managers:_finder_url_manager:46:ERROR:504 - no partition in url - andy rita mitsouko tab boiteachansons - 1.0423\n",
      "scrappers.py:scrappers:tab:174:INFO:au bar est barre papa tab boiteachansons\n",
      "managers.py:managers:_finder_url_manager:46:ERROR:504 - no partition in url - au bar est barre papa tab boiteachansons - 2.4814\n",
      "scrappers.py:scrappers:tab:174:INFO:Au soleil jenifer tab boiteachansons\n",
      "managers.py:managers:_finder_url_manager:46:ERROR:504 - no partition in url - Au soleil jenifer tab boiteachansons - 3.7598\n",
      "scrappers.py:scrappers:tab:174:INFO:Au summum 113 tab boiteachansons\n",
      "scrappers.py:scrappers:robust_tab:310:ERROR:error from ThreadManager -> googlesearch run in infinite\n",
      "managers.py:managers:_finder_url_manager:46:ERROR:555 - error from ThreadManager -> googlesearch run in infinite - --no query for robust tab - 17.346540927886963\n",
      "scrappers.py:scrappers:tab:174:INFO:Bailando baila tab boiteachansons\n",
      "scrappers.py:scrappers:robust_tab:310:ERROR:error from ThreadManager -> googlesearch run in infinite\n",
      "managers.py:managers:_finder_url_manager:46:ERROR:555 - error from ThreadManager -> googlesearch run in infinite - --no query for robust tab - 17.029313802719116\n",
      "scrappers.py:scrappers:tab:174:INFO:Baillando paradisio tab boiteachansons\n",
      "managers.py:managers:_finder_url_manager:46:ERROR:504 - no partition in url - Baillando paradisio tab boiteachansons - 2.6234\n",
      "scrappers.py:scrappers:tab:174:INFO:bambino dalida tab boiteachansons\n",
      "scrappers.py:scrappers:tab:174:INFO:banlieue nord starmania tab boiteachansons\n",
      "loaders.py:loaders:base:49:INFO:df.shape source loaded : (335, 24)\n",
      "loaders.py:loaders:base:54:INFO:df.shape after : (335, 24)\n",
      "loaders.py:loaders:base:62:INFO:df.shape after nan_url == : (335, 24)\n",
      "loaders.py:loaders:base:69:INFO:df.shape after not_processed == only: (335, 24)\n",
      "loaders.py:loaders:base:74:INFO:df.shape after top -1 : (335, 24)\n",
      "loaders.py:loaders:base:49:INFO:df.shape source loaded : (335, 24)\n",
      "loaders.py:loaders:base:54:INFO:df.shape after : (335, 24)\n",
      "loaders.py:loaders:base:62:INFO:df.shape after nan_url == only: (305, 24)\n",
      "loaders.py:loaders:base:69:INFO:df.shape after not_processed == : (305, 24)\n",
      "loaders.py:loaders:base:74:INFO:df.shape after top 10 : (10, 24)\n",
      "scrappers.py:scrappers:tab:174:INFO:3-0 ogres de barback tab boiteachansons\n",
      "managers.py:managers:_finder_url_manager:46:ERROR:504 - no partition in url - 3-0 ogres de barback tab boiteachansons - 1.551\n",
      "scrappers.py:scrappers:tab:174:INFO:alphonse brown mickael young tab boiteachansons\n",
      "managers.py:managers:_finder_url_manager:46:ERROR:503 - no boite in url - alphonse brown mickael young tab boiteachansons - 1.6669\n",
      "scrappers.py:scrappers:tab:174:INFO:andy rita mitsouko tab boiteachansons\n",
      "managers.py:managers:_finder_url_manager:46:ERROR:504 - no partition in url - andy rita mitsouko tab boiteachansons - 1.9215\n",
      "scrappers.py:scrappers:tab:174:INFO:au bar est barre papa tab boiteachansons\n",
      "managers.py:managers:_finder_url_manager:46:ERROR:504 - no partition in url - au bar est barre papa tab boiteachansons - 1.6443\n",
      "scrappers.py:scrappers:tab:174:INFO:Au soleil jenifer tab boiteachansons\n",
      "managers.py:managers:_finder_url_manager:46:ERROR:504 - no partition in url - Au soleil jenifer tab boiteachansons - 1.253\n",
      "scrappers.py:scrappers:tab:174:INFO:Au summum 113 tab boiteachansons\n",
      "scrappers.py:scrappers:robust_tab:310:ERROR:error from ThreadManager -> googlesearch run in infinite\n",
      "managers.py:managers:_finder_url_manager:46:ERROR:555 - error from ThreadManager -> googlesearch run in infinite - --no query for robust tab - 17.104470014572144\n",
      "scrappers.py:scrappers:tab:174:INFO:Bailando baila tab boiteachansons\n",
      "managers.py:managers:_finder_url_manager:46:ERROR:504 - no partition in url - Bailando baila tab boiteachansons - 12.518\n",
      "scrappers.py:scrappers:tab:174:INFO:Baillando paradisio tab boiteachansons\n",
      "managers.py:managers:_finder_url_manager:46:ERROR:504 - no partition in url - Baillando paradisio tab boiteachansons - 3.1641\n",
      "scrappers.py:scrappers:tab:174:INFO:barbie girl aqua tab boiteachansons\n",
      "scrappers.py:scrappers:tab:174:INFO:be mine ofenbach tab boiteachansons\n",
      "loaders.py:loaders:base:49:INFO:df.shape source loaded : (335, 24)\n",
      "loaders.py:loaders:base:54:INFO:df.shape after : (335, 24)\n",
      "loaders.py:loaders:base:62:INFO:df.shape after nan_url == : (335, 24)\n",
      "loaders.py:loaders:base:69:INFO:df.shape after not_processed == only: (335, 24)\n",
      "loaders.py:loaders:base:74:INFO:df.shape after top -1 : (335, 24)\n",
      "loaders.py:loaders:base:49:INFO:df.shape source loaded : (335, 24)\n",
      "loaders.py:loaders:base:54:INFO:df.shape after : (335, 24)\n",
      "loaders.py:loaders:base:62:INFO:df.shape after nan_url == only: (303, 24)\n",
      "loaders.py:loaders:base:69:INFO:df.shape after not_processed == : (303, 24)\n",
      "loaders.py:loaders:base:74:INFO:df.shape after top 10 : (10, 24)\n",
      "scrappers.py:scrappers:tab:174:INFO:3-0 ogres de barback tab boiteachansons\n",
      "managers.py:managers:_finder_url_manager:46:ERROR:504 - no partition in url - 3-0 ogres de barback tab boiteachansons - 5.2137\n",
      "scrappers.py:scrappers:tab:174:INFO:alphonse brown mickael young tab boiteachansons\n"
     ]
    },
    {
     "ename": "KeyboardInterrupt",
     "evalue": "",
     "output_type": "error",
     "traceback": [
      "\u001b[0;31m---------------------------------------------------------------------------\u001b[0m",
      "\u001b[0;31mKeyboardInterrupt\u001b[0m                         Traceback (most recent call last)",
      "Cell \u001b[0;32mIn[5], line 8\u001b[0m\n\u001b[1;32m      3\u001b[0m df_source \u001b[39m=\u001b[39m UrlManager\u001b[39m.\u001b[39m_load_base(website\u001b[39m=\u001b[39m\u001b[39m\"\u001b[39m\u001b[39m\"\u001b[39m, nan_url\u001b[39m=\u001b[39m\u001b[39m\"\u001b[39m\u001b[39monly\u001b[39m\u001b[39m\"\u001b[39m, top\u001b[39m=\u001b[39m\u001b[39m10\u001b[39m, not_processed\u001b[39m=\u001b[39m\u001b[39m\"\u001b[39m\u001b[39m\"\u001b[39m)\n\u001b[1;32m      4\u001b[0m \u001b[39m# df_source = df_source.tail(100)\u001b[39;00m\n\u001b[1;32m      5\u001b[0m \n\u001b[1;32m      6\u001b[0m \u001b[39m# df_source = df_source.sample(1)\u001b[39;00m\n\u001b[0;32m----> 8\u001b[0m _df \u001b[39m=\u001b[39m UrlManager\u001b[39m.\u001b[39;49m_scrap_urls(df_source)\n\u001b[1;32m      9\u001b[0m \u001b[39m# _df.iloc[:, 6:13]\u001b[39;00m\n\u001b[1;32m     10\u001b[0m \u001b[39m# \u001b[39;00m\n\u001b[1;32m     11\u001b[0m li \u001b[39m=\u001b[39m UrlManager\u001b[39m.\u001b[39m_prepare_list_dict(_df)\n",
      "File \u001b[0;32m~/tmp/guitar-book/src/managers.py:247\u001b[0m, in \u001b[0;36mUrlManager._scrap_urls\u001b[0;34m(self, df, asynch)\u001b[0m\n\u001b[1;32m    244\u001b[0m _df \u001b[39m=\u001b[39m df\u001b[39m.\u001b[39mcopy()\n\u001b[1;32m    246\u001b[0m \u001b[39mif\u001b[39;00m \u001b[39mnot\u001b[39;00m asynch:\n\u001b[0;32m--> 247\u001b[0m     _df[\u001b[39m\"\u001b[39m\u001b[39m__url\u001b[39m\u001b[39m\"\u001b[39m] \u001b[39m=\u001b[39m _df[\u001b[39m\"\u001b[39;49m\u001b[39m__query\u001b[39;49m\u001b[39m\"\u001b[39;49m]\u001b[39m.\u001b[39;49mapply(\n\u001b[1;32m    248\u001b[0m         \u001b[39mlambda\u001b[39;49;00m i: HelperManager\u001b[39m.\u001b[39;49m_finder_url_manager(i)\n\u001b[1;32m    249\u001b[0m     )\n\u001b[1;32m    250\u001b[0m \u001b[39melse\u001b[39;00m:\n\u001b[1;32m    251\u001b[0m     _df[\u001b[39m\"\u001b[39m\u001b[39m__url\u001b[39m\u001b[39m\"\u001b[39m] \u001b[39m=\u001b[39m _df[\u001b[39m\"\u001b[39m\u001b[39m__query\u001b[39m\u001b[39m\"\u001b[39m]\u001b[39m.\u001b[39mparallel_apply(\n\u001b[1;32m    252\u001b[0m         \u001b[39mlambda\u001b[39;00m i: HelperManager\u001b[39m.\u001b[39m_finder_url_manager(i)\n\u001b[1;32m    253\u001b[0m     )\n",
      "File \u001b[0;32m~/tmp/guitar-book/.venv/lib/python3.10/site-packages/pandas/core/series.py:4630\u001b[0m, in \u001b[0;36mSeries.apply\u001b[0;34m(self, func, convert_dtype, args, **kwargs)\u001b[0m\n\u001b[1;32m   4520\u001b[0m \u001b[39mdef\u001b[39;00m \u001b[39mapply\u001b[39m(\n\u001b[1;32m   4521\u001b[0m     \u001b[39mself\u001b[39m,\n\u001b[1;32m   4522\u001b[0m     func: AggFuncType,\n\u001b[0;32m   (...)\u001b[0m\n\u001b[1;32m   4525\u001b[0m     \u001b[39m*\u001b[39m\u001b[39m*\u001b[39mkwargs,\n\u001b[1;32m   4526\u001b[0m ) \u001b[39m-\u001b[39m\u001b[39m>\u001b[39m DataFrame \u001b[39m|\u001b[39m Series:\n\u001b[1;32m   4527\u001b[0m \u001b[39m    \u001b[39m\u001b[39m\"\"\"\u001b[39;00m\n\u001b[1;32m   4528\u001b[0m \u001b[39m    Invoke function on values of Series.\u001b[39;00m\n\u001b[1;32m   4529\u001b[0m \n\u001b[0;32m   (...)\u001b[0m\n\u001b[1;32m   4628\u001b[0m \u001b[39m    dtype: float64\u001b[39;00m\n\u001b[1;32m   4629\u001b[0m \u001b[39m    \"\"\"\u001b[39;00m\n\u001b[0;32m-> 4630\u001b[0m     \u001b[39mreturn\u001b[39;00m SeriesApply(\u001b[39mself\u001b[39;49m, func, convert_dtype, args, kwargs)\u001b[39m.\u001b[39;49mapply()\n",
      "File \u001b[0;32m~/tmp/guitar-book/.venv/lib/python3.10/site-packages/pandas/core/apply.py:1025\u001b[0m, in \u001b[0;36mSeriesApply.apply\u001b[0;34m(self)\u001b[0m\n\u001b[1;32m   1022\u001b[0m     \u001b[39mreturn\u001b[39;00m \u001b[39mself\u001b[39m\u001b[39m.\u001b[39mapply_str()\n\u001b[1;32m   1024\u001b[0m \u001b[39m# self.f is Callable\u001b[39;00m\n\u001b[0;32m-> 1025\u001b[0m \u001b[39mreturn\u001b[39;00m \u001b[39mself\u001b[39;49m\u001b[39m.\u001b[39;49mapply_standard()\n",
      "File \u001b[0;32m~/tmp/guitar-book/.venv/lib/python3.10/site-packages/pandas/core/apply.py:1076\u001b[0m, in \u001b[0;36mSeriesApply.apply_standard\u001b[0;34m(self)\u001b[0m\n\u001b[1;32m   1074\u001b[0m     \u001b[39melse\u001b[39;00m:\n\u001b[1;32m   1075\u001b[0m         values \u001b[39m=\u001b[39m obj\u001b[39m.\u001b[39mastype(\u001b[39mobject\u001b[39m)\u001b[39m.\u001b[39m_values\n\u001b[0;32m-> 1076\u001b[0m         mapped \u001b[39m=\u001b[39m lib\u001b[39m.\u001b[39;49mmap_infer(\n\u001b[1;32m   1077\u001b[0m             values,\n\u001b[1;32m   1078\u001b[0m             f,\n\u001b[1;32m   1079\u001b[0m             convert\u001b[39m=\u001b[39;49m\u001b[39mself\u001b[39;49m\u001b[39m.\u001b[39;49mconvert_dtype,\n\u001b[1;32m   1080\u001b[0m         )\n\u001b[1;32m   1082\u001b[0m \u001b[39mif\u001b[39;00m \u001b[39mlen\u001b[39m(mapped) \u001b[39mand\u001b[39;00m \u001b[39misinstance\u001b[39m(mapped[\u001b[39m0\u001b[39m], ABCSeries):\n\u001b[1;32m   1083\u001b[0m     \u001b[39m# GH#43986 Need to do list(mapped) in order to get treated as nested\u001b[39;00m\n\u001b[1;32m   1084\u001b[0m     \u001b[39m#  See also GH#25959 regarding EA support\u001b[39;00m\n\u001b[1;32m   1085\u001b[0m     \u001b[39mreturn\u001b[39;00m obj\u001b[39m.\u001b[39m_constructor_expanddim(\u001b[39mlist\u001b[39m(mapped), index\u001b[39m=\u001b[39mobj\u001b[39m.\u001b[39mindex)\n",
      "File \u001b[0;32m~/tmp/guitar-book/.venv/lib/python3.10/site-packages/pandas/_libs/lib.pyx:2834\u001b[0m, in \u001b[0;36mpandas._libs.lib.map_infer\u001b[0;34m()\u001b[0m\n",
      "File \u001b[0;32m~/tmp/guitar-book/src/managers.py:248\u001b[0m, in \u001b[0;36mUrlManager._scrap_urls.<locals>.<lambda>\u001b[0;34m(i)\u001b[0m\n\u001b[1;32m    244\u001b[0m _df \u001b[39m=\u001b[39m df\u001b[39m.\u001b[39mcopy()\n\u001b[1;32m    246\u001b[0m \u001b[39mif\u001b[39;00m \u001b[39mnot\u001b[39;00m asynch:\n\u001b[1;32m    247\u001b[0m     _df[\u001b[39m\"\u001b[39m\u001b[39m__url\u001b[39m\u001b[39m\"\u001b[39m] \u001b[39m=\u001b[39m _df[\u001b[39m\"\u001b[39m\u001b[39m__query\u001b[39m\u001b[39m\"\u001b[39m]\u001b[39m.\u001b[39mapply(\n\u001b[0;32m--> 248\u001b[0m         \u001b[39mlambda\u001b[39;00m i: HelperManager\u001b[39m.\u001b[39;49m_finder_url_manager(i)\n\u001b[1;32m    249\u001b[0m     )\n\u001b[1;32m    250\u001b[0m \u001b[39melse\u001b[39;00m:\n\u001b[1;32m    251\u001b[0m     _df[\u001b[39m\"\u001b[39m\u001b[39m__url\u001b[39m\u001b[39m\"\u001b[39m] \u001b[39m=\u001b[39m _df[\u001b[39m\"\u001b[39m\u001b[39m__query\u001b[39m\u001b[39m\"\u001b[39m]\u001b[39m.\u001b[39mparallel_apply(\n\u001b[1;32m    252\u001b[0m         \u001b[39mlambda\u001b[39;00m i: HelperManager\u001b[39m.\u001b[39m_finder_url_manager(i)\n\u001b[1;32m    253\u001b[0m     )\n",
      "File \u001b[0;32m~/tmp/guitar-book/src/managers.py:37\u001b[0m, in \u001b[0;36mHelperManager._finder_url_manager\u001b[0;34m(self, i)\u001b[0m\n\u001b[1;32m     34\u001b[0m \u001b[39m\u001b[39m\u001b[39m\"\"\"helper function to decore a  UrlFinder.song_tab(i) call\"\"\"\u001b[39;00m\n\u001b[1;32m     36\u001b[0m \u001b[39mtry\u001b[39;00m:\n\u001b[0;32m---> 37\u001b[0m     ans \u001b[39m=\u001b[39m UrlFinder\u001b[39m.\u001b[39;49msong\u001b[39m.\u001b[39;49mrobust_tab(i)\n\u001b[1;32m     38\u001b[0m \u001b[39mexcept\u001b[39;00m \u001b[39mException\u001b[39;00m \u001b[39mas\u001b[39;00m e:\n\u001b[1;32m     39\u001b[0m     logging\u001b[39m.\u001b[39merror(\u001b[39mf\u001b[39m\u001b[39m\"\u001b[39m\u001b[39m{\u001b[39;00me\u001b[39m}\u001b[39;00m\u001b[39m => \u001b[39m\u001b[39m{\u001b[39;00mi\u001b[39m}\u001b[39;00m\u001b[39m \u001b[39m\u001b[39m\"\u001b[39m)\n",
      "File \u001b[0;32m~/tmp/guitar-book/src/scrappers.py:307\u001b[0m, in \u001b[0;36mUrlSongFinder.robust_tab\u001b[0;34m(self, song, author, tab, website, timeout, engine, limit, verbose)\u001b[0m\n\u001b[1;32m    304\u001b[0m t0 \u001b[39m=\u001b[39m time\u001b[39m.\u001b[39mtime()\n\u001b[1;32m    306\u001b[0m \u001b[39mtry\u001b[39;00m:\n\u001b[0;32m--> 307\u001b[0m     \u001b[39mreturn\u001b[39;00m tm\u001b[39m.\u001b[39;49mrun()\n\u001b[1;32m    308\u001b[0m \u001b[39mexcept\u001b[39;00m \u001b[39mException\u001b[39;00m \u001b[39mas\u001b[39;00m e:\n\u001b[1;32m    309\u001b[0m     t1 \u001b[39m=\u001b[39m time\u001b[39m.\u001b[39mtime() \u001b[39m-\u001b[39m t0\n",
      "File \u001b[0;32m~/tmp/guitar-book/src/threaders.py:35\u001b[0m, in \u001b[0;36mThreadManager.run\u001b[0;34m(self)\u001b[0m\n\u001b[1;32m     33\u001b[0m \u001b[39mdef\u001b[39;00m \u001b[39mrun\u001b[39m(\u001b[39mself\u001b[39m):\n\u001b[1;32m     34\u001b[0m     \u001b[39mself\u001b[39m\u001b[39m.\u001b[39mstart()\n\u001b[0;32m---> 35\u001b[0m     \u001b[39mreturn\u001b[39;00m \u001b[39mself\u001b[39;49m\u001b[39m.\u001b[39;49mwait()\n",
      "File \u001b[0;32m~/tmp/guitar-book/src/threaders.py:29\u001b[0m, in \u001b[0;36mThreadManager.wait\u001b[0;34m(self)\u001b[0m\n\u001b[1;32m     27\u001b[0m         logging\u001b[39m.\u001b[39mdebug(\u001b[39mself\u001b[39m\u001b[39m.\u001b[39mresults)\n\u001b[1;32m     28\u001b[0m         \u001b[39mreturn\u001b[39;00m \u001b[39mself\u001b[39m\u001b[39m.\u001b[39mresults\n\u001b[0;32m---> 29\u001b[0m     time\u001b[39m.\u001b[39;49msleep(\u001b[39m1\u001b[39;49m)\n\u001b[1;32m     31\u001b[0m \u001b[39mraise\u001b[39;00m \u001b[39mTimeoutError\u001b[39;00m(\u001b[39mf\u001b[39m\u001b[39m\"\u001b[39m\u001b[39merror from ThreadManager -> googlesearch run in infinite\u001b[39m\u001b[39m\"\u001b[39m)\n",
      "\u001b[0;31mKeyboardInterrupt\u001b[0m: "
     ]
    }
   ],
   "source": [
    "for  _ in range(100) : \n",
    "\n",
    "    df_source = UrlManager._load_base(website=\"\", nan_url=\"only\", top=10, not_processed=\"\")\n",
    "    # df_source = df_source.tail(100)\n",
    "\n",
    "    # df_source = df_source.sample(1)\n",
    "\n",
    "    _df = UrlManager._scrap_urls(df_source)\n",
    "    # _df.iloc[:, 6:13]\n",
    "    # \n",
    "    li = UrlManager._prepare_list_dict(_df)\n",
    "    # li\n",
    "\n",
    "    final_df = UrlManager._update_and_save(li)\n",
    "    # final_df"
   ]
  },
  {
   "cell_type": "code",
   "execution_count": null,
   "metadata": {},
   "outputs": [],
   "source": [
    "li = UrlManager._prepare_list_dict(_df)\n",
    "li"
   ]
  },
  {
   "cell_type": "code",
   "execution_count": null,
   "metadata": {},
   "outputs": [],
   "source": [
    "final_df = UrlManager._update_and_save(li)\n",
    "final_df"
   ]
  },
  {
   "cell_type": "code",
   "execution_count": null,
   "metadata": {},
   "outputs": [],
   "source": [
    "final_df.iloc[:10, 6:20]"
   ]
  },
  {
   "cell_type": "code",
   "execution_count": null,
   "metadata": {},
   "outputs": [],
   "source": [
    "for _ in range(100) : \n",
    "    UrlManager.run(top = 0, n_sample=3)"
   ]
  },
  {
   "cell_type": "code",
   "execution_count": null,
   "metadata": {},
   "outputs": [],
   "source": [
    "df = Loader.base(website=\"\", nan_url=\"\", top=False)"
   ]
  },
  {
   "cell_type": "code",
   "execution_count": null,
   "metadata": {},
   "outputs": [],
   "source": [
    "df.isna().sum()"
   ]
  },
  {
   "cell_type": "code",
   "execution_count": null,
   "metadata": {},
   "outputs": [],
   "source": []
  },
  {
   "cell_type": "code",
   "execution_count": null,
   "metadata": {},
   "outputs": [],
   "source": []
  },
  {
   "cell_type": "code",
   "execution_count": null,
   "metadata": {},
   "outputs": [],
   "source": []
  }
 ],
 "metadata": {
  "kernelspec": {
   "display_name": ".venv",
   "language": "python",
   "name": "python3"
  },
  "language_info": {
   "codemirror_mode": {
    "name": "ipython",
    "version": 3
   },
   "file_extension": ".py",
   "mimetype": "text/x-python",
   "name": "python",
   "nbconvert_exporter": "python",
   "pygments_lexer": "ipython3",
   "version": "3.10.12"
  },
  "orig_nbformat": 4
 },
 "nbformat": 4,
 "nbformat_minor": 2
}
