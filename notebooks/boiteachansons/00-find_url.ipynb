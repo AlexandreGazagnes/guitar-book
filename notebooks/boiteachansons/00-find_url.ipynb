{
 "cells": [
  {
   "cell_type": "code",
   "execution_count": 1,
   "metadata": {},
   "outputs": [
    {
     "name": "stdout",
     "output_type": "stream",
     "text": [
      "/home/alex/tmp/guitar-book\n"
     ]
    }
   ],
   "source": [
    "cd ../.."
   ]
  },
  {
   "cell_type": "markdown",
   "metadata": {},
   "source": [
    "# Imports"
   ]
  },
  {
   "cell_type": "code",
   "execution_count": 2,
   "metadata": {},
   "outputs": [],
   "source": [
    "import os, sys, time, logging, datetime\n",
    "import unicodedata\n",
    "import pandas as pd\n",
    "\n",
    "import requests\n",
    "import bs4\n",
    "from bs4 import BeautifulSoup\n",
    "\n",
    "import selenium\n",
    "\n",
    "from IPython.display import display, HTML\n",
    "\n",
    "from pandarallel import pandarallel\n",
    "\n",
    "\n",
    "# logging.basicConfig(filename='example.log', encoding='utf-8', level=logging.DEBUG)\n",
    "logging.basicConfig(encoding=\"utf-8\", level=logging.INFO, format=\"%(lineno)d:%(levelname)s:%(message)s\")\n",
    "\n",
    "# formatter = logging.Formatter('[%(asctime)s] p%(process)s {%(pathname)s:%(lineno)d} %(levelname)s - %(message)s','%m-%d %H:%M:%S')\n",
    "\n",
    "\n",
    "\n",
    "from src.chords import Chord\n",
    "from src.scrappers import Scrapper, UrlFinder\n",
    "from src.managers import (\n",
    "    HelperManager,\n",
    "    AuthorManager,\n",
    "    UrlManager,\n",
    "    DateManager,\n",
    "    GeneratioManager,\n",
    "    LangManager,\n",
    "    StyleManager,\n",
    "    PopManager,\n",
    "    VideoManager,\n",
    ")\n",
    "from src.loaders import Loader\n",
    "from src.transformers import ManageClass, classes_to_find\n",
    "from src.helpers import now"
   ]
  },
  {
   "cell_type": "code",
   "execution_count": 3,
   "metadata": {},
   "outputs": [
    {
     "name": "stdout",
     "output_type": "stream",
     "text": [
      "INFO: Pandarallel will run on 8 workers.\n",
      "INFO: Pandarallel will use Memory file system to transfer data between the main process and workers.\n"
     ]
    }
   ],
   "source": [
    "pandarallel.initialize(progress_bar=True)"
   ]
  },
  {
   "cell_type": "code",
   "execution_count": 4,
   "metadata": {},
   "outputs": [
    {
     "data": {
      "text/plain": [
       "'2023-08-10 00:56:19'"
      ]
     },
     "execution_count": 4,
     "metadata": {},
     "output_type": "execute_result"
    }
   ],
   "source": [
    "now()"
   ]
  },
  {
   "cell_type": "markdown",
   "metadata": {},
   "source": [
    "# by One"
   ]
  },
  {
   "cell_type": "code",
   "execution_count": 6,
   "metadata": {},
   "outputs": [
    {
     "name": "stderr",
     "output_type": "stream",
     "text": [
      "7:INFO:<bound method UrlSongFinder.tab of <class 'src.scrappers.UrlSongFinder'>>\n",
      "174:INFO:alphonse brown mickael young tab boiteachansons\n",
      "309:ERROR:error from ThreadManager -> googlesearch run in infinite\n"
     ]
    },
    {
     "data": {
      "text/plain": [
       "{'url_list': [],\n",
       " 'status': 555,\n",
       " 'comment': 'error from ThreadManager -> googlesearch run in infinite',\n",
       " 'candidates': [],\n",
       " 'time': 17.026722192764282,\n",
       " '_query': '--no query for robust tab',\n",
       " '_date': '2023-08-10 00:56:59',\n",
       " '_timeout': 15,\n",
       " '_song': 'alphonse brown mickael young',\n",
       " '_author': '',\n",
       " '_tab': 'tab',\n",
       " '_engine': 'googlesearch-python',\n",
       " '_website': 'boiteachansons',\n",
       " '_limit': 5}"
      ]
     },
     "execution_count": 6,
     "metadata": {},
     "output_type": "execute_result"
    }
   ],
   "source": [
    "name = \"alphonse brown mickael young\"\n",
    "response = UrlFinder.song.robust_tab(name)\n",
    "response"
   ]
  },
  {
   "cell_type": "code",
   "execution_count": null,
   "metadata": {},
   "outputs": [],
   "source": [
    "name = \"3-0 ogres de barback\"\n",
    "response = UrlFinder.song.tab(name, tab=\"tab\")\n",
    "response"
   ]
  },
  {
   "cell_type": "code",
   "execution_count": 7,
   "metadata": {},
   "outputs": [
    {
     "name": "stderr",
     "output_type": "stream",
     "text": [
      "7:INFO:<bound method UrlSongFinder.tab of <class 'src.scrappers.UrlSongFinder'>>\n",
      "174:INFO:la corrida cabrel boiteachansons\n",
      "26:INFO:False\n"
     ]
    },
    {
     "data": {
      "text/plain": [
       "{'url_list': ['https://www.boiteachansons.net/partitions/francis-cabrel/la-corrida'],\n",
       " 'status': 200,\n",
       " 'comment': 'OK',\n",
       " 'candidates': ['https://www.boiteachansons.net/partitions/francis-cabrel/la-corrida',\n",
       "  'http://www.laboiteachansons.fr/corrida-la-xml-1458_1452_1454-6972.html',\n",
       "  'https://www.topaccords.com/partition/francis-cabrel/corrida',\n",
       "  'https://tabs.ultimate-guitar.com/tab/francis-cabrel/la-corrida-chords-995197',\n",
       "  'https://maxitabs.com/partition/francis-cabrel-la-corrida'],\n",
       " 'time': 0.937,\n",
       " '_query': 'la corrida cabrel boiteachansons',\n",
       " '_date': '2023-08-10 00:57:55',\n",
       " '_timeout': 15,\n",
       " '_song': 'la corrida',\n",
       " '_author': 'cabrel',\n",
       " '_tab': '',\n",
       " '_engine': 'googlesearch-python',\n",
       " '_website': 'boiteachansons',\n",
       " '_limit': 5}"
      ]
     },
     "execution_count": 7,
     "metadata": {},
     "output_type": "execute_result"
    }
   ],
   "source": [
    "name = \"la corrida\"\n",
    "response = UrlFinder.song.robust_tab(name, author=\"cabrel\", tab=\"\")\n",
    "response\n"
   ]
  },
  {
   "cell_type": "code",
   "execution_count": null,
   "metadata": {},
   "outputs": [],
   "source": [
    "# name = \"Samba do Bresil Bellini\"\n",
    "# response = UrlFinder.song.tab(name , website=\"ultimateguitar\", tab=\"\")\n",
    "# response\n"
   ]
  },
  {
   "cell_type": "code",
   "execution_count": null,
   "metadata": {},
   "outputs": [],
   "source": [
    "# name = \"Samba do Bresil Bellini\"\n",
    "# response = UrlFinder.song.tab(name)\n",
    "# response\n"
   ]
  },
  {
   "cell_type": "code",
   "execution_count": null,
   "metadata": {},
   "outputs": [],
   "source": [
    "name = \"alphonse brown mickael young\"\n",
    "response = UrlFinder.song.tab(name)\n",
    "response"
   ]
  },
  {
   "cell_type": "code",
   "execution_count": null,
   "metadata": {},
   "outputs": [],
   "source": []
  },
  {
   "cell_type": "code",
   "execution_count": null,
   "metadata": {},
   "outputs": [],
   "source": [
    "isinstance(UrlFinder.song.tab, function).__dict__"
   ]
  },
  {
   "cell_type": "code",
   "execution_count": null,
   "metadata": {},
   "outputs": [],
   "source": [
    "name = \"le frunkp alphonse brown\"\n",
    "response = UrlFinder.song.tab(name)\n",
    "response"
   ]
  },
  {
   "cell_type": "code",
   "execution_count": null,
   "metadata": {},
   "outputs": [],
   "source": []
  },
  {
   "cell_type": "code",
   "execution_count": null,
   "metadata": {},
   "outputs": [],
   "source": [
    "name = \"its an earthache\"\n",
    "response = UrlFinder.song.tab(name)\n",
    "response"
   ]
  },
  {
   "cell_type": "code",
   "execution_count": null,
   "metadata": {},
   "outputs": [],
   "source": [
    "response = UrlFinder.song.tab(\"Samba do Bresil Bellini\")\n",
    "response"
   ]
  },
  {
   "cell_type": "markdown",
   "metadata": {},
   "source": [
    "# by batch"
   ]
  },
  {
   "cell_type": "code",
   "execution_count": 8,
   "metadata": {},
   "outputs": [
    {
     "name": "stderr",
     "output_type": "stream",
     "text": [
      "49:INFO:df.shape source loaded : (335, 24)\n",
      "54:INFO:df.shape after : (335, 24)\n",
      "62:INFO:df.shape after nan_url == only: (323, 24)\n",
      "69:INFO:df.shape after not_processed == : (323, 24)\n",
      "74:INFO:df.shape after top -1 : (323, 24)\n"
     ]
    },
    {
     "data": {
      "text/html": [
       "<div>\n",
       "<style scoped>\n",
       "    .dataframe tbody tr th:only-of-type {\n",
       "        vertical-align: middle;\n",
       "    }\n",
       "\n",
       "    .dataframe tbody tr th {\n",
       "        vertical-align: top;\n",
       "    }\n",
       "\n",
       "    .dataframe thead th {\n",
       "        text-align: right;\n",
       "    }\n",
       "</style>\n",
       "<table border=\"1\" class=\"dataframe\">\n",
       "  <thead>\n",
       "    <tr style=\"text-align: right;\">\n",
       "      <th></th>\n",
       "      <th>generation</th>\n",
       "      <th>author</th>\n",
       "      <th>song</th>\n",
       "      <th>date</th>\n",
       "      <th>website</th>\n",
       "      <th>url</th>\n",
       "    </tr>\n",
       "  </thead>\n",
       "  <tbody>\n",
       "    <tr>\n",
       "      <th>0</th>\n",
       "      <td>NaN</td>\n",
       "      <td>ogres de barback</td>\n",
       "      <td>3-0</td>\n",
       "      <td>NaN</td>\n",
       "      <td>NaN</td>\n",
       "      <td>NaN</td>\n",
       "    </tr>\n",
       "    <tr>\n",
       "      <th>1</th>\n",
       "      <td>NaN</td>\n",
       "      <td>nena</td>\n",
       "      <td>99 luftballons</td>\n",
       "      <td>NaN</td>\n",
       "      <td>NaN</td>\n",
       "      <td>NaN</td>\n",
       "    </tr>\n",
       "    <tr>\n",
       "      <th>2</th>\n",
       "      <td>NaN</td>\n",
       "      <td>trois cafes gourmands</td>\n",
       "      <td>a nos souvenirs</td>\n",
       "      <td>NaN</td>\n",
       "      <td>NaN</td>\n",
       "      <td>NaN</td>\n",
       "    </tr>\n",
       "    <tr>\n",
       "      <th>3</th>\n",
       "      <td>NaN</td>\n",
       "      <td>marc ogeret</td>\n",
       "      <td>adieu cher camarade</td>\n",
       "      <td>NaN</td>\n",
       "      <td>NaN</td>\n",
       "      <td>NaN</td>\n",
       "    </tr>\n",
       "    <tr>\n",
       "      <th>4</th>\n",
       "      <td>NaN</td>\n",
       "      <td>toto</td>\n",
       "      <td>africa</td>\n",
       "      <td>NaN</td>\n",
       "      <td>NaN</td>\n",
       "      <td>NaN</td>\n",
       "    </tr>\n",
       "    <tr>\n",
       "      <th>...</th>\n",
       "      <td>...</td>\n",
       "      <td>...</td>\n",
       "      <td>...</td>\n",
       "      <td>...</td>\n",
       "      <td>...</td>\n",
       "      <td>...</td>\n",
       "    </tr>\n",
       "    <tr>\n",
       "      <th>330</th>\n",
       "      <td>NaN</td>\n",
       "      <td>4 non blondes</td>\n",
       "      <td>what s up</td>\n",
       "      <td>NaN</td>\n",
       "      <td>NaN</td>\n",
       "      <td>NaN</td>\n",
       "    </tr>\n",
       "    <tr>\n",
       "      <th>331</th>\n",
       "      <td>NaN</td>\n",
       "      <td>jermaine jackson pia zadora</td>\n",
       "      <td>when the rain begins to fall</td>\n",
       "      <td>NaN</td>\n",
       "      <td>NaN</td>\n",
       "      <td>NaN</td>\n",
       "    </tr>\n",
       "    <tr>\n",
       "      <th>332</th>\n",
       "      <td>NaN</td>\n",
       "      <td>fats domino</td>\n",
       "      <td>when the saints go marching in</td>\n",
       "      <td>NaN</td>\n",
       "      <td>NaN</td>\n",
       "      <td>NaN</td>\n",
       "    </tr>\n",
       "    <tr>\n",
       "      <th>333</th>\n",
       "      <td>NaN</td>\n",
       "      <td>oasis</td>\n",
       "      <td>wonderwall</td>\n",
       "      <td>NaN</td>\n",
       "      <td>NaN</td>\n",
       "      <td>NaN</td>\n",
       "    </tr>\n",
       "    <tr>\n",
       "      <th>334</th>\n",
       "      <td>NaN</td>\n",
       "      <td>the cranberries</td>\n",
       "      <td>zombie</td>\n",
       "      <td>NaN</td>\n",
       "      <td>NaN</td>\n",
       "      <td>NaN</td>\n",
       "    </tr>\n",
       "  </tbody>\n",
       "</table>\n",
       "<p>323 rows × 6 columns</p>\n",
       "</div>"
      ],
      "text/plain": [
       "     generation                       author                            song  \\\n",
       "0           NaN             ogres de barback                             3-0   \n",
       "1           NaN                         nena                  99 luftballons   \n",
       "2           NaN        trois cafes gourmands                 a nos souvenirs   \n",
       "3           NaN                  marc ogeret             adieu cher camarade   \n",
       "4           NaN                         toto                          africa   \n",
       "..          ...                          ...                             ...   \n",
       "330         NaN                4 non blondes                       what s up   \n",
       "331         NaN  jermaine jackson pia zadora    when the rain begins to fall   \n",
       "332         NaN                  fats domino  when the saints go marching in   \n",
       "333         NaN                        oasis                      wonderwall   \n",
       "334         NaN              the cranberries                          zombie   \n",
       "\n",
       "     date  website  url  \n",
       "0     NaN      NaN  NaN  \n",
       "1     NaN      NaN  NaN  \n",
       "2     NaN      NaN  NaN  \n",
       "3     NaN      NaN  NaN  \n",
       "4     NaN      NaN  NaN  \n",
       "..    ...      ...  ...  \n",
       "330   NaN      NaN  NaN  \n",
       "331   NaN      NaN  NaN  \n",
       "332   NaN      NaN  NaN  \n",
       "333   NaN      NaN  NaN  \n",
       "334   NaN      NaN  NaN  \n",
       "\n",
       "[323 rows x 6 columns]"
      ]
     },
     "execution_count": 8,
     "metadata": {},
     "output_type": "execute_result"
    }
   ],
   "source": [
    "df_source = UrlManager._load_base(website=\"\", nan_url=\"only\", top=0, not_processed=\"\")\n",
    "df_source.iloc[:, 6:12]\n"
   ]
  },
  {
   "cell_type": "code",
   "execution_count": null,
   "metadata": {},
   "outputs": [],
   "source": [
    "df_source.iloc[:, -1]"
   ]
  },
  {
   "cell_type": "code",
   "execution_count": null,
   "metadata": {},
   "outputs": [],
   "source": [
    "_df = UrlManager._scrap_urls(df_source)\n",
    "_df.iloc[:, 6:12]"
   ]
  },
  {
   "cell_type": "code",
   "execution_count": null,
   "metadata": {},
   "outputs": [],
   "source": [
    "import logging\n",
    "\n",
    "import threading\n",
    "\n",
    "import time\n",
    "from googlesearch import search\n"
   ]
  },
  {
   "cell_type": "code",
   "execution_count": null,
   "metadata": {},
   "outputs": [],
   "source": [
    "\n",
    "class ThreadManager:\n",
    "    def __init__(self, funct, query, timeout=15, **kwargs) -> None:\n",
    "\n",
    "        self.f = funct\n",
    "        self.query = query\n",
    "        self.timeout = timeout\n",
    "        self.kwargs = kwargs\n",
    "        self.t0 = None\n",
    "        self.results = {}\n",
    "\n",
    "        self.thread_list = []\n",
    "\n",
    "    def requests(self):\n",
    "\n",
    "\n",
    "        results= self.f(self.query)\n",
    "        self.results = results\n",
    "\n",
    "    def start(self):\n",
    "        self.t0 = threading.Thread(target=self.requests, args=())\n",
    "        self.t0.start()\n",
    "\n",
    "    def run(self):\n",
    "        self.start()\n",
    "        for i in range(self.timeout):\n",
    "            logging.info(f\"round {i}\")\n",
    "            if self.results:\n",
    "                logging.info(f\"{self.t0._is_stopped}\")\n",
    "                return self.results\n",
    "\n",
    "            time.sleep(1)\n",
    "        return \"None !!!\"\n"
   ]
  },
  {
   "cell_type": "code",
   "execution_count": null,
   "metadata": {},
   "outputs": [],
   "source": [
    "t = ThreadManager(UrlFinder.song.tab, \" \")\n",
    "t.run()"
   ]
  },
  {
   "cell_type": "code",
   "execution_count": null,
   "metadata": {},
   "outputs": [],
   "source": [
    "ThreadManager(\"alphonse brown mickael young tab boiteachansons\").run()"
   ]
  },
  {
   "cell_type": "code",
   "execution_count": null,
   "metadata": {},
   "outputs": [],
   "source": [
    "ThreadManager(\"la corrida cabrel boiteachansons\").run()"
   ]
  },
  {
   "cell_type": "code",
   "execution_count": null,
   "metadata": {},
   "outputs": [],
   "source": [
    "class ThreadManager:\n",
    "    def __init__(self, timeout=15) -> None:\n",
    "        self.timeout = timeout\n",
    "        self.t0 = None\n",
    "        self.results = None\n",
    "        self.funct = None\n",
    "\n",
    "    def perform(self, funct):\n",
    "        results = funct()\n",
    "        self.results = results\n",
    "\n",
    "    def start(self, funct):\n",
    "        self.t0 = threading.Thread(target=self.perform, args=(funct))\n",
    "        self.t0.start()\n",
    "\n",
    "    def wait(self):\n",
    "        for i in range(self.timeout + 1):\n",
    "            logging.debug(f\"round {i}\")\n",
    "            if self.results:\n",
    "                logging.info(f\"{self.t0._is_stopped}\")\n",
    "                return self.results\n",
    "            time.timeout(1)\n",
    "\n",
    "        raise TimeoutError(\"error\")\n",
    "\n",
    "    def run(self, funct):\n",
    "        self.start(funct)\n",
    "        return self.wait()\n"
   ]
  },
  {
   "cell_type": "code",
   "execution_count": null,
   "metadata": {},
   "outputs": [],
   "source": [
    "\n",
    "f = lambda i : UrlFinder.song.tab(name)\n",
    "\n",
    "ThreadManager.run()"
   ]
  },
  {
   "cell_type": "code",
   "execution_count": null,
   "metadata": {},
   "outputs": [],
   "source": [
    "t.t0._is_stopped"
   ]
  },
  {
   "cell_type": "code",
   "execution_count": null,
   "metadata": {},
   "outputs": [],
   "source": [
    "t.url_list"
   ]
  },
  {
   "cell_type": "code",
   "execution_count": null,
   "metadata": {},
   "outputs": [],
   "source": [
    "for  _ in range(100) : \n",
    "\n",
    "    df_source = UrlManager._load_base(website=\"\", nan_url=\"keep\", top=0, not_processed=\"only\")\n",
    "    # df_source = df_source.tail(100)\n",
    "\n",
    "    df_source = df_source.sample(1)\n",
    "\n",
    "    _df = UrlManager._scrap_urls(df_source)\n",
    "    # _df.iloc[:, 6:13]\n",
    "    # \n",
    "    li = UrlManager._prepare_list_dict(_df)\n",
    "    # li\n",
    "\n",
    "    final_df = UrlManager._update_and_save(li)\n",
    "    # final_df"
   ]
  },
  {
   "cell_type": "code",
   "execution_count": null,
   "metadata": {},
   "outputs": [],
   "source": [
    "li = UrlManager._prepare_list_dict(_df)\n",
    "li"
   ]
  },
  {
   "cell_type": "code",
   "execution_count": null,
   "metadata": {},
   "outputs": [],
   "source": [
    "final_df = UrlManager._update_and_save(li)\n",
    "final_df"
   ]
  },
  {
   "cell_type": "code",
   "execution_count": null,
   "metadata": {},
   "outputs": [],
   "source": [
    "final_df.iloc[:10, 6:20]"
   ]
  },
  {
   "cell_type": "code",
   "execution_count": null,
   "metadata": {},
   "outputs": [],
   "source": [
    "for _ in range(100) : \n",
    "    UrlManager.run(top = 0, n_sample=3)"
   ]
  },
  {
   "cell_type": "code",
   "execution_count": null,
   "metadata": {},
   "outputs": [],
   "source": [
    "df = Loader.base(website=\"\", nan_url=\"\", top=False)"
   ]
  },
  {
   "cell_type": "code",
   "execution_count": null,
   "metadata": {},
   "outputs": [],
   "source": [
    "df.isna().sum()"
   ]
  },
  {
   "cell_type": "code",
   "execution_count": null,
   "metadata": {},
   "outputs": [],
   "source": []
  },
  {
   "cell_type": "code",
   "execution_count": null,
   "metadata": {},
   "outputs": [],
   "source": []
  },
  {
   "cell_type": "code",
   "execution_count": null,
   "metadata": {},
   "outputs": [],
   "source": []
  }
 ],
 "metadata": {
  "kernelspec": {
   "display_name": ".venv",
   "language": "python",
   "name": "python3"
  },
  "language_info": {
   "codemirror_mode": {
    "name": "ipython",
    "version": 3
   },
   "file_extension": ".py",
   "mimetype": "text/x-python",
   "name": "python",
   "nbconvert_exporter": "python",
   "pygments_lexer": "ipython3",
   "version": "3.10.12"
  },
  "orig_nbformat": 4
 },
 "nbformat": 4,
 "nbformat_minor": 2
}
