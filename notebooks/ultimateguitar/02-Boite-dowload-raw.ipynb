{
 "cells": [
  {
   "cell_type": "code",
   "execution_count": 1,
   "metadata": {},
   "outputs": [
    {
     "name": "stdout",
     "output_type": "stream",
     "text": [
      "/home/alex/tmp/guitar-book\n"
     ]
    }
   ],
   "source": [
    "cd ../.."
   ]
  },
  {
   "cell_type": "markdown",
   "metadata": {},
   "source": [
    "# Imports"
   ]
  },
  {
   "cell_type": "code",
   "execution_count": 2,
   "metadata": {},
   "outputs": [],
   "source": [
    "import os, sys, time, logging, datetime\n",
    "import unicodedata\n",
    "import pandas as pd\n",
    "\n",
    "\n",
    "from src.loggers import * \n",
    "\n",
    "import requests\n",
    "import bs4\n",
    "from bs4 import BeautifulSoup\n",
    "\n",
    "import selenium\n",
    "\n",
    "from IPython.display import display, HTML\n",
    "\n",
    "from pandarallel import pandarallel"
   ]
  },
  {
   "cell_type": "code",
   "execution_count": null,
   "metadata": {},
   "outputs": [],
   "source": []
  },
  {
   "cell_type": "code",
   "execution_count": 3,
   "metadata": {},
   "outputs": [],
   "source": [
    "from src.chords import Chord\n",
    "# from src.scrappers import Scrapper\n",
    "from src.cleaners import Cleaner\n",
    "from src.extractors import Extractor\n",
    "from src.loaders import Loader\n",
    "from src.managers import Manager\n",
    "from src.scrappers import Scrapper\n",
    "from src.transformers import ManageClass\n",
    "from src.url_finders import UrlFinder\n",
    "from src.validators import Validator\n",
    "\n",
    "# from src.managers import (\n",
    "#     HelperManager,\n",
    "#     AuthorManager,\n",
    "#     UrlManager,\n",
    "#     DateManager,\n",
    "#     GeneratioManager,\n",
    "#     LangManager,\n",
    "#     StyleManager,\n",
    "#     PopManager,\n",
    "#     VideoManager,\n",
    "# )\n",
    "# from src.loaders import Loader\n",
    "# from src.transformers import ManageClass, classes_to_find\n",
    "from src.helpers import now"
   ]
  },
  {
   "cell_type": "code",
   "execution_count": 4,
   "metadata": {},
   "outputs": [
    {
     "name": "stdout",
     "output_type": "stream",
     "text": [
      "INFO: Pandarallel will run on 8 workers.\n",
      "INFO: Pandarallel will use Memory file system to transfer data between the main process and workers.\n"
     ]
    }
   ],
   "source": [
    "pandarallel.initialize(progress_bar=True)"
   ]
  },
  {
   "cell_type": "code",
   "execution_count": 5,
   "metadata": {},
   "outputs": [
    {
     "data": {
      "text/plain": [
       "'2023-08-30_13:52:38'"
      ]
     },
     "execution_count": 5,
     "metadata": {},
     "output_type": "execute_result"
    }
   ],
   "source": [
    "now()"
   ]
  },
  {
   "cell_type": "markdown",
   "metadata": {},
   "source": [
    "# Downloaded files"
   ]
  },
  {
   "cell_type": "code",
   "execution_count": 6,
   "metadata": {},
   "outputs": [
    {
     "data": {
      "text/html": [
       "<div>\n",
       "<style scoped>\n",
       "    .dataframe tbody tr th:only-of-type {\n",
       "        vertical-align: middle;\n",
       "    }\n",
       "\n",
       "    .dataframe tbody tr th {\n",
       "        vertical-align: top;\n",
       "    }\n",
       "\n",
       "    .dataframe thead th {\n",
       "        text-align: right;\n",
       "    }\n",
       "</style>\n",
       "<table border=\"1\" class=\"dataframe\">\n",
       "  <thead>\n",
       "    <tr style=\"text-align: right;\">\n",
       "      <th></th>\n",
       "      <th>id</th>\n",
       "      <th>lang</th>\n",
       "      <th>style</th>\n",
       "      <th>mood</th>\n",
       "      <th>pop</th>\n",
       "      <th>year</th>\n",
       "      <th>generation</th>\n",
       "      <th>author</th>\n",
       "      <th>song</th>\n",
       "      <th>date</th>\n",
       "      <th>...</th>\n",
       "      <th>_author</th>\n",
       "      <th>_song</th>\n",
       "      <th>_retired</th>\n",
       "      <th>tested</th>\n",
       "      <th>proposed_tona</th>\n",
       "      <th>transposed_tona</th>\n",
       "      <th>listened_tona</th>\n",
       "      <th>chords_simplified</th>\n",
       "      <th>score</th>\n",
       "      <th>notes</th>\n",
       "    </tr>\n",
       "  </thead>\n",
       "  <tbody>\n",
       "    <tr>\n",
       "      <th>0</th>\n",
       "      <td>1</td>\n",
       "      <td>NaN</td>\n",
       "      <td>NaN</td>\n",
       "      <td>NaN</td>\n",
       "      <td>NaN</td>\n",
       "      <td>NaN</td>\n",
       "      <td>NaN</td>\n",
       "      <td>ogres de barback</td>\n",
       "      <td>3-0</td>\n",
       "      <td>NaN</td>\n",
       "      <td>...</td>\n",
       "      <td>NaN</td>\n",
       "      <td>NaN</td>\n",
       "      <td>NaN</td>\n",
       "      <td>NaN</td>\n",
       "      <td>NaN</td>\n",
       "      <td>NaN</td>\n",
       "      <td>NaN</td>\n",
       "      <td>NaN</td>\n",
       "      <td>NaN</td>\n",
       "      <td>NaN</td>\n",
       "    </tr>\n",
       "    <tr>\n",
       "      <th>1</th>\n",
       "      <td>2</td>\n",
       "      <td>NaN</td>\n",
       "      <td>NaN</td>\n",
       "      <td>NaN</td>\n",
       "      <td>NaN</td>\n",
       "      <td>NaN</td>\n",
       "      <td>NaN</td>\n",
       "      <td>nena</td>\n",
       "      <td>99 luftballons</td>\n",
       "      <td>NaN</td>\n",
       "      <td>...</td>\n",
       "      <td>nena</td>\n",
       "      <td>99 luftballons</td>\n",
       "      <td>NaN</td>\n",
       "      <td>NaN</td>\n",
       "      <td>NaN</td>\n",
       "      <td>NaN</td>\n",
       "      <td>NaN</td>\n",
       "      <td>NaN</td>\n",
       "      <td>NaN</td>\n",
       "      <td>NaN</td>\n",
       "    </tr>\n",
       "    <tr>\n",
       "      <th>2</th>\n",
       "      <td>3</td>\n",
       "      <td>NaN</td>\n",
       "      <td>NaN</td>\n",
       "      <td>NaN</td>\n",
       "      <td>NaN</td>\n",
       "      <td>NaN</td>\n",
       "      <td>NaN</td>\n",
       "      <td>trois cafes gourmands</td>\n",
       "      <td>a nos souvenirs</td>\n",
       "      <td>NaN</td>\n",
       "      <td>...</td>\n",
       "      <td>trois cafes gourmands</td>\n",
       "      <td>a nos souvenirs</td>\n",
       "      <td>NaN</td>\n",
       "      <td>NaN</td>\n",
       "      <td>NaN</td>\n",
       "      <td>NaN</td>\n",
       "      <td>NaN</td>\n",
       "      <td>NaN</td>\n",
       "      <td>NaN</td>\n",
       "      <td>NaN</td>\n",
       "    </tr>\n",
       "    <tr>\n",
       "      <th>3</th>\n",
       "      <td>4</td>\n",
       "      <td>NaN</td>\n",
       "      <td>NaN</td>\n",
       "      <td>NaN</td>\n",
       "      <td>NaN</td>\n",
       "      <td>NaN</td>\n",
       "      <td>NaN</td>\n",
       "      <td>marc ogeret</td>\n",
       "      <td>adieu cher camarade</td>\n",
       "      <td>NaN</td>\n",
       "      <td>...</td>\n",
       "      <td>marc ogeret</td>\n",
       "      <td>adieu cher camarade</td>\n",
       "      <td>NaN</td>\n",
       "      <td>NaN</td>\n",
       "      <td>NaN</td>\n",
       "      <td>NaN</td>\n",
       "      <td>NaN</td>\n",
       "      <td>NaN</td>\n",
       "      <td>NaN</td>\n",
       "      <td>NaN</td>\n",
       "    </tr>\n",
       "    <tr>\n",
       "      <th>4</th>\n",
       "      <td>5</td>\n",
       "      <td>NaN</td>\n",
       "      <td>NaN</td>\n",
       "      <td>NaN</td>\n",
       "      <td>NaN</td>\n",
       "      <td>NaN</td>\n",
       "      <td>NaN</td>\n",
       "      <td>toto</td>\n",
       "      <td>africa</td>\n",
       "      <td>NaN</td>\n",
       "      <td>...</td>\n",
       "      <td>toto</td>\n",
       "      <td>africa</td>\n",
       "      <td>NaN</td>\n",
       "      <td>NaN</td>\n",
       "      <td>NaN</td>\n",
       "      <td>NaN</td>\n",
       "      <td>NaN</td>\n",
       "      <td>NaN</td>\n",
       "      <td>NaN</td>\n",
       "      <td>NaN</td>\n",
       "    </tr>\n",
       "    <tr>\n",
       "      <th>...</th>\n",
       "      <td>...</td>\n",
       "      <td>...</td>\n",
       "      <td>...</td>\n",
       "      <td>...</td>\n",
       "      <td>...</td>\n",
       "      <td>...</td>\n",
       "      <td>...</td>\n",
       "      <td>...</td>\n",
       "      <td>...</td>\n",
       "      <td>...</td>\n",
       "      <td>...</td>\n",
       "      <td>...</td>\n",
       "      <td>...</td>\n",
       "      <td>...</td>\n",
       "      <td>...</td>\n",
       "      <td>...</td>\n",
       "      <td>...</td>\n",
       "      <td>...</td>\n",
       "      <td>...</td>\n",
       "      <td>...</td>\n",
       "      <td>...</td>\n",
       "    </tr>\n",
       "    <tr>\n",
       "      <th>441</th>\n",
       "      <td>474</td>\n",
       "      <td>NaN</td>\n",
       "      <td>NaN</td>\n",
       "      <td>NaN</td>\n",
       "      <td>NaN</td>\n",
       "      <td>NaN</td>\n",
       "      <td>NaN</td>\n",
       "      <td>les ogres de barback</td>\n",
       "      <td>Dos mine</td>\n",
       "      <td>NaN</td>\n",
       "      <td>...</td>\n",
       "      <td>les ogres de barback</td>\n",
       "      <td>dos mine</td>\n",
       "      <td>NaN</td>\n",
       "      <td>NaN</td>\n",
       "      <td>NaN</td>\n",
       "      <td>NaN</td>\n",
       "      <td>NaN</td>\n",
       "      <td>NaN</td>\n",
       "      <td>NaN</td>\n",
       "      <td>NaN</td>\n",
       "    </tr>\n",
       "    <tr>\n",
       "      <th>442</th>\n",
       "      <td>475</td>\n",
       "      <td>NaN</td>\n",
       "      <td>NaN</td>\n",
       "      <td>NaN</td>\n",
       "      <td>NaN</td>\n",
       "      <td>NaN</td>\n",
       "      <td>NaN</td>\n",
       "      <td>haut les mains</td>\n",
       "      <td>As de trèfle</td>\n",
       "      <td>NaN</td>\n",
       "      <td>...</td>\n",
       "      <td>as de trefle</td>\n",
       "      <td>haut les mains</td>\n",
       "      <td>NaN</td>\n",
       "      <td>NaN</td>\n",
       "      <td>NaN</td>\n",
       "      <td>NaN</td>\n",
       "      <td>NaN</td>\n",
       "      <td>NaN</td>\n",
       "      <td>NaN</td>\n",
       "      <td>NaN</td>\n",
       "    </tr>\n",
       "    <tr>\n",
       "      <th>443</th>\n",
       "      <td>476</td>\n",
       "      <td>NaN</td>\n",
       "      <td>NaN</td>\n",
       "      <td>NaN</td>\n",
       "      <td>NaN</td>\n",
       "      <td>NaN</td>\n",
       "      <td>NaN</td>\n",
       "      <td>les ogres de barback</td>\n",
       "      <td>Vous memmerdez</td>\n",
       "      <td>NaN</td>\n",
       "      <td>...</td>\n",
       "      <td>NaN</td>\n",
       "      <td>NaN</td>\n",
       "      <td>NaN</td>\n",
       "      <td>NaN</td>\n",
       "      <td>NaN</td>\n",
       "      <td>NaN</td>\n",
       "      <td>NaN</td>\n",
       "      <td>NaN</td>\n",
       "      <td>NaN</td>\n",
       "      <td>NaN</td>\n",
       "    </tr>\n",
       "    <tr>\n",
       "      <th>444</th>\n",
       "      <td>478</td>\n",
       "      <td>NaN</td>\n",
       "      <td>NaN</td>\n",
       "      <td>NaN</td>\n",
       "      <td>NaN</td>\n",
       "      <td>NaN</td>\n",
       "      <td>NaN</td>\n",
       "      <td>NaN</td>\n",
       "      <td>Et pourant</td>\n",
       "      <td>NaN</td>\n",
       "      <td>...</td>\n",
       "      <td>charles aznavour</td>\n",
       "      <td>et pourtant</td>\n",
       "      <td>NaN</td>\n",
       "      <td>NaN</td>\n",
       "      <td>NaN</td>\n",
       "      <td>NaN</td>\n",
       "      <td>NaN</td>\n",
       "      <td>NaN</td>\n",
       "      <td>NaN</td>\n",
       "      <td>NaN</td>\n",
       "    </tr>\n",
       "    <tr>\n",
       "      <th>445</th>\n",
       "      <td>479</td>\n",
       "      <td>NaN</td>\n",
       "      <td>NaN</td>\n",
       "      <td>NaN</td>\n",
       "      <td>NaN</td>\n",
       "      <td>NaN</td>\n",
       "      <td>NaN</td>\n",
       "      <td>la rue ketanou</td>\n",
       "      <td>Les cigales</td>\n",
       "      <td>NaN</td>\n",
       "      <td>...</td>\n",
       "      <td>la rue ketanou</td>\n",
       "      <td>les cigales</td>\n",
       "      <td>NaN</td>\n",
       "      <td>NaN</td>\n",
       "      <td>NaN</td>\n",
       "      <td>NaN</td>\n",
       "      <td>NaN</td>\n",
       "      <td>NaN</td>\n",
       "      <td>NaN</td>\n",
       "      <td>NaN</td>\n",
       "    </tr>\n",
       "  </tbody>\n",
       "</table>\n",
       "<p>446 rows × 24 columns</p>\n",
       "</div>"
      ],
      "text/plain": [
       "      id lang  style  mood  pop  year  generation                 author  \\\n",
       "0      1  NaN    NaN   NaN  NaN   NaN         NaN       ogres de barback   \n",
       "1      2  NaN    NaN   NaN  NaN   NaN         NaN                   nena   \n",
       "2      3  NaN    NaN   NaN  NaN   NaN         NaN  trois cafes gourmands   \n",
       "3      4  NaN    NaN   NaN  NaN   NaN         NaN            marc ogeret   \n",
       "4      5  NaN    NaN   NaN  NaN   NaN         NaN                   toto   \n",
       "..   ...  ...    ...   ...  ...   ...         ...                    ...   \n",
       "441  474  NaN    NaN   NaN  NaN   NaN         NaN   les ogres de barback   \n",
       "442  475  NaN    NaN   NaN  NaN   NaN         NaN         haut les mains   \n",
       "443  476  NaN    NaN   NaN  NaN   NaN         NaN   les ogres de barback   \n",
       "444  478  NaN    NaN   NaN  NaN   NaN         NaN                    NaN   \n",
       "445  479  NaN    NaN   NaN  NaN   NaN         NaN         la rue ketanou   \n",
       "\n",
       "                    song  date  ...                _author  \\\n",
       "0                    3-0   NaN  ...                    NaN   \n",
       "1         99 luftballons   NaN  ...                   nena   \n",
       "2        a nos souvenirs   NaN  ...  trois cafes gourmands   \n",
       "3    adieu cher camarade   NaN  ...            marc ogeret   \n",
       "4                 africa   NaN  ...                   toto   \n",
       "..                   ...   ...  ...                    ...   \n",
       "441             Dos mine   NaN  ...   les ogres de barback   \n",
       "442        As de trèfle    NaN  ...           as de trefle   \n",
       "443       Vous memmerdez   NaN  ...                    NaN   \n",
       "444           Et pourant   NaN  ...       charles aznavour   \n",
       "445          Les cigales   NaN  ...         la rue ketanou   \n",
       "\n",
       "                   _song  _retired  tested proposed_tona transposed_tona  \\\n",
       "0                    NaN       NaN     NaN           NaN             NaN   \n",
       "1         99 luftballons       NaN     NaN           NaN             NaN   \n",
       "2        a nos souvenirs       NaN     NaN           NaN             NaN   \n",
       "3    adieu cher camarade       NaN     NaN           NaN             NaN   \n",
       "4                 africa       NaN     NaN           NaN             NaN   \n",
       "..                   ...       ...     ...           ...             ...   \n",
       "441             dos mine       NaN     NaN           NaN             NaN   \n",
       "442       haut les mains       NaN     NaN           NaN             NaN   \n",
       "443                  NaN       NaN     NaN           NaN             NaN   \n",
       "444          et pourtant       NaN     NaN           NaN             NaN   \n",
       "445          les cigales       NaN     NaN           NaN             NaN   \n",
       "\n",
       "     listened_tona  chords_simplified  score  notes  \n",
       "0              NaN                NaN    NaN    NaN  \n",
       "1              NaN                NaN    NaN    NaN  \n",
       "2              NaN                NaN    NaN    NaN  \n",
       "3              NaN                NaN    NaN    NaN  \n",
       "4              NaN                NaN    NaN    NaN  \n",
       "..             ...                ...    ...    ...  \n",
       "441            NaN                NaN    NaN    NaN  \n",
       "442            NaN                NaN    NaN    NaN  \n",
       "443            NaN                NaN    NaN    NaN  \n",
       "444            NaN                NaN    NaN    NaN  \n",
       "445            NaN                NaN    NaN    NaN  \n",
       "\n",
       "[446 rows x 24 columns]"
      ]
     },
     "execution_count": 6,
     "metadata": {},
     "output_type": "execute_result"
    }
   ],
   "source": [
    "df = pd.read_csv(\"data/ultimate.csv\")\n",
    "df"
   ]
  },
  {
   "cell_type": "code",
   "execution_count": 7,
   "metadata": {},
   "outputs": [
    {
     "data": {
      "text/plain": [
       "website\n",
       "ultimate-guitar    69\n",
       "Name: count, dtype: int64"
      ]
     },
     "execution_count": 7,
     "metadata": {},
     "output_type": "execute_result"
    }
   ],
   "source": [
    "# df.website.value_counts(dropna=False)\n",
    "df = df[df.website == \"ultimate-guitar\"]\n",
    "df.website.value_counts(dropna=False)"
   ]
  },
  {
   "cell_type": "code",
   "execution_count": 8,
   "metadata": {},
   "outputs": [
    {
     "data": {
      "text/plain": [
       "'https://tabs.ultimate-guitar.com/tab/les-ogres-de-barback/3-0-chords-4300502'"
      ]
     },
     "execution_count": 8,
     "metadata": {},
     "output_type": "execute_result"
    }
   ],
   "source": [
    "url = df.url.iloc[0]\n",
    "url"
   ]
  },
  {
   "cell_type": "code",
   "execution_count": 9,
   "metadata": {},
   "outputs": [
    {
     "data": {
      "text/plain": [
       "{'url': 'https://tabs.ultimate-guitar.com/tab/les-ogres-de-barback/3-0-chords-4300502',\n",
       " 'status': 201,\n",
       " 'comment': 'OK scraped and saved : les-ogres-de-barback 3-0-chords-4300502 => https://tabs.ultimate-guitar.com/tab/les-ogres-de-barback/3-0-chords-4300502',\n",
       " 'date': '2023-08-30_13:52:44',\n",
       " 'retired': 0,\n",
       " 'html_doc': b'<!doctype html>\\n<html lang=\"en\">\\n<head prefix=\"og: http://ogp.me/ns# fb: http://ogp.me/ns/fb# article: http://ogp.me/ns/article#\">\\n    <meta content=\"text/html; charset=utf-8\" http-equiv=\"Content-Type\">\\n    <title>3 - 0 CHORDS by Les Ogres de Barback @ Ultimate-Guitar.Com</title>\\n<meta name=\"description\" content=\"[Verse 1] C Dm G C Y&#039;a Paris, la capitale, qui renifle son trou de balle, C Dm G C Intra-muros c&#039;est brillant, dehors c&#039;est pour les paysans. C Dm G C D&#039;ailleurs s&#039;il n&#039;en restait qu&#039;une, ce\">\\n<meta name=\"keywords\" content=\"Les Ogres De Barback - 3 - 0 (Chords), Chords, Les Ogres de Barback, Ultimate-Guitar.Com, ug\">\\n    <script>\\n    (function () {\\n        var isTouch = \\'ontouchstart\\' in window || \\'onmsgesturechange\\' in window;\\n        var isMac = [\\'Macintosh\\', \\'MacIntel\\', \\'MacPPC\\', \\'Mac68K\\'].indexOf(window.navigator.platform) > -1;\\n\\n        if (isMac && isTouch) {\\n            var date = new Date();\\n            date.setFullYear(date.getFullYear() + 1);\\n\\n            document.cookie = \\'_ug_force_ipad=1;path=/;domain=.ultimate-guitar.com;expires=\\' + date.toUTCString() + \\';\\';\\n            window.location = window.location.href\\n        }\\n    })()\\n</script>\\n    <script>\\n    !function(n,e){var t,o,i,c=[],f={passive:!0,capture:!0},r=new Date,a=\"pointerup\",u=\"pointercancel\";function p(n,c){t||(t=c,o=n,i=new Date,w(e),s())}function s(){o>=0&&o<i-r&&(c.forEach(function(n){n(o,t)}),c=[])}function l(t){if(t.cancelable){var o=(t.timeStamp>1e12?new Date:performance.now())-t.timeStamp;\"pointerdown\"==t.type?function(t,o){function i(){p(t,o),r()}function c(){r()}function r(){e(a,i,f),e(u,c,f)}n(a,i,f),n(u,c,f)}(o,t):p(o,t)}}function w(n){[\"click\",\"mousedown\",\"keydown\",\"touchstart\",\"pointerdown\"].forEach(function(e){n(e,l,f)})}w(n),self.perfMetrics=self.perfMetrics||{},self.perfMetrics.onFirstInputDelay=function(n){c.push(n),s()}}(addEventListener,removeEventListener);\\n</script>\\n    \\n<link rel=\"preload\" href=\"https://tabs.ultimate-guitar.com/static/public/build/ug_react/vendor.38a500e5c5738b331675c21353fa087f.js\"  as=\"script\"></link>    <link rel=\"preload\" href=\"https://tabs.ultimate-guitar.com/static/public/build/ug_react/202308/4578.c927241985206da2c819d40d3ae6d672.js\"  as=\"script\"></link>                <link rel=\"preload\" href=\"https://tabs.ultimate-guitar.com/static/public/build/ug_react/ug~runtime.6e146e287f44a898c8ca3e4e7bac89fd.js\"  as=\"script\"></link>        <link rel=\"preload\" href=\"https://tabs.ultimate-guitar.com/static/public/build/ug_react/ug.bd4b12dfe265dbc616c11e3484b06e40.js\"  as=\"script\"></link>                    <link rel=\"preload\" href=\"https://tabs.ultimate-guitar.com/static/public/video/fp/fp-video-poster.288x162.jpg\" as=\"image\" />\\n            <link rel=\"dns-prefetch\" href=\"https://fonts.googleapis.com/\">\\n    <link rel=\"preconnect\" href=\"https://fonts.googleapis.com/\">\\n    <link rel=\"alternate\" hreflang=\"x-default\" href=\"https://tabs.ultimate-guitar.com/tab/les-ogres-de-barback/3-0-chords-4300502\" />\\n<link rel=\"alternate\" hreflang=\"en\" href=\"https://tabs.ultimate-guitar.com/tab/les-ogres-de-barback/3-0-chords-4300502\" />\\n<link rel=\"alternate\" hreflang=\"pt\" href=\"https://pt.ultimate-guitar.com/tab/les-ogres-de-barback/3-0-chords-4300502\" />\\n<link rel=\"alternate\" hreflang=\"es\" href=\"https://es.ultimate-guitar.com/tab/les-ogres-de-barback/3-0-chords-4300502\" />\\n<meta property=\"fb:app_id\" content=\"539490962762175\">\\n<meta property=\"og:type\" content=\"music.song\">\\n<meta property=\"og:title\" content=\"Les Ogres De Barback - 3 - 0 (Chords)\">\\n<meta property=\"og:description\" content=\"CHORDS by Les Ogres de Barback\">\\n<meta property=\"og:image\" content=\"https://tabs.ultimate-guitar.com/static/_img/ug-logo-fb.png\">                <meta name=\"viewport\" class=\"js-viewport\" content=\"width=device-width, initial-scale=1, maximum-scale=1.0, minimum-scale=1.0, user-scalable=no\">\\n        <script>\\n            (function() {\\n                var viewport = document.querySelector(\\'.js-viewport\\');\\n                var date = new Date();\\n                date.setFullYear(date.getFullYear() + 1);\\n                function setViewport() {\\n                    var isLargeViewport = (screen.availWidth > 1300 || screen.availHeight > 1300) && window.matchMedia(\"(orientation: landscape)\").matches;\\n                    viewport.setAttribute(\\'content\\', isLargeViewport ? \\'width=device-width, initial-scale=1, maximum-scale=1.0, user-scalable=no\\' : \\'width=1280, minimum-scale=0.1, maximum-scale=5.0\\');\\n                    document.cookie = \\'_ug_small_screen=\\' + (isLargeViewport ? 0 : 1) +\\';path=/;domain=.ultimate-guitar.com;expires=\\' + date.toUTCString() + \\';\\';\\n                }\\n                setViewport();\\n                window.matchMedia(\"(orientation: landscape)\").addEventListener(\\'change\\', setViewport)\\n            })()\\n        </script>\\n        <meta name=\"csrf-param\" content=\"_csrf\">\\n<meta name=\"csrf-token\" content=\"hYfIgHo2arTuZp8EGvlMT_FFwjqmqCyZE0bzAiws06Ko0L7sNlUBjZwj11ZujzgBtzSFTZ_pdM9cEIRdGhuizQ==\">\\n            <link rel=\"search\"\\n    type=\"application/opensearchdescription+xml\"\\n    href=\"//tabs.ultimate-guitar.com/static/opensearch/opensearch.xml\"\\n    title=\"Ultmate-Guitar tabs & chords search\" />    <meta name=\"theme-color\" content=\"#272727\">\\n    \\n    <link rel=\"manifest\" href=\"/manifest_new.json\">\\n<link rel=\"icon\" type=\"image/x-icon\" href=\"//tabs.ultimate-guitar.com/static/public/img/product_icons/ug/favicon.ico\">\\n<link rel=\"shortcut icon\" type=\"image/png\" href=\"//tabs.ultimate-guitar.com/static/public/img/product_icons/ug/favicon.png\" />\\n<link rel=\"apple-touch-icon\" sizes=\"32x32\" href=\"//tabs.ultimate-guitar.com/static/public/img/product_icons/ug/apple-touch-icon-48x48_ver2.png\" />\\n<link rel=\"apple-touch-icon\" sizes=\"48x48\" href=\"//tabs.ultimate-guitar.com/static/public/img/product_icons/ug/apple-touch-icon-48x48_ver2.png\" />\\n<link rel=\"apple-touch-icon\" sizes=\"72x72\" href=\"//tabs.ultimate-guitar.com/static/public/img/product_icons/ug/apple-touch-icon-72x72_ver2.png\" />\\n<link rel=\"apple-touch-icon\" sizes=\"96x96\" href=\"//tabs.ultimate-guitar.com/static/public/img/product_icons/ug/apple-touch-icon-96x96_ver2.png\" />\\n<link rel=\"apple-touch-icon\" sizes=\"144x14\" href=\"//tabs.ultimate-guitar.com/static/public/img/product_icons/ug/apple-touch-icon-144x144_ver2.png\" />\\n<link rel=\"apple-touch-icon\" sizes=\"192x192\" href=\"//tabs.ultimate-guitar.com/static/public/img/product_icons/ug/apple-touch-icon-192x192_ver2.png\" />\\n<link rel=\"apple-touch-icon\" sizes=\"512x512\" href=\"//tabs.ultimate-guitar.com/static/public/img/product_icons/ug/apple-touch-icon-512x512_ver2.png\" />\\n<meta name=\"application-name\" content=\"Ultimate Guitar\" />\\n    \\n        <script>\\n        var sentryMethodsToSave = [\\'setUser\\', \\'setTag\\', \\'setTags\\', \\'setExtra\\', \\'setExtras\\', \\'addBreadcrumb\\', \\'setContext\\'];\\n        window.Sentry = {\\n            _lazy: true\\n        };\\n        var sentryLazyCallsQueue = [];\\n        var sentryLazyHandler = function () {\\n            var args = Array.prototype.slice.call(arguments)\\n            var methodName = args[0];\\n            var rest = args.slice(1);\\n\\n            sentryLazyCallsQueue.push([methodName, rest])\\n        };\\n\\n        sentryMethodsToSave.forEach(function (methodName) {\\n            window.Sentry[methodName] = sentryLazyHandler.bind(this, methodName);\\n        });\\n\\n        function applySentryLazyData() {\\n            if (!sentryLazyCallsQueue) return;\\n\\n            for (var i = 0; i < sentryLazyCallsQueue.length; i++) {\\n                var args = sentryLazyCallsQueue[i];\\n                var methodName = args[0];\\n                var restArgs = args[1];\\n                var method = window.Sentry[methodName];\\n\\n                method && typeof method === \\'function\\' && method.apply(window.Sentry, restArgs);\\n            }\\n\\n            sentryLazyCallsQueue = undefined;\\n        }\\n\\n        var errors = window.APPERROR ? (window.APPERROR.errors || []) : []\\n        var UGERROR = {\\n            errors,\\n            loggerLoaded: false,\\n        };\\n        var oldOnError = window.onerror;\\n        var loadScript = function (src, resolve) {\\n            UGERROR.loggerLoaded = true;\\n            var script = document.createElement(\\'script\\');\\n            script.async = true;\\n            script.type = \\'text/javascript\\';\\n            script.src = src;\\n\\n            var changeState = function () {\\n                if (!loaded) {\\n                    resolve()\\n                    loaded = true;\\n                }\\n            };\\n            var loaded;\\n\\n            script.onreadystatechange = changeState;\\n            script.onload = changeState;\\n\\n            var node = document.getElementsByTagName(\\'script\\')[0];\\n            node.parentNode.insertBefore(script, node);\\n        };\\n\\n        UGERROR.loadErrorLogger = function (release) {\\n            var whitelistUrls = [\\n                new RegExp(\\'https://tabs.ultimate-guitar.com/static/public\\'),\\n            ];\\n\\n            if (window.location.pathname !== \\'/\\') {\\n                whitelistUrls.push(new RegExp(window.location.href))\\n            }\\n\\n            var tags = {\\n                source: \\'tabs\\',\\n                country: \\'FR\\',\\n                isProUser: false,\\n                isAuthenticated: false,\\n                userId: \\'0\\',\\n            };\\n\\n            !UGERROR.loggerLoaded && loadScript(\\'https://tabs.ultimate-guitar.com/static/public/build/sentry_0_0_2/sentry_ver1693396252.js\\', function () {\\n                console.log(\\'[sentry]:\\', \\'bundle successfully loaded\\')\\n                window.onerror = oldOnError;\\n\\n                window.initSentry({\\n                    dsn: \\'https://71cf858585c249f5b0f360c3ab811c84@sentry10.ultimate-guitar.com/7\\',\\n                    release: release,\\n                    allowUrls: whitelistUrls\\n                });\\n\\n                window.Sentry.setTags(tags);\\n                window.Sentry.setUser({\\n                    userId: \\'0\\'\\n                });\\n                window.Sentry.setContext(\\'Client a/b variations\\', []);\\n\\n                applySentryLazyData();\\n\\n                var messages = UGERROR.errors.map(function (err) {\\n                    return err[0];\\n                });\\n                UGERROR.errors\\n                    .filter(function (error, index) {\\n                        return messages.indexOf(error[0]) === index;\\n                    })\\n                    .forEach(function (args) {\\n                        var error = args[0];\\n\\n                        if (args.length > 1) {\\n                            window.onerror.apply(this, args);\\n                        } else if (typeof error === \\'string\\') {\\n                            window.Sentry.captureMessage(error, \\'error\\');\\n                        } else {\\n                            if (error === undefined) {\\n                                error = new Error(\\'Caught undefined error\\');\\n                            }\\n\\n                            window.Sentry.captureException(error);\\n                        }\\n                    });\\n            })\\n        };\\n\\n        function loadSentry() {\\n            if (UGERROR.hasFirstError) {\\n                return\\n            }\\n\\n            function load() {\\n                UGERROR.loadErrorLogger(\"ug-web_app_1.01.99\");\\n            }\\n\\n            if (document.readyState === \\'complete\\') {\\n                load();\\n            } else {\\n                window.addEventListener(\\'load\\', load)\\n            }\\n            UGERROR.hasFirstError = true\\n        }\\n\\n        if (UGERROR.errors && UGERROR.errors.length > 0) {\\n            loadSentry()\\n        }\\n\\n        window.onerror = function () {\\n            UGERROR.errors.push(arguments);\\n            oldOnError && oldOnError.apply(this, arguments);\\n\\n            var message = typeof arguments[0] === \\'object\\' && arguments[0].message\\n            if (typeof message === \\'string\\' && message.toLowerCase().indexOf(\\'loading chunk\\') && window.UGAPP.trigger) {\\n                window.UGAPP.trigger(\\'globalEvent:YM:metrica\\', \\'Chunk Load Error\\')\\n            }\\n\\n            loadSentry();\\n        };\\n    </script>\\n                    <script>\\n        (function () {\\n            if (\\'serviceWorker\\' in navigator) {\\n                window.addEventListener(\\'load\\', function() {\\n                    window.navigator.serviceWorker.getRegistrations().then(function(registrations) {\\n                        registrations.forEach(function(registration) {\\n                            if (\\n                                registration.active.scriptURL.indexOf(\\'sw_ug.js\\') !== -1\\n                                ||\\n                                registration.active.scriptURL.indexOf(\\'sw_ug_v2.js\\') !== -1\\n                            ) {\\n                                registration.unregister()\\n                            }\\n                        })\\n                    })\\n                    window.navigator.serviceWorker.register(\\'/sw_ug_v3.js\\').catch(function(error) {})\\n                })\\n            }\\n        })()\\n    </script>\\n                <script type=\"text/javascript\" async=true>\\n    (function() {\\n        var TCF_LOCATOR_NAME = \\'__tcfapiLocator\\';\\n        var queue = [];\\n        var win = window;\\n        var cmpFrame;\\n\\n        function addFrame() {\\n            var doc = win.document;\\n            var otherCMP = !!(win.frames[TCF_LOCATOR_NAME]);\\n\\n            if (!otherCMP) {\\n                if (doc.body) {\\n                    var iframe = doc.createElement(\\'iframe\\');\\n\\n                    iframe.style.cssText = \\'display:none\\';\\n                    iframe.name = TCF_LOCATOR_NAME;\\n                    doc.body.appendChild(iframe);\\n                } else {\\n                    setTimeout(addFrame, 5);\\n                }\\n            }\\n            return !otherCMP;\\n        }\\n\\n        function tcfAPIHandler() {\\n            var gdprApplies;\\n            var args = arguments;\\n\\n            if (!args.length) {\\n                return queue;\\n            } else if (args[0] === \\'setGdprApplies\\') {\\n                if (\\n                    args.length > 3 &&\\n                    args[2] === 2 &&\\n                    typeof args[3] === \\'boolean\\'\\n                ) {\\n                    gdprApplies = args[3];\\n                    if (typeof args[2] === \\'function\\') {\\n                        args[2](\\'set\\', true);\\n                    }\\n                }\\n            } else if (args[0] === \\'ping\\') {\\n                var retr = {\\n                    gdprApplies: gdprApplies,\\n                    cmpLoaded: false,\\n                    cmpStatus: \\'stub\\'\\n                };\\n\\n                if (typeof args[2] === \\'function\\') {\\n                    args[2](retr);\\n                }\\n            } else {\\n                queue.push(args);\\n            }\\n        }\\n\\n        function postMessageEventHandler(event) {\\n            var msgIsString = typeof event.data === \\'string\\';\\n            var json = {};\\n\\n            try {\\n                if (msgIsString) {\\n                    json = JSON.parse(event.data);\\n                } else {\\n                    json = event.data;\\n                }\\n            } catch (ignore) {\\n            }\\n\\n            var payload = json.__tcfapiCall;\\n\\n            if (payload) {\\n                window.__tcfapi(\\n                    payload.command,\\n                    payload.version,\\n                    function (retValue, success) {\\n                        var returnMsg = {\\n                            __tcfapiReturn: {\\n                                returnValue: retValue,\\n                                success: success,\\n                                callId: payload.callId\\n                            }\\n                        };\\n                        if (msgIsString) {\\n                            returnMsg = JSON.stringify(returnMsg);\\n                        }\\n                        event.source.postMessage(returnMsg, \\'*\\');\\n                    },\\n                    payload.parameter\\n                );\\n            }\\n        }\\n\\n        while (win) {\\n            try {\\n                if (win.frames[TCF_LOCATOR_NAME]) {\\n                    cmpFrame = win;\\n                    break;\\n                }\\n            } catch (ignore) {}\\n\\n            if (win === window.top) {\\n                break;\\n            }\\n            win = win.parent;\\n        }\\n        if (!cmpFrame) {\\n            if (window === window.top) {\\n                addFrame();\\n                win.__tcfapi = tcfAPIHandler;\\n                win.addEventListener(\\'message\\', postMessageEventHandler, false);\\n            } else {\\n                window.__tcfapi = tcfAPIHandler;\\n                window.addEventListener(\\'message\\', postMessageEventHandler, false);\\n            }\\n        }\\n    })();\\n</script>\\n                                    <style>\\n        #ad_cs_5723252_300_250 > div > iframe:only-child {\\n            display: none;\\n        }\\n    </style>\\n    <script>\\n        document.domain = \\'ultimate-guitar.com\\';\\n    </script>\\n            \\n            <script>\\n            function importFonts() {\\n                var style = document.createElement(\\'link\\');\\n                style.rel = \\'stylesheet\\';\\n                style.href = \\'https://fonts.googleapis.com/css?family=Open+Sans:400,600,700&subset=latin,latin-ext,greek,hebrew,vietnamese,arabic,devanagari,cyrillic,cyrillic-ext,khmer,greek-ext,tamil,thai,telugu,bengali,gujarati\\';\\n                style.type = \\'text/css\\';\\n                document.head.appendChild(style)\\n            }\\n\\n            try {\\n                navigator.serviceWorker.getRegistrations().then(importFonts)\\n            } catch (e) {\\n                window.addEventListener(\\'load\\', importFonts)\\n            }\\n        </script>\\n    \\n\\n        <!-- Google Tag Manager -->\\n<script>(function(w,d,s,l,i){w[l]=w[l]||[];w[l].push({\\'gtm.start\\':\\nnew Date().getTime(),event:\\'gtm.js\\'});var f=d.getElementsByTagName(s)[0],\\nj=d.createElement(s),dl=l!=\\'dataLayer\\'?\\'&l=\\'+l:\\'\\';j.async=true;j.src=\\n\\'https://www.googletagmanager.com/gtm.js?id=\\'+i+dl;f.parentNode.insertBefore(j,f);\\n})(window,document,\\'script\\',\\'dataLayer\\',\\'GTM-KLGNWL3\\');</script>\\n<!-- End Google Tag Manager -->\\n</head>\\n<body style=\"background-color: #111; margin: 0\" >\\n<!-- Google Tag Manager (noscript) -->\\n<noscript><iframe src=\"https://www.googletagmanager.com/ns.html?id=GTM-KLGNWL3\"\\nheight=\"0\" width=\"0\" style=\"display:none;visibility:hidden\"></iframe></noscript>\\n<!-- End Google Tag Manager (noscript) -->\\n<script>\\n    var hasFirstTap = false;\\n    (function () {\\n        function onFirstTap () {\\n            hasFirstTap = true\\n            document.body.removeEventListener(\\'touchstart\\', onFirstTap)\\n        }\\n\\n        document.body.addEventListener(\\'touchstart\\', onFirstTap)\\n    })()\\n</script>\\n\\n\\n\\n    <div class=\"js-page js-global-wrapper\">\\n            </div>\\n<div class=\"js-cmp\"></div>\\n    <div class=\"js-store\" data-content=\"{&quot;config&quot;:{&quot;releaseVer&quot;:&quot;ug-web_app_1.01.99&quot;,&quot;abVariation&quot;:null,&quot;abVariation2&quot;:null,&quot;abVariation3&quot;:null,&quot;abTestAccountVariation&quot;:[],&quot;experiments&quot;:{&quot;isPianoChordGroup&quot;:false},&quot;urlFacebook&quot;:&quot;https://www.ultimate-guitar.com/user/auth/oauth?service=facebook&quot;,&quot;urlGoogle&quot;:&quot;https://www.ultimate-guitar.com/user/auth/oauth?service=google&quot;,&quot;urlApple&quot;:&quot;https://www.ultimate-guitar.com/user/auth/oauth?service=apple&quot;,&quot;main_server&quot;:&quot;ultimate-guitar.com&quot;,&quot;ps_server&quot;:&quot;plus.ultimate-guitar.com&quot;,&quot;static_server&quot;:&quot;https://tabs.ultimate-guitar.com/static&quot;,&quot;statik_cache&quot;:&quot;_ver1693396252&quot;,&quot;staticPrefix&quot;:&quot;/static&quot;,&quot;time&quot;:1693396364000,&quot;isGDPRAvailable&quot;:true,&quot;isCcpaAvailable&quot;:false,&quot;user&quot;:{&quot;id&quot;:0,&quot;uuid&quot;:0,&quot;unified_id&quot;:&quot;&quot;,&quot;session&quot;:{&quot;id&quot;:&quot;&quot;,&quot;expire_duration&quot;:300,&quot;expire_duration_dispersion&quot;:[5000,10000],&quot;enable_refresh&quot;:true,&quot;parsed_session&quot;:{&quot;version&quot;:0,&quot;id&quot;:0,&quot;updated&quot;:0,&quot;number&quot;:0},&quot;is_renew_session&quot;:false},&quot;username&quot;:&quot;Unregistered&quot;,&quot;iq&quot;:&quot;&quot;,&quot;contributorPower&quot;:false,&quot;is_bot&quot;:false},&quot;isOfficeUser&quot;:false,&quot;isOfficeRequest&quot;:false,&quot;isWebp&quot;:false,&quot;isBot&quot;:false,&quot;is_mobile&quot;:false,&quot;is_tablet&quot;:false,&quot;isThemeMobile&quot;:false,&quot;isIe&quot;:false,&quot;isEs6&quot;:false,&quot;socketCluster&quot;:{&quot;serviceKey&quot;:&quot;f0557aa8-2d06-43d9-9c16-f885bc710b97:main&quot;,&quot;channelPrefix&quot;:&quot;f0557aa8-2d06-43d9-9c16-f885bc710b97:main#prod&quot;,&quot;hostname&quot;:&quot;socketcluster.k8s.wsmgroup.ru&quot;,&quot;port&quot;:443,&quot;channelName&quot;:&quot;e2b911c3d39e5e206f13c6dab0ac7bcc&quot;},&quot;metricaId&quot;:18746557,&quot;captcha_id&quot;:&quot;6LfCo_8SAAAAALEMHnlK18j8IemlAdvmxwRnQe2v&quot;,&quot;stripeApiKey&quot;:&quot;pk_live_4aZVHgEcj68d3uAgtisiXtZo&quot;,&quot;country&quot;:&quot;FR&quot;,&quot;countryCode&quot;:&quot;FR&quot;,&quot;browserName&quot;:&quot;Python&quot;,&quot;os&quot;:&quot;&quot;,&quot;platform&quot;:4,&quot;browser&quot;:&quot;{\\\\&quot;browser\\\\&quot;:{\\\\&quot;name\\\\&quot;:\\\\&quot;Python\\\\&quot;,\\\\&quot;version\\\\&quot;:\\\\&quot;2.31.0\\\\&quot;},\\\\&quot;device\\\\&quot;:{\\\\&quot;type\\\\&quot;:\\\\&quot;bot\\\\&quot;}}&quot;,&quot;urlUgProAppIcon&quot;:&quot;https://tabs.ultimate-guitar.com/static/public/img/app_icons/icon_ug_pro_ver1693396252.png&quot;,&quot;withCritical&quot;:false,&quot;analytics&quot;:{&quot;userTrackerId&quot;:&quot;SA==&quot;},&quot;braintree&quot;:{&quot;environment&quot;:&quot;production&quot;,&quot;tokenizationKey&quot;:&quot;production_8htvrhhr_67vpx3rpxt6m5z7c&quot;,&quot;paypalClientId&quot;:&quot;ASwoeikdyflPIKFAC3U34ewfFVRE5-_p6qc1TTQG9g_sHNs3RP5Sq3pE_e7V2p0VTi-nJQuIA5ApP1XH&quot;,&quot;googlePayClientId&quot;:&quot;BCR2DN6TZPEKBZBZ&quot;},&quot;vimeo&quot;:{&quot;baseImagePath&quot;:&quot;https://cdn.ustatik.com/s3/ug.video.warm/preview/&quot;},&quot;hasStaticCache&quot;:0,&quot;rtAnalytics&quot;:{&quot;trackUrl&quot;:&quot;/components/ab/event&quot;,&quot;trackingEnabled&quot;:true,&quot;forceSendEvents&quot;:[&quot;Tab Favorite Add Click&quot;,&quot;Tab Rate Click&quot;,&quot;Tab View&quot;,&quot;Tab View 12s&quot;,&quot;Tab View 60s&quot;,&quot;Tab View 120s&quot;,&quot;Tab View 180s&quot;],&quot;tabToolLogging&quot;:true,&quot;samplerHeartbeat&quot;:5},&quot;xtz&quot;:{&quot;isActive&quot;:true,&quot;hasAccess&quot;:true,&quot;canToggle&quot;:false,&quot;feedbackChannel&quot;:null},&quot;jinba&quot;:{&quot;customTimings&quot;:[],&quot;appLabel&quot;:&quot;tab_page_chords&quot;,&quot;appLabelExp&quot;:&quot;null&quot;},&quot;metricaParams&quot;:{&quot;rights&quot;:0,&quot;proRights&quot;:0,&quot;coursesRights&quot;:0,&quot;singRights&quot;:0,&quot;u_id&quot;:&quot;SA==&quot;,&quot;auth&quot;:&quot;None&quot;,&quot;is_registered&quot;:0,&quot;ab&quot;:[]}},&quot;store&quot;:{&quot;page&quot;:{&quot;data&quot;:{&quot;mobile_device&quot;:null,&quot;show_rate_layer&quot;:false,&quot;tab&quot;:{&quot;id&quot;:4300502,&quot;song_id&quot;:13242935,&quot;song_name&quot;:&quot;3 - 0&quot;,&quot;artist_id&quot;:73225,&quot;artist_name&quot;:&quot;Les Ogres de Barback&quot;,&quot;type&quot;:&quot;Chords&quot;,&quot;part&quot;:&quot;&quot;,&quot;version&quot;:1,&quot;votes&quot;:3,&quot;rating&quot;:4.56735000000000024300561562995426356792449951171875,&quot;date&quot;:&quot;1660122847&quot;,&quot;status&quot;:&quot;approved&quot;,&quot;preset_id&quot;:0,&quot;tab_access_type&quot;:&quot;public&quot;,&quot;tp_version&quot;:0,&quot;tonality_name&quot;:&quot;&quot;,&quot;version_description&quot;:&quot;&quot;,&quot;verified&quot;:0,&quot;recording&quot;:{&quot;is_acoustic&quot;:0,&quot;tonality_name&quot;:&quot;&quot;,&quot;performance&quot;:null,&quot;recording_artists&quot;:[]},&quot;artist_url&quot;:&quot;https://www.ultimate-guitar.com/artist/les_ogres_de_barback_73225&quot;,&quot;tab_url&quot;:&quot;https://tabs.ultimate-guitar.com/tab/les-ogres-de-barback/3-0-chords-4300502&quot;,&quot;date_update&quot;:&quot;1660122847&quot;,&quot;user_id&quot;:16608626,&quot;user_iq&quot;:65,&quot;username&quot;:&quot;y-o-j&quot;,&quot;type_name&quot;:&quot;Chords&quot;,&quot;best_pro_tab_url&quot;:&quot;&quot;},&quot;backing_track_tip&quot;:false,&quot;tab_view&quot;:{&quot;wiki_tab&quot;:{&quot;content&quot;:&quot;[Verse 1]\\\\r\\\\n\\\\r\\\\n[tab][ch]C[/ch]                      [ch]Dm[/ch]                [ch]G[/ch]          [ch]C[/ch]\\\\r\\\\nY&#039;a Paris, la capitale, qui renifle son trou de balle,[/tab]\\\\r\\\\n[tab][ch]C[/ch]                      [ch]Dm[/ch]                [ch]G[/ch]          [ch]C[/ch]\\\\r\\\\nIntra-muros c&#039;est brillant, dehors c&#039;est pour les paysans.[/tab]\\\\r\\\\n[tab][ch]C[/ch]                      [ch]Dm[/ch]                [ch]G[/ch]          [ch]C[/ch]\\\\r\\\\nD&#039;ailleurs s&#039;il n&#039;en restait qu&#039;une, ce serait s&ucirc;r&#039;ment celle-l&agrave; :[/tab]\\\\r\\\\n[tab][ch]C[/ch]                      [ch]Dm[/ch]                [ch]G[/ch]          [ch]C[/ch]\\\\r\\\\nQu&#039;une aussi con que la lune et pr&eacute;tentieuse, comme il se doit.[/tab]\\\\r\\\\n[tab]       [ch]G[/ch]               [ch]C[/ch]                 [ch]G[/ch]            [ch]C[/ch]\\\\r\\\\nMais Paris, &ccedil;a reste en France, les Fran&ccedil;ais restent des Fran&ccedil;ais,[/tab]\\\\r\\\\n[tab]       [ch]Dm[/ch]             [ch]G[/ch]           [ch]G[/ch]           [ch]C[/ch]\\\\r\\\\nLes chevilles en &eacute;vidence, le nombril insatisfait ![/tab]\\\\r\\\\n\\\\r\\\\n[Verse 2]\\\\r\\\\n\\\\r\\\\n[tab][ch]C[/ch]                      [ch]Dm[/ch]                [ch]G[/ch]          [ch]C[/ch]\\\\r\\\\n&Agrave; Rennes o&ugrave; il fait bon vivre, j&#039;y ai vu - pardonnez-moi,[/tab]\\\\r\\\\n[tab][ch]C[/ch]                      [ch]Dm[/ch]                [ch]G[/ch]          [ch]C[/ch]\\\\r\\\\nDes masses de foules ivres, des seringues plein les bras,[/tab]\\\\r\\\\n[tab][ch]C[/ch]                      [ch]Dm[/ch]                [ch]G[/ch]          [ch]C[/ch]\\\\r\\\\nUn soir, une chose amusante, sur la route, croyez-moi :[/tab]\\\\r\\\\n[tab][ch]C[/ch]                      [ch]Dm[/ch]                [ch]G[/ch]          [ch]C[/ch]\\\\r\\\\nLa police qui plaisante d&#039;un cadavre sur le toit.[/tab]\\\\r\\\\n[tab]       [ch]G[/ch]               [ch]C[/ch]                 [ch]G[/ch]            [ch]C[/ch]\\\\r\\\\nMais Rennes, &ccedil;a reste en France, les Fran&ccedil;ais restent des Fran&ccedil;ais,[/tab]\\\\r\\\\n[tab]       [ch]Dm[/ch]             [ch]G[/ch]           [ch]G[/ch]           [ch]C[/ch]\\\\r\\\\nDes reins en convalescence, des poumons dans le regret.[/tab]\\\\r\\\\n\\\\r\\\\n[Verse 3]\\\\r\\\\n\\\\r\\\\n[tab][ch]C[/ch]                      [ch]Dm[/ch]                [ch]G[/ch]          [ch]C[/ch]\\\\r\\\\nPuis y&#039;a Bordeaux la bourgeoise avec son grand cru class&eacute;[/tab]\\\\r\\\\n[tab][ch]C[/ch]                      [ch]Dm[/ch]                [ch]G[/ch]          [ch]C[/ch]\\\\r\\\\nQue l&#039;on d&eacute;guste dans l&#039;extase, dans les grands lieux new-yorkais[/tab]\\\\r\\\\n[tab][ch]C[/ch]                      [ch]Dm[/ch]                [ch]G[/ch]          [ch]C[/ch]\\\\r\\\\nQui indique &agrave; sa m&eacute;moire ce qui est bon, ce qui est mauvais :[/tab]\\\\r\\\\n[tab][ch]C[/ch]                      [ch]Dm[/ch]                [ch]G[/ch]          [ch]C[/ch]\\\\r\\\\nSi pour Papon, c&#039;est un trou noir, le Girondin c&#039;est un succ&egrave;s.[/tab]\\\\r\\\\n[tab]       [ch]G[/ch]               [ch]C[/ch]                 [ch]G[/ch]            [ch]C[/ch]\\\\r\\\\nMais Bordeaux, &ccedil;a reste en France, les Fran&ccedil;ais restent des Fran&ccedil;ais[/tab]\\\\r\\\\n[tab]       [ch]Dm[/ch]             [ch]G[/ch]           [ch]G[/ch]           [ch]C[/ch]\\\\r\\\\nDes trouillards de gauche en transe ou des cons de droite muets.[/tab]\\\\r\\\\n\\\\r\\\\n[Verse 4]\\\\r\\\\n\\\\r\\\\n[tab][ch]C[/ch]                      [ch]Dm[/ch]                [ch]G[/ch]          [ch]C[/ch]\\\\r\\\\n&Agrave; Toulouse, la ville rose, peut-&ecirc;tre sont-ils un peu chauvins ?[/tab]\\\\r\\\\n[tab][ch]C[/ch]                      [ch]Dm[/ch]                [ch]G[/ch]          [ch]C[/ch]\\\\r\\\\nQuand ils jacassent pas du rose, ils te parlent des Toulousains,[/tab]\\\\r\\\\n[tab][ch]C[/ch]                      [ch]Dm[/ch]                [ch]G[/ch]          [ch]C[/ch]\\\\r\\\\nIls ont un patois bien s&ucirc;r, qu&#039;ils utilisent parfois,[/tab]\\\\r\\\\n[tab][ch]C[/ch]                      [ch]Dm[/ch]                [ch]G[/ch]          [ch]C[/ch]\\\\r\\\\nPour &eacute;crire sur les murs d&#039;une usine : &laquo; Plus jamais &ccedil;a &raquo;.[/tab]\\\\r\\\\n[tab]       [ch]G[/ch]               [ch]C[/ch]                 [ch]G[/ch]            [ch]C[/ch]\\\\r\\\\nMais Toulouse, &ccedil;a reste en France, les Fran&ccedil;ais restent des Fran&ccedil;ais,[/tab]\\\\r\\\\n[tab]       [ch]Dm[/ch]             [ch]G[/ch]           [ch]G[/ch]           [ch]C[/ch]\\\\r\\\\nDes canards qui l&#039;&eacute;t&eacute; dansent sur des rythmes &laquo; afro-laid &raquo;.[/tab]\\\\r\\\\n\\\\r\\\\n[Verse 5]\\\\r\\\\n\\\\r\\\\n[tab][ch]C[/ch]                      [ch]Dm[/ch]                [ch]G[/ch]          [ch]C[/ch]\\\\r\\\\nPuis il y a Marseille, celle qui a son port si charmant,[/tab]\\\\r\\\\n[tab][ch]C[/ch]                      [ch]Dm[/ch]                [ch]G[/ch]          [ch]C[/ch]\\\\r\\\\nSa M&eacute;diterran&eacute;e belle, sa sardine et ses harengs.[/tab]\\\\r\\\\n[tab][ch]C[/ch]                      [ch]Dm[/ch]                [ch]G[/ch]          [ch]C[/ch]\\\\r\\\\nComme un tout petit village, un hameau ensoleill&eacute;,[/tab]\\\\r\\\\n[tab][ch]C[/ch]                      [ch]Dm[/ch]                [ch]G[/ch]          [ch]C[/ch]\\\\r\\\\nQui n&#039;a qu&#039;un d&eacute;savantage : d&#039;&ecirc;tre rempli de Marseillais ![/tab]\\\\r\\\\n[tab]       [ch]G[/ch]               [ch]C[/ch]                 [ch]G[/ch]            [ch]C[/ch]\\\\r\\\\nMais Marseille, &ccedil;a reste en France, les Fran&ccedil;ais restent des Fran&ccedil;ais,[/tab]\\\\r\\\\n[tab]       [ch]Dm[/ch]             [ch]G[/ch]           [ch]G[/ch]           [ch]C[/ch]\\\\r\\\\nDes grandes gueules &agrave; qui l&#039;on pense, quand on veut avoir la paix.[/tab]\\\\r\\\\n\\\\r\\\\n[Verse 6]\\\\r\\\\n\\\\r\\\\n[tab][ch]C[/ch]                      [ch]Dm[/ch]                [ch]G[/ch]          [ch]C[/ch]\\\\r\\\\nEntre le Rh&ocirc;ne et la Sa&ocirc;ne, il y a Lyon et ses reflets.[/tab]\\\\r\\\\n[tab][ch]C[/ch]                      [ch]Dm[/ch]                [ch]G[/ch]          [ch]C[/ch]\\\\r\\\\nEn banlieue, il y a sa zone, ses odeurs et ses rejets.[/tab]\\\\r\\\\n[tab][ch]C[/ch]                      [ch]Dm[/ch]                [ch]G[/ch]          [ch]C[/ch]\\\\r\\\\nSa gastronomie connue, qui veut nous faire oublier[/tab]\\\\r\\\\n[tab][ch]C[/ch]                      [ch]Dm[/ch]                [ch]G[/ch]          [ch]C[/ch]\\\\r\\\\nPour ne pas &ecirc;tre d&eacute;&ccedil;us, tous ces scandales financiers.[/tab]\\\\r\\\\n[tab]       [ch]G[/ch]               [ch]C[/ch]                 [ch]G[/ch]            [ch]C[/ch]\\\\r\\\\nMais Lyon, &ccedil;a reste en France, les Fran&ccedil;ais restent des Fran&ccedil;ais.[/tab]\\\\r\\\\n[tab]       [ch]Dm[/ch]             [ch]G[/ch]           [ch]G[/ch]           [ch]C[/ch]\\\\r\\\\nDes bonnes bouffes en concurrence, des non-dits sur le palais.[/tab]\\\\r\\\\n\\\\r\\\\n[Verse 7]\\\\r\\\\n\\\\r\\\\n[tab][ch]C[/ch]                      [ch]Dm[/ch]                [ch]G[/ch]          [ch]C[/ch]\\\\r\\\\nLorsque j&#039;ai connu Strasbourg pour la toute premi&egrave;re fois[/tab]\\\\r\\\\n[tab][ch]C[/ch]                      [ch]Dm[/ch]                [ch]G[/ch]          [ch]C[/ch]\\\\r\\\\nJe pensais trouver l&#039;amour dans les rues de celle-l&agrave;[/tab]\\\\r\\\\n[tab][ch]C[/ch]                      [ch]Dm[/ch]                [ch]G[/ch]          [ch]C[/ch]\\\\r\\\\nMais il y eut soudain un doute dans cette ville un peu cruche[/tab]\\\\r\\\\n[tab][ch]C[/ch]                      [ch]Dm[/ch]                [ch]G[/ch]          [ch]C[/ch]\\\\r\\\\nO&ugrave; l&#039;on me parlait de choucroute, d&#039;Europe et de flamenkuche[/tab]\\\\r\\\\n[tab]       [ch]G[/ch]               [ch]C[/ch]                 [ch]G[/ch]            [ch]C[/ch]\\\\r\\\\nMais Strasbourg, &ccedil;a reste en France, les Fran&ccedil;ais restent des Fran&ccedil;ais[/tab]\\\\r\\\\n[tab]       [ch]Dm[/ch]             [ch]G[/ch]           [ch]G[/ch]           [ch]C[/ch]\\\\r\\\\nL&#039;&eacute;galit&eacute; en &laquo; free-lance &raquo;, l&#039;humanit&eacute; qui s&#039;essaie.[/tab]\\\\r\\\\n\\\\r\\\\n[Verse 8]\\\\r\\\\n\\\\r\\\\n[tab][ch]C[/ch]                      [ch]Dm[/ch]                [ch]G[/ch]          [ch]C[/ch]\\\\r\\\\nIl y a Lille dans le nord comme il y a le nord en Lille[/tab]\\\\r\\\\n[tab][ch]C[/ch]                      [ch]Dm[/ch]                [ch]G[/ch]          [ch]C[/ch]\\\\r\\\\nDes grands hommes gras et forts ou des consanguins d&eacute;biles[/tab]\\\\r\\\\n[tab][ch]C[/ch]                      [ch]Dm[/ch]                [ch]G[/ch]          [ch]C[/ch]\\\\r\\\\nLes grands projets plan&eacute;taires qui d&eacute;pensent sans se soucier[/tab]\\\\r\\\\n[tab][ch]C[/ch]                      [ch]Dm[/ch]                [ch]G[/ch]          [ch]C[/ch]\\\\r\\\\n&Agrave; deux pas de la mis&egrave;re des petits enfants min&eacute;s[/tab]\\\\r\\\\n[tab]       [ch]G[/ch]               [ch]C[/ch]                 [ch]G[/ch]            [ch]C[/ch]\\\\r\\\\nMais Lille, &ccedil;a reste en France, les Fran&ccedil;ais restent des Fran&ccedil;ais[/tab]\\\\r\\\\n[tab]       [ch]Dm[/ch]             [ch]G[/ch]           [ch]G[/ch]           [ch]C[/ch]\\\\r\\\\nDes terrils d&#039;arrogance, l&#039;in&eacute;galit&eacute; au sommet.[/tab]\\\\r\\\\n\\\\r\\\\n[Verse 9]\\\\r\\\\n\\\\r\\\\n[tab][ch]C[/ch]                      [ch]Dm[/ch]                [ch]G[/ch]          [ch]C[/ch]\\\\r\\\\nApr&egrave;s cet air g&eacute;ographe, une petite explication[/tab]\\\\r\\\\n[tab][ch]C[/ch]                      [ch]Dm[/ch]                [ch]G[/ch]          [ch]C[/ch]\\\\r\\\\nJe ne cherche pas les baffes, je ne cherche pas la baston[/tab]\\\\r\\\\n[tab][ch]C[/ch]                      [ch]Dm[/ch]                [ch]G[/ch]          [ch]C[/ch]\\\\r\\\\nMais lorsque je vois au loin qui agitent leurs drapeaux[/tab]\\\\r\\\\n[tab][ch]C[/ch]                      [ch]Dm[/ch]                [ch]G[/ch]          [ch]C[/ch]\\\\r\\\\nLa grande race des chauvins, juste &agrave; c&ocirc;t&eacute; des fachos,[/tab]\\\\r\\\\n\\\\r\\\\n[Verse 10]\\\\r\\\\n\\\\r\\\\n[tab][ch]C[/ch]                      [ch]Dm[/ch]                [ch]G[/ch]          [ch]C[/ch]\\\\r\\\\nBen, moi qui suis n&eacute; en France dans un bled incognito[/tab]\\\\r\\\\n[tab][ch]C[/ch]                      [ch]Dm[/ch]                [ch]G[/ch]          [ch]C[/ch]\\\\r\\\\nJe ne comprends pas la d&eacute;mence, je ne vois pas les id&eacute;aux[/tab]\\\\r\\\\n[tab][ch]C[/ch]                      [ch]Dm[/ch]                [ch]G[/ch]          [ch]C[/ch]\\\\r\\\\nDe ceux qui pensent la naissance, comme une attache, un ghetto[/tab]\\\\r\\\\n[tab][ch]C[/ch]                      [ch]Dm[/ch]                [ch]G[/ch]          [ch]C[/ch]\\\\r\\\\nPardonnez-moi cette offense et traduisez en ces mots :[/tab]\\\\r\\\\n\\\\r\\\\n[Outro]\\\\r\\\\n\\\\r\\\\n[tab]       [ch]G[/ch]               [ch]C[/ch]                 [ch]G[/ch]            [ch]C[/ch]\\\\r\\\\nIssu de la poussi&egrave;re, je m&#039;en retourne &agrave; la poussi&egrave;re[/tab]\\\\r\\\\n[tab]       [ch]Dm[/ch]             [ch]G[/ch]           [ch]G[/ch]           [ch]C[/ch]\\\\r\\\\nIssu de la plan&egrave;te terre, je m&#039;y prom&egrave;ne sans fronti&egrave;re ![/tab]\\\\r\\\\n[tab]       [ch]G[/ch]               [ch]C[/ch]                 [ch]G[/ch]            [ch]C[/ch]\\\\r\\\\nIssu de la poussi&egrave;re, on s&#039;en retourne &agrave; la poussi&egrave;re[/tab]\\\\r\\\\n[tab]       [ch]Dm[/ch]             [ch]G[/ch]           [ch]G[/ch]           [ch]C[/ch]\\\\r\\\\nIssu de la plan&egrave;te terre, on s&#039;y prom&egrave;ne sans fronti&egrave;re ![/tab]&quot;,&quot;revision_id&quot;:4,&quot;user_id&quot;:54289493,&quot;username&quot;:&quot;oshapolyakosha&quot;,&quot;date&quot;:1660122847},&quot;contributors&quot;:[],&quot;strummings&quot;:[],&quot;has_hq_description&quot;:0,&quot;blocked&quot;:false,&quot;adsupp_binary_blocked&quot;:null,&quot;meta&quot;:{&quot;tuning&quot;:{&quot;name&quot;:&quot;Standard&quot;,&quot;value&quot;:&quot;E A D G B E&quot;,&quot;index&quot;:1}},&quot;has_official_version&quot;:false,&quot;has_chord_pro&quot;:false,&quot;has_preset&quot;:false,&quot;versions&quot;:[],&quot;song_image&quot;:false,&quot;applicature&quot;:{&quot;C&quot;:[{&quot;id&quot;:&quot;x32010&quot;,&quot;listCapos&quot;:[],&quot;noteIndex&quot;:0,&quot;notes&quot;:[52,48,43,40,36,-1],&quot;frets&quot;:[0,1,0,2,3,-1],&quot;fingers&quot;:[0,1,0,2,3,0],&quot;fret&quot;:0,&quot;type&quot;:&quot;MAJOR&quot;,&quot;baseDisplayNote&quot;:&quot;&quot;},{&quot;id&quot;:&quot;x32013&quot;,&quot;listCapos&quot;:[],&quot;noteIndex&quot;:0,&quot;notes&quot;:[55,48,43,40,36,-1],&quot;frets&quot;:[3,1,0,2,3,-1],&quot;fingers&quot;:[4,1,0,2,3,0],&quot;fret&quot;:0,&quot;type&quot;:&quot;MAJOR&quot;,&quot;baseDisplayNote&quot;:&quot;&quot;},{&quot;id&quot;:&quot;x35553&quot;,&quot;listCapos&quot;:[{&quot;fret&quot;:3,&quot;startString&quot;:0,&quot;lastString&quot;:4,&quot;finger&quot;:1}],&quot;noteIndex&quot;:0,&quot;notes&quot;:[55,52,48,43,36,-1],&quot;frets&quot;:[3,5,5,5,3,-1],&quot;fingers&quot;:[0,4,3,2,0,0],&quot;fret&quot;:3,&quot;type&quot;:&quot;MAJOR&quot;,&quot;baseDisplayNote&quot;:&quot;&quot;},{&quot;id&quot;:&quot;81010988&quot;,&quot;listCapos&quot;:[{&quot;fret&quot;:8,&quot;startString&quot;:0,&quot;lastString&quot;:5,&quot;finger&quot;:1}],&quot;noteIndex&quot;:0,&quot;notes&quot;:[60,55,52,48,43,36],&quot;frets&quot;:[8,8,9,10,10,8],&quot;fingers&quot;:[0,0,2,4,3,0],&quot;fret&quot;:8,&quot;type&quot;:&quot;MAJOR&quot;,&quot;baseDisplayNote&quot;:&quot;&quot;},{&quot;id&quot;:&quot;xx10988&quot;,&quot;listCapos&quot;:[{&quot;fret&quot;:8,&quot;startString&quot;:0,&quot;lastString&quot;:1,&quot;finger&quot;:1}],&quot;noteIndex&quot;:0,&quot;notes&quot;:[60,55,52,48,-1,-1],&quot;frets&quot;:[8,8,9,10,-1,-1],&quot;fingers&quot;:[0,0,2,3,0,0],&quot;fret&quot;:8,&quot;type&quot;:&quot;MAJOR&quot;,&quot;baseDisplayNote&quot;:&quot;&quot;},{&quot;id&quot;:&quot;xx10121312&quot;,&quot;listCapos&quot;:[],&quot;noteIndex&quot;:0,&quot;notes&quot;:[64,60,55,48,-1,-1],&quot;frets&quot;:[12,13,12,10,-1,-1],&quot;fingers&quot;:[3,4,2,1,0,0],&quot;fret&quot;:10,&quot;type&quot;:&quot;MAJOR&quot;,&quot;baseDisplayNote&quot;:&quot;&quot;},{&quot;id&quot;:&quot;x3201x&quot;,&quot;listCapos&quot;:[],&quot;noteIndex&quot;:0,&quot;notes&quot;:[-1,48,43,40,36,-1],&quot;frets&quot;:[-1,1,0,2,3,-1],&quot;fingers&quot;:[0,1,0,2,3,0],&quot;fret&quot;:0,&quot;type&quot;:&quot;MAJOR&quot;,&quot;baseDisplayNote&quot;:&quot;&quot;},{&quot;id&quot;:&quot;x3555x&quot;,&quot;listCapos&quot;:[{&quot;fret&quot;:5,&quot;startString&quot;:1,&quot;lastString&quot;:3,&quot;finger&quot;:3}],&quot;noteIndex&quot;:0,&quot;notes&quot;:[-1,52,48,43,36,-1],&quot;frets&quot;:[-1,5,5,5,3,-1],&quot;fingers&quot;:[0,0,0,0,1,0],&quot;fret&quot;:3,&quot;type&quot;:&quot;MAJOR&quot;,&quot;baseDisplayNote&quot;:&quot;&quot;},{&quot;id&quot;:&quot;87555x&quot;,&quot;listCapos&quot;:[{&quot;fret&quot;:5,&quot;startString&quot;:1,&quot;lastString&quot;:3,&quot;finger&quot;:1}],&quot;noteIndex&quot;:0,&quot;notes&quot;:[-1,52,48,43,40,36],&quot;frets&quot;:[-1,5,5,5,7,8],&quot;fingers&quot;:[0,0,0,0,3,4],&quot;fret&quot;:5,&quot;type&quot;:&quot;MAJOR&quot;,&quot;baseDisplayNote&quot;:&quot;&quot;},{&quot;id&quot;:&quot;8101098x&quot;,&quot;listCapos&quot;:[{&quot;fret&quot;:8,&quot;startString&quot;:1,&quot;lastString&quot;:5,&quot;finger&quot;:1}],&quot;noteIndex&quot;:0,&quot;notes&quot;:[-1,55,52,48,43,36],&quot;frets&quot;:[-1,8,9,10,10,8],&quot;fingers&quot;:[0,0,2,4,3,0],&quot;fret&quot;:8,&quot;type&quot;:&quot;MAJOR&quot;,&quot;baseDisplayNote&quot;:&quot;&quot;},{&quot;id&quot;:&quot;8755xx&quot;,&quot;listCapos&quot;:[{&quot;fret&quot;:5,&quot;startString&quot;:2,&quot;lastString&quot;:3,&quot;finger&quot;:1}],&quot;noteIndex&quot;:0,&quot;notes&quot;:[-1,-1,48,43,40,36],&quot;frets&quot;:[-1,-1,5,5,7,8],&quot;fingers&quot;:[0,0,0,0,3,4],&quot;fret&quot;:5,&quot;type&quot;:&quot;MAJOR&quot;,&quot;baseDisplayNote&quot;:&quot;&quot;},{&quot;id&quot;:&quot;810109xx&quot;,&quot;listCapos&quot;:[],&quot;noteIndex&quot;:0,&quot;notes&quot;:[-1,-1,52,48,43,36],&quot;frets&quot;:[-1,-1,9,10,10,8],&quot;fingers&quot;:[0,0,2,4,3,1],&quot;fret&quot;:8,&quot;type&quot;:&quot;MAJOR&quot;,&quot;baseDisplayNote&quot;:&quot;&quot;},{&quot;id&quot;:&quot;x3x010&quot;,&quot;listCapos&quot;:[],&quot;noteIndex&quot;:0,&quot;notes&quot;:[52,48,43,-1,36,-1],&quot;frets&quot;:[0,1,0,-1,3,-1],&quot;fingers&quot;:[0,1,0,0,3,0],&quot;fret&quot;:0,&quot;type&quot;:&quot;MAJOR&quot;,&quot;baseDisplayNote&quot;:&quot;&quot;},{&quot;id&quot;:&quot;x3x553&quot;,&quot;listCapos&quot;:[{&quot;fret&quot;:3,&quot;startString&quot;:0,&quot;lastString&quot;:4,&quot;finger&quot;:1}],&quot;noteIndex&quot;:0,&quot;notes&quot;:[55,52,48,-1,36,-1],&quot;frets&quot;:[3,5,5,-1,3,-1],&quot;fingers&quot;:[0,4,3,0,0,0],&quot;fret&quot;:3,&quot;type&quot;:&quot;MAJOR&quot;,&quot;baseDisplayNote&quot;:&quot;&quot;},{&quot;id&quot;:&quot;8x10988&quot;,&quot;listCapos&quot;:[{&quot;fret&quot;:8,&quot;startString&quot;:0,&quot;lastString&quot;:5,&quot;finger&quot;:1}],&quot;noteIndex&quot;:0,&quot;notes&quot;:[60,55,52,48,-1,36],&quot;frets&quot;:[8,8,9,10,-1,8],&quot;fingers&quot;:[0,0,2,3,0,0],&quot;fret&quot;:8,&quot;type&quot;:&quot;MAJOR&quot;,&quot;baseDisplayNote&quot;:&quot;&quot;},{&quot;id&quot;:&quot;8x555x&quot;,&quot;listCapos&quot;:[{&quot;fret&quot;:5,&quot;startString&quot;:1,&quot;lastString&quot;:3,&quot;finger&quot;:1}],&quot;noteIndex&quot;:0,&quot;notes&quot;:[-1,52,48,43,-1,36],&quot;frets&quot;:[-1,5,5,5,-1,8],&quot;fingers&quot;:[0,0,0,0,0,4],&quot;fret&quot;:5,&quot;type&quot;:&quot;MAJOR&quot;,&quot;baseDisplayNote&quot;:&quot;&quot;},{&quot;id&quot;:&quot;8x1098x&quot;,&quot;listCapos&quot;:[{&quot;fret&quot;:8,&quot;startString&quot;:1,&quot;lastString&quot;:5,&quot;finger&quot;:1}],&quot;noteIndex&quot;:0,&quot;notes&quot;:[-1,55,52,48,-1,36],&quot;frets&quot;:[-1,8,9,10,-1,8],&quot;fingers&quot;:[0,0,2,3,0,0],&quot;fret&quot;:8,&quot;type&quot;:&quot;MAJOR&quot;,&quot;baseDisplayNote&quot;:&quot;&quot;}],&quot;Dm&quot;:[{&quot;id&quot;:&quot;xx0231&quot;,&quot;listCapos&quot;:[],&quot;noteIndex&quot;:2,&quot;notes&quot;:[53,50,45,38,-1,-1],&quot;frets&quot;:[1,3,2,0,-1,-1],&quot;fingers&quot;:[1,3,2,0,0,0],&quot;fret&quot;:0,&quot;type&quot;:&quot;MINOR&quot;,&quot;baseDisplayNote&quot;:&quot;&quot;},{&quot;id&quot;:&quot;xx0765&quot;,&quot;listCapos&quot;:[],&quot;noteIndex&quot;:2,&quot;notes&quot;:[57,53,50,38,-1,-1],&quot;frets&quot;:[5,6,7,0,-1,-1],&quot;fingers&quot;:[1,2,3,0,0,0],&quot;fret&quot;:5,&quot;type&quot;:&quot;MINOR&quot;,&quot;baseDisplayNote&quot;:&quot;&quot;},{&quot;id&quot;:&quot;x57765&quot;,&quot;listCapos&quot;:[{&quot;fret&quot;:5,&quot;startString&quot;:0,&quot;lastString&quot;:4,&quot;finger&quot;:1}],&quot;noteIndex&quot;:2,&quot;notes&quot;:[57,53,50,45,38,-1],&quot;frets&quot;:[5,6,7,7,5,-1],&quot;fingers&quot;:[0,2,4,3,0,0],&quot;fret&quot;:5,&quot;type&quot;:&quot;MINOR&quot;,&quot;baseDisplayNote&quot;:&quot;&quot;},{&quot;id&quot;:&quot;xx0101010&quot;,&quot;listCapos&quot;:[{&quot;fret&quot;:10,&quot;startString&quot;:0,&quot;lastString&quot;:2,&quot;finger&quot;:1}],&quot;noteIndex&quot;:2,&quot;notes&quot;:[62,57,53,38,-1,-1],&quot;frets&quot;:[10,10,10,0,-1,-1],&quot;fingers&quot;:[0,0,0,0,0,0],&quot;fret&quot;:10,&quot;type&quot;:&quot;MINOR&quot;,&quot;baseDisplayNote&quot;:&quot;&quot;},{&quot;id&quot;:&quot;xx0101013&quot;,&quot;listCapos&quot;:[{&quot;fret&quot;:10,&quot;startString&quot;:1,&quot;lastString&quot;:2,&quot;finger&quot;:1}],&quot;noteIndex&quot;:2,&quot;notes&quot;:[65,57,53,38,-1,-1],&quot;frets&quot;:[13,10,10,0,-1,-1],&quot;fingers&quot;:[4,0,0,0,0,0],&quot;fret&quot;:10,&quot;type&quot;:&quot;MINOR&quot;,&quot;baseDisplayNote&quot;:&quot;&quot;},{&quot;id&quot;:&quot;101212101010&quot;,&quot;listCapos&quot;:[{&quot;fret&quot;:10,&quot;startString&quot;:0,&quot;lastString&quot;:5,&quot;finger&quot;:1}],&quot;noteIndex&quot;:2,&quot;notes&quot;:[62,57,53,50,45,38],&quot;frets&quot;:[10,10,10,12,12,10],&quot;fingers&quot;:[0,0,0,4,3,0],&quot;fret&quot;:10,&quot;type&quot;:&quot;MINOR&quot;,&quot;baseDisplayNote&quot;:&quot;&quot;},{&quot;id&quot;:&quot;101212101013&quot;,&quot;listCapos&quot;:[{&quot;fret&quot;:10,&quot;startString&quot;:1,&quot;lastString&quot;:5,&quot;finger&quot;:1}],&quot;noteIndex&quot;:2,&quot;notes&quot;:[65,57,53,50,45,38],&quot;frets&quot;:[13,10,10,12,12,10],&quot;fingers&quot;:[4,0,0,3,2,0],&quot;fret&quot;:10,&quot;type&quot;:&quot;MINOR&quot;,&quot;baseDisplayNote&quot;:&quot;&quot;},{&quot;id&quot;:&quot;xx12101010&quot;,&quot;listCapos&quot;:[{&quot;fret&quot;:10,&quot;startString&quot;:0,&quot;lastString&quot;:2,&quot;finger&quot;:1}],&quot;noteIndex&quot;:2,&quot;notes&quot;:[62,57,53,50,-1,-1],&quot;frets&quot;:[10,10,10,12,-1,-1],&quot;fingers&quot;:[0,0,0,3,0,0],&quot;fret&quot;:10,&quot;type&quot;:&quot;MINOR&quot;,&quot;baseDisplayNote&quot;:&quot;&quot;},{&quot;id&quot;:&quot;xx12101013&quot;,&quot;listCapos&quot;:[{&quot;fret&quot;:10,&quot;startString&quot;:1,&quot;lastString&quot;:2,&quot;finger&quot;:1}],&quot;noteIndex&quot;:2,&quot;notes&quot;:[65,57,53,50,-1,-1],&quot;frets&quot;:[13,10,10,12,-1,-1],&quot;fingers&quot;:[4,0,0,3,0,0],&quot;fret&quot;:10,&quot;type&quot;:&quot;MINOR&quot;,&quot;baseDisplayNote&quot;:&quot;&quot;},{&quot;id&quot;:&quot;x5776x&quot;,&quot;listCapos&quot;:[],&quot;noteIndex&quot;:2,&quot;notes&quot;:[-1,53,50,45,38,-1],&quot;frets&quot;:[-1,6,7,7,5,-1],&quot;fingers&quot;:[0,2,4,3,1,0],&quot;fret&quot;:5,&quot;type&quot;:&quot;MINOR&quot;,&quot;baseDisplayNote&quot;:&quot;&quot;},{&quot;id&quot;:&quot;1012121010x&quot;,&quot;listCapos&quot;:[{&quot;fret&quot;:10,&quot;startString&quot;:1,&quot;lastString&quot;:5,&quot;finger&quot;:1}],&quot;noteIndex&quot;:2,&quot;notes&quot;:[-1,57,53,50,45,38],&quot;frets&quot;:[-1,10,10,12,12,10],&quot;fingers&quot;:[0,0,0,4,3,0],&quot;fret&quot;:10,&quot;type&quot;:&quot;MINOR&quot;,&quot;baseDisplayNote&quot;:&quot;&quot;},{&quot;id&quot;:&quot;10877xx&quot;,&quot;listCapos&quot;:[{&quot;fret&quot;:7,&quot;startString&quot;:2,&quot;lastString&quot;:3,&quot;finger&quot;:1}],&quot;noteIndex&quot;:2,&quot;notes&quot;:[-1,-1,50,45,41,38],&quot;frets&quot;:[-1,-1,7,7,8,10],&quot;fingers&quot;:[0,0,0,0,2,4],&quot;fret&quot;:7,&quot;type&quot;:&quot;MINOR&quot;,&quot;baseDisplayNote&quot;:&quot;&quot;},{&quot;id&quot;:&quot;10121210xx&quot;,&quot;listCapos&quot;:[{&quot;fret&quot;:10,&quot;startString&quot;:2,&quot;lastString&quot;:5,&quot;finger&quot;:1}],&quot;noteIndex&quot;:2,&quot;notes&quot;:[-1,-1,53,50,45,38],&quot;frets&quot;:[-1,-1,10,12,12,10],&quot;fingers&quot;:[0,0,0,4,3,0],&quot;fret&quot;:10,&quot;type&quot;:&quot;MINOR&quot;,&quot;baseDisplayNote&quot;:&quot;&quot;},{&quot;id&quot;:&quot;x5x765&quot;,&quot;listCapos&quot;:[{&quot;fret&quot;:5,&quot;startString&quot;:0,&quot;lastString&quot;:4,&quot;finger&quot;:1}],&quot;noteIndex&quot;:2,&quot;notes&quot;:[57,53,50,-1,38,-1],&quot;frets&quot;:[5,6,7,-1,5,-1],&quot;fingers&quot;:[0,2,3,0,0,0],&quot;fret&quot;:5,&quot;type&quot;:&quot;MINOR&quot;,&quot;baseDisplayNote&quot;:&quot;&quot;},{&quot;id&quot;:&quot;10x12101010&quot;,&quot;listCapos&quot;:[{&quot;fret&quot;:10,&quot;startString&quot;:0,&quot;lastString&quot;:5,&quot;finger&quot;:1}],&quot;noteIndex&quot;:2,&quot;notes&quot;:[62,57,53,50,-1,38],&quot;frets&quot;:[10,10,10,12,-1,10],&quot;fingers&quot;:[0,0,0,3,0,0],&quot;fret&quot;:10,&quot;type&quot;:&quot;MINOR&quot;,&quot;baseDisplayNote&quot;:&quot;&quot;},{&quot;id&quot;:&quot;10x12101013&quot;,&quot;listCapos&quot;:[{&quot;fret&quot;:10,&quot;startString&quot;:1,&quot;lastString&quot;:5,&quot;finger&quot;:1}],&quot;noteIndex&quot;:2,&quot;notes&quot;:[65,57,53,50,-1,38],&quot;frets&quot;:[13,10,10,12,-1,10],&quot;fingers&quot;:[4,0,0,3,0,0],&quot;fret&quot;:10,&quot;type&quot;:&quot;MINOR&quot;,&quot;baseDisplayNote&quot;:&quot;&quot;},{&quot;id&quot;:&quot;10x121010x&quot;,&quot;listCapos&quot;:[{&quot;fret&quot;:10,&quot;startString&quot;:1,&quot;lastString&quot;:5,&quot;finger&quot;:1}],&quot;noteIndex&quot;:2,&quot;notes&quot;:[-1,57,53,50,-1,38],&quot;frets&quot;:[-1,10,10,12,-1,10],&quot;fingers&quot;:[0,0,0,3,0,0],&quot;fret&quot;:10,&quot;type&quot;:&quot;MINOR&quot;,&quot;baseDisplayNote&quot;:&quot;&quot;}],&quot;G&quot;:[{&quot;id&quot;:&quot;320003&quot;,&quot;listCapos&quot;:[],&quot;noteIndex&quot;:7,&quot;notes&quot;:[55,47,43,38,35,31],&quot;frets&quot;:[3,0,0,0,2,3],&quot;fingers&quot;:[3,0,0,0,1,2],&quot;fret&quot;:0,&quot;type&quot;:&quot;MAJOR&quot;,&quot;baseDisplayNote&quot;:&quot;&quot;},{&quot;id&quot;:&quot;320033&quot;,&quot;listCapos&quot;:[],&quot;noteIndex&quot;:7,&quot;notes&quot;:[55,50,43,38,35,31],&quot;frets&quot;:[3,3,0,0,2,3],&quot;fingers&quot;:[4,3,0,0,1,2],&quot;fret&quot;:0,&quot;type&quot;:&quot;MAJOR&quot;,&quot;baseDisplayNote&quot;:&quot;&quot;},{&quot;id&quot;:&quot;320403&quot;,&quot;listCapos&quot;:[],&quot;noteIndex&quot;:7,&quot;notes&quot;:[55,47,47,38,35,31],&quot;frets&quot;:[3,0,4,0,2,3],&quot;fingers&quot;:[3,0,4,0,1,2],&quot;fret&quot;:0,&quot;type&quot;:&quot;MAJOR&quot;,&quot;baseDisplayNote&quot;:&quot;&quot;},{&quot;id&quot;:&quot;355433&quot;,&quot;listCapos&quot;:[{&quot;fret&quot;:3,&quot;startString&quot;:0,&quot;lastString&quot;:5,&quot;finger&quot;:1}],&quot;noteIndex&quot;:7,&quot;notes&quot;:[55,50,47,43,38,31],&quot;frets&quot;:[3,3,4,5,5,3],&quot;fingers&quot;:[0,0,2,4,3,0],&quot;fret&quot;:3,&quot;type&quot;:&quot;MAJOR&quot;,&quot;baseDisplayNote&quot;:&quot;&quot;},{&quot;id&quot;:&quot;xx5433&quot;,&quot;listCapos&quot;:[{&quot;fret&quot;:3,&quot;startString&quot;:0,&quot;lastString&quot;:1,&quot;finger&quot;:1}],&quot;noteIndex&quot;:7,&quot;notes&quot;:[55,50,47,43,-1,-1],&quot;frets&quot;:[3,3,4,5,-1,-1],&quot;fingers&quot;:[0,0,2,3,0,0],&quot;fret&quot;:3,&quot;type&quot;:&quot;MAJOR&quot;,&quot;baseDisplayNote&quot;:&quot;&quot;},{&quot;id&quot;:&quot;xx5787&quot;,&quot;listCapos&quot;:[],&quot;noteIndex&quot;:7,&quot;notes&quot;:[59,55,50,43,-1,-1],&quot;frets&quot;:[7,8,7,5,-1,-1],&quot;fingers&quot;:[3,4,2,1,0,0],&quot;fret&quot;:5,&quot;type&quot;:&quot;MAJOR&quot;,&quot;baseDisplayNote&quot;:&quot;&quot;},{&quot;id&quot;:&quot;x109787&quot;,&quot;listCapos&quot;:[{&quot;fret&quot;:7,&quot;startString&quot;:0,&quot;lastString&quot;:2,&quot;finger&quot;:1}],&quot;noteIndex&quot;:7,&quot;notes&quot;:[59,55,50,47,43,-1],&quot;frets&quot;:[7,8,7,9,10,-1],&quot;fingers&quot;:[0,2,0,3,4,0],&quot;fret&quot;:7,&quot;type&quot;:&quot;MAJOR&quot;,&quot;baseDisplayNote&quot;:&quot;&quot;},{&quot;id&quot;:&quot;x1012121210&quot;,&quot;listCapos&quot;:[{&quot;fret&quot;:10,&quot;startString&quot;:0,&quot;lastString&quot;:4,&quot;finger&quot;:1}],&quot;noteIndex&quot;:7,&quot;notes&quot;:[62,59,55,50,43,-1],&quot;frets&quot;:[10,12,12,12,10,-1],&quot;fingers&quot;:[0,4,3,2,0,0],&quot;fret&quot;:10,&quot;type&quot;:&quot;MAJOR&quot;,&quot;baseDisplayNote&quot;:&quot;&quot;},{&quot;id&quot;:&quot;32000x&quot;,&quot;listCapos&quot;:[],&quot;noteIndex&quot;:7,&quot;notes&quot;:[-1,47,43,38,35,31],&quot;frets&quot;:[-1,0,0,0,2,3],&quot;fingers&quot;:[0,0,0,0,1,2],&quot;fret&quot;:0,&quot;type&quot;:&quot;MAJOR&quot;,&quot;baseDisplayNote&quot;:&quot;&quot;},{&quot;id&quot;:&quot;32003x&quot;,&quot;listCapos&quot;:[],&quot;noteIndex&quot;:7,&quot;notes&quot;:[-1,50,43,38,35,31],&quot;frets&quot;:[-1,3,0,0,2,3],&quot;fingers&quot;:[0,3,0,0,1,2],&quot;fret&quot;:0,&quot;type&quot;:&quot;MAJOR&quot;,&quot;baseDisplayNote&quot;:&quot;&quot;},{&quot;id&quot;:&quot;32040x&quot;,&quot;listCapos&quot;:[],&quot;noteIndex&quot;:7,&quot;notes&quot;:[-1,47,47,38,35,31],&quot;frets&quot;:[-1,0,4,0,2,3],&quot;fingers&quot;:[0,0,3,0,1,2],&quot;fret&quot;:0,&quot;type&quot;:&quot;MAJOR&quot;,&quot;baseDisplayNote&quot;:&quot;&quot;},{&quot;id&quot;:&quot;32043x&quot;,&quot;listCapos&quot;:[],&quot;noteIndex&quot;:7,&quot;notes&quot;:[-1,50,47,38,35,31],&quot;frets&quot;:[-1,3,4,0,2,3],&quot;fingers&quot;:[0,3,4,0,1,2],&quot;fret&quot;:0,&quot;type&quot;:&quot;MAJOR&quot;,&quot;baseDisplayNote&quot;:&quot;&quot;},{&quot;id&quot;:&quot;35543x&quot;,&quot;listCapos&quot;:[{&quot;fret&quot;:3,&quot;startString&quot;:1,&quot;lastString&quot;:5,&quot;finger&quot;:1}],&quot;noteIndex&quot;:7,&quot;notes&quot;:[-1,50,47,43,38,31],&quot;frets&quot;:[-1,3,4,5,5,3],&quot;fingers&quot;:[0,0,2,4,3,0],&quot;fret&quot;:3,&quot;type&quot;:&quot;MAJOR&quot;,&quot;baseDisplayNote&quot;:&quot;&quot;},{&quot;id&quot;:&quot;x10978x&quot;,&quot;listCapos&quot;:[],&quot;noteIndex&quot;:7,&quot;notes&quot;:[-1,55,50,47,43,-1],&quot;frets&quot;:[-1,8,7,9,10,-1],&quot;fingers&quot;:[0,2,1,3,4,0],&quot;fret&quot;:7,&quot;type&quot;:&quot;MAJOR&quot;,&quot;baseDisplayNote&quot;:&quot;&quot;},{&quot;id&quot;:&quot;x10121212x&quot;,&quot;listCapos&quot;:[{&quot;fret&quot;:12,&quot;startString&quot;:1,&quot;lastString&quot;:3,&quot;finger&quot;:3}],&quot;noteIndex&quot;:7,&quot;notes&quot;:[-1,59,55,50,43,-1],&quot;frets&quot;:[-1,12,12,12,10,-1],&quot;fingers&quot;:[0,0,0,0,1,0],&quot;fret&quot;:10,&quot;type&quot;:&quot;MAJOR&quot;,&quot;baseDisplayNote&quot;:&quot;&quot;},{&quot;id&quot;:&quot;3200xx&quot;,&quot;listCapos&quot;:[],&quot;noteIndex&quot;:7,&quot;notes&quot;:[-1,-1,43,38,35,31],&quot;frets&quot;:[-1,-1,0,0,2,3],&quot;fingers&quot;:[0,0,0,0,1,2],&quot;fret&quot;:0,&quot;type&quot;:&quot;MAJOR&quot;,&quot;baseDisplayNote&quot;:&quot;&quot;},{&quot;id&quot;:&quot;3204xx&quot;,&quot;listCapos&quot;:[],&quot;noteIndex&quot;:7,&quot;notes&quot;:[-1,-1,47,38,35,31],&quot;frets&quot;:[-1,-1,4,0,2,3],&quot;fingers&quot;:[0,0,3,0,1,2],&quot;fret&quot;:0,&quot;type&quot;:&quot;MAJOR&quot;,&quot;baseDisplayNote&quot;:&quot;&quot;},{&quot;id&quot;:&quot;3554xx&quot;,&quot;listCapos&quot;:[],&quot;noteIndex&quot;:7,&quot;notes&quot;:[-1,-1,47,43,38,31],&quot;frets&quot;:[-1,-1,4,5,5,3],&quot;fingers&quot;:[0,0,2,4,3,1],&quot;fret&quot;:3,&quot;type&quot;:&quot;MAJOR&quot;,&quot;baseDisplayNote&quot;:&quot;&quot;},{&quot;id&quot;:&quot;3x0003&quot;,&quot;listCapos&quot;:[],&quot;noteIndex&quot;:7,&quot;notes&quot;:[55,47,43,38,-1,31],&quot;frets&quot;:[3,0,0,0,-1,3],&quot;fingers&quot;:[2,0,0,0,0,1],&quot;fret&quot;:3,&quot;type&quot;:&quot;MAJOR&quot;,&quot;baseDisplayNote&quot;:&quot;&quot;},{&quot;id&quot;:&quot;3x0403&quot;,&quot;listCapos&quot;:[],&quot;noteIndex&quot;:7,&quot;notes&quot;:[55,47,47,38,-1,31],&quot;frets&quot;:[3,0,4,0,-1,3],&quot;fingers&quot;:[2,0,3,0,0,1],&quot;fret&quot;:3,&quot;type&quot;:&quot;MAJOR&quot;,&quot;baseDisplayNote&quot;:&quot;&quot;},{&quot;id&quot;:&quot;3x5433&quot;,&quot;listCapos&quot;:[{&quot;fret&quot;:3,&quot;startString&quot;:0,&quot;lastString&quot;:5,&quot;finger&quot;:1}],&quot;noteIndex&quot;:7,&quot;notes&quot;:[55,50,47,43,-1,31],&quot;frets&quot;:[3,3,4,5,-1,3],&quot;fingers&quot;:[0,0,2,3,0,0],&quot;fret&quot;:3,&quot;type&quot;:&quot;MAJOR&quot;,&quot;baseDisplayNote&quot;:&quot;&quot;},{&quot;id&quot;:&quot;x10x787&quot;,&quot;listCapos&quot;:[{&quot;fret&quot;:7,&quot;startString&quot;:0,&quot;lastString&quot;:2,&quot;finger&quot;:1}],&quot;noteIndex&quot;:7,&quot;notes&quot;:[59,55,50,-1,43,-1],&quot;frets&quot;:[7,8,7,-1,10,-1],&quot;fingers&quot;:[0,2,0,0,4,0],&quot;fret&quot;:7,&quot;type&quot;:&quot;MAJOR&quot;,&quot;baseDisplayNote&quot;:&quot;&quot;},{&quot;id&quot;:&quot;x10x121210&quot;,&quot;listCapos&quot;:[{&quot;fret&quot;:10,&quot;startString&quot;:0,&quot;lastString&quot;:4,&quot;finger&quot;:1}],&quot;noteIndex&quot;:7,&quot;notes&quot;:[62,59,55,-1,43,-1],&quot;frets&quot;:[10,12,12,-1,10,-1],&quot;fingers&quot;:[0,4,3,0,0,0],&quot;fret&quot;:10,&quot;type&quot;:&quot;MAJOR&quot;,&quot;baseDisplayNote&quot;:&quot;&quot;},{&quot;id&quot;:&quot;3x000x&quot;,&quot;listCapos&quot;:[],&quot;noteIndex&quot;:7,&quot;notes&quot;:[-1,47,43,38,-1,31],&quot;frets&quot;:[-1,0,0,0,-1,3],&quot;fingers&quot;:[0,0,0,0,0,1],&quot;fret&quot;:3,&quot;type&quot;:&quot;MAJOR&quot;,&quot;baseDisplayNote&quot;:&quot;&quot;},{&quot;id&quot;:&quot;3x040x&quot;,&quot;listCapos&quot;:[],&quot;noteIndex&quot;:7,&quot;notes&quot;:[-1,47,47,38,-1,31],&quot;frets&quot;:[-1,0,4,0,-1,3],&quot;fingers&quot;:[0,0,2,0,0,1],&quot;fret&quot;:3,&quot;type&quot;:&quot;MAJOR&quot;,&quot;baseDisplayNote&quot;:&quot;&quot;},{&quot;id&quot;:&quot;3x043x&quot;,&quot;listCapos&quot;:[],&quot;noteIndex&quot;:7,&quot;notes&quot;:[-1,50,47,38,-1,31],&quot;frets&quot;:[-1,3,4,0,-1,3],&quot;fingers&quot;:[0,2,3,0,0,1],&quot;fret&quot;:3,&quot;type&quot;:&quot;MAJOR&quot;,&quot;baseDisplayNote&quot;:&quot;&quot;},{&quot;id&quot;:&quot;3x543x&quot;,&quot;listCapos&quot;:[{&quot;fret&quot;:3,&quot;startString&quot;:1,&quot;lastString&quot;:5,&quot;finger&quot;:1}],&quot;noteIndex&quot;:7,&quot;notes&quot;:[-1,50,47,43,-1,31],&quot;frets&quot;:[-1,3,4,5,-1,3],&quot;fingers&quot;:[0,0,2,3,0,0],&quot;fret&quot;:3,&quot;type&quot;:&quot;MAJOR&quot;,&quot;baseDisplayNote&quot;:&quot;&quot;}]},&quot;piano_inversions&quot;:null,&quot;last_comments&quot;:null,&quot;comments&quot;:0,&quot;stats&quot;:{&quot;view_total&quot;:193,&quot;favorites_count&quot;:19},&quot;tab_corrects&quot;:[],&quot;is_simplify_available&quot;:false,&quot;can_edit_tab&quot;:false,&quot;can_edit_strumming&quot;:false,&quot;can_send_tab_stats&quot;:true,&quot;official_backingtrack&quot;:null,&quot;tab_search_link&quot;:&quot;https://www.ultimate-guitar.com/search.php?band_name=Les+Ogres+de+Barback&amp;song_name=3+-+0&amp;type%5B0%5D=200&amp;type%5B1%5D=300&quot;,&quot;wiki_tab_user_group_id&quot;:26,&quot;wiki_tab_user_iq&quot;:117470,&quot;user_group_id&quot;:12,&quot;count_rating&quot;:3,&quot;encode_strummings&quot;:&quot;&quot;,&quot;alert&quot;:null,&quot;official_backingtrack_url&quot;:null,&quot;official_tab_url&quot;:null,&quot;official_tab_want&quot;:null,&quot;tab_manually_highlighted&quot;:false,&quot;pro_tab_onbording&quot;:null,&quot;smart_auto_scroll_available&quot;:false,&quot;lyrics_lines&quot;:[],&quot;video_feed&quot;:{&quot;total_count&quot;:0,&quot;artist_total_count&quot;:9},&quot;ug_difficulty&quot;:&quot;absolute beginner&quot;,&quot;new_ug_difficulty&quot;:null,&quot;tracking&quot;:{&quot;ctx&quot;:{&quot;user_registered&quot;:0,&quot;url&quot;:&quot;https://tabs.ultimate-guitar.com/tab/les-ogres-de-barback/3-0-chords-4300502&quot;,&quot;referer&quot;:&quot;&quot;,&quot;utm_source&quot;:&quot;&quot;,&quot;utm_medium&quot;:&quot;&quot;,&quot;utm_campaign&quot;:&quot;&quot;,&quot;utm_content&quot;:&quot;&quot;,&quot;utm_term&quot;:&quot;&quot;,&quot;tab_id&quot;:4300502,&quot;tab_type&quot;:&quot;Chords&quot;,&quot;tab_created&quot;:1659774190,&quot;tab_open_source&quot;:&quot;&quot;,&quot;tab_views&quot;:193,&quot;tab_favourites_count&quot;:19,&quot;tab_version&quot;:1,&quot;tab_ratings_count&quot;:3,&quot;tab_rating&quot;:4.56735000000000024300561562995426356792449951171875,&quot;tab_ug_difficulty&quot;:&quot;absolute beginner&quot;,&quot;tab_author_difficulty&quot;:&quot;&quot;,&quot;song_id&quot;:13242935,&quot;song_artist_id&quot;:73225,&quot;h&quot;:223132457,&quot;dt&quot;:1693396364}},&quot;brothers_by_type&quot;:null,&quot;brothers_count&quot;:null},&quot;access&quot;:{&quot;can_edit_tab&quot;:false,&quot;can_edit_strumming&quot;:false,&quot;can_delete_comment&quot;:false,&quot;can_manage_rating&quot;:false,&quot;can_vote_strumming&quot;:true},&quot;recommended_tabs&quot;:[],&quot;recentry_viewed_key&quot;:&quot;tab:4300502&quot;,&quot;criticals&quot;:[],&quot;online&quot;:{&quot;users&quot;:3468,&quot;guests&quot;:544},&quot;is_in_linking_exp&quot;:true},&quot;header_bidding&quot;:{&quot;page_type&quot;:&quot;tab_desktop&quot;,&quot;ad_units&quot;:[{&quot;code&quot;:&quot;ad_cs_2010320_160_600&quot;,&quot;dfpCode&quot;:&quot;UG_ATF_160&quot;,&quot;sizes&quot;:[[160,600]],&quot;placementId&quot;:&quot;7478445&quot;,&quot;layoutPlacement&quot;:&quot;side&quot;,&quot;mediaTypes&quot;:{&quot;banner&quot;:{&quot;sizes&quot;:[[160,600]]}},&quot;refresh&quot;:{&quot;delay&quot;:30000,&quot;delayDeviation&quot;:10000,&quot;maxVisibleTime&quot;:1000,&quot;limit&quot;:30},&quot;appnexusPlacementId&quot;:12097756,&quot;mediaType&quot;:&quot;banner&quot;,&quot;bids&quot;:[{&quot;bidder&quot;:&quot;appnexus&quot;,&quot;params&quot;:{&quot;placementId&quot;:7478445,&quot;keywords&quot;:{&quot;is_refresh&quot;:&quot;false&quot;,&quot;artist&quot;:73225,&quot;tab_id&quot;:4300502,&quot;instr&quot;:&quot;guitar&quot;,&quot;title&quot;:&quot;Les Ogres De Barback - 3 - 0 (chords)&quot;}}},{&quot;bidder&quot;:&quot;adform&quot;,&quot;params&quot;:{&quot;mid&quot;:&quot;211877&quot;,&quot;adxDomain&quot;:&quot;adx.adform.net&quot;}},{&quot;bidder&quot;:&quot;openx&quot;,&quot;params&quot;:{&quot;delDomain&quot;:&quot;ultimate-guitar-d.openx.net&quot;,&quot;unit&quot;:&quot;538591659&quot;}},{&quot;bidder&quot;:&quot;pubmatic&quot;,&quot;params&quot;:{&quot;publisherId&quot;:&quot;72623&quot;,&quot;adSlot&quot;:&quot;3131193&quot;}},{&quot;bidder&quot;:&quot;rubicon&quot;,&quot;params&quot;:{&quot;accountId&quot;:&quot;15178&quot;,&quot;siteId&quot;:&quot;93918&quot;,&quot;zoneId&quot;:&quot;441918&quot;}},{&quot;bidder&quot;:&quot;ix&quot;,&quot;params&quot;:{&quot;id&quot;:1,&quot;siteId&quot;:&quot;177325&quot;}},{&quot;bidder&quot;:&quot;sharethrough&quot;,&quot;params&quot;:{&quot;pkey&quot;:&quot;2DMGYqOnPeq1qmyOc10E0J7p&quot;}}],&quot;customTargeting&quot;:{}},{&quot;code&quot;:&quot;ad_cs_2010319_160_600&quot;,&quot;dfpCode&quot;:&quot;UG_BTFR_160&quot;,&quot;sizes&quot;:[[160,600]],&quot;placementId&quot;:&quot;7478445&quot;,&quot;layoutPlacement&quot;:&quot;sideBottom&quot;,&quot;mediaTypes&quot;:{&quot;banner&quot;:{&quot;sizes&quot;:[[160,600]]}},&quot;refresh&quot;:{&quot;delay&quot;:30000,&quot;delayDeviation&quot;:10000,&quot;maxVisibleTime&quot;:1000,&quot;limit&quot;:30},&quot;appnexusPlacementId&quot;:12097784,&quot;mediaType&quot;:&quot;banner&quot;,&quot;bids&quot;:[{&quot;bidder&quot;:&quot;appnexus&quot;,&quot;params&quot;:{&quot;placementId&quot;:7478445,&quot;keywords&quot;:{&quot;is_refresh&quot;:&quot;false&quot;,&quot;artist&quot;:73225,&quot;tab_id&quot;:4300502,&quot;instr&quot;:&quot;guitar&quot;,&quot;title&quot;:&quot;Les Ogres De Barback - 3 - 0 (chords)&quot;}}},{&quot;bidder&quot;:&quot;adform&quot;,&quot;params&quot;:{&quot;mid&quot;:&quot;849566&quot;,&quot;adxDomain&quot;:&quot;adx.adform.net&quot;}},{&quot;bidder&quot;:&quot;pubmatic&quot;,&quot;params&quot;:{&quot;publisherId&quot;:&quot;72623&quot;,&quot;adSlot&quot;:&quot;3131225&quot;}},{&quot;bidder&quot;:&quot;rubicon&quot;,&quot;params&quot;:{&quot;accountId&quot;:&quot;15178&quot;,&quot;siteId&quot;:&quot;93918&quot;,&quot;zoneId&quot;:&quot;467554&quot;}},{&quot;bidder&quot;:&quot;ix&quot;,&quot;params&quot;:{&quot;siteId&quot;:&quot;179682&quot;,&quot;id&quot;:&quot;03&quot;}},{&quot;bidder&quot;:&quot;sharethrough&quot;,&quot;params&quot;:{&quot;pkey&quot;:&quot;4wvqxnlPv0OVn60kXMsmh12M&quot;}}],&quot;customTargeting&quot;:{}},{&quot;code&quot;:&quot;ad_cs_2010319_300_250&quot;,&quot;dfpCode&quot;:&quot;UG_BTFR_300&quot;,&quot;sizes&quot;:[[1,1]],&quot;placementId&quot;:&quot;8549997&quot;,&quot;layoutPlacement&quot;:&quot;bottom&quot;,&quot;mediaTypes&quot;:{&quot;banner&quot;:{&quot;sizes&quot;:[[1,1],[300,250],[610,300],[535,300],[535,400]]}},&quot;refresh&quot;:{&quot;delay&quot;:30000,&quot;delayDeviation&quot;:10000,&quot;maxVisibleTime&quot;:1000,&quot;limit&quot;:30},&quot;withoutBids&quot;:true,&quot;appnexusPlacementId&quot;:12097784,&quot;mediaType&quot;:&quot;banner&quot;,&quot;bids&quot;:[{&quot;bidder&quot;:&quot;appnexus&quot;,&quot;params&quot;:{&quot;placementId&quot;:8549997,&quot;keywords&quot;:{&quot;is_refresh&quot;:&quot;false&quot;,&quot;artist&quot;:73225,&quot;tab_id&quot;:4300502,&quot;instr&quot;:&quot;guitar&quot;,&quot;title&quot;:&quot;Les Ogres De Barback - 3 - 0 (chords)&quot;}}},{&quot;bidder&quot;:&quot;openx&quot;,&quot;params&quot;:{&quot;delDomain&quot;:&quot;ultimate-guitar-d.openx.net&quot;,&quot;unit&quot;:&quot;538591661&quot;}},{&quot;bidder&quot;:&quot;pubmatic&quot;,&quot;params&quot;:{&quot;publisherId&quot;:&quot;72623&quot;,&quot;adSlot&quot;:&quot;3131198@300x250&quot;}},{&quot;bidder&quot;:&quot;rubicon&quot;,&quot;params&quot;:{&quot;accountId&quot;:&quot;15178&quot;,&quot;siteId&quot;:&quot;93918&quot;,&quot;zoneId&quot;:&quot;467554&quot;}}],&quot;customTargeting&quot;:{},&quot;primis&quot;:true,&quot;dynamic&quot;:true}]},&quot;experiments&quot;:{&quot;variations&quot;:[],&quot;closed_experiments&quot;:[]},&quot;template&quot;:{&quot;module&quot;:&quot;tab&quot;,&quot;controller&quot;:&quot;view&quot;,&quot;action&quot;:&quot;index&quot;,&quot;reactAction&quot;:&quot;tab_text&quot;},&quot;documents&quot;:{&quot;enabled&quot;:true}},&quot;i18n&quot;:{&quot;language&quot;:&quot;en&quot;,&quot;links&quot;:{&quot;default&quot;:&quot;https://tabs.ultimate-guitar.com/tab/les-ogres-de-barback/3-0-chords-4300502&quot;,&quot;pt&quot;:&quot;https://pt.ultimate-guitar.com/tab/les-ogres-de-barback/3-0-chords-4300502&quot;,&quot;es&quot;:&quot;https://es.ultimate-guitar.com/tab/les-ogres-de-barback/3-0-chords-4300502&quot;},&quot;isLocalizationDomain&quot;:false},&quot;promotion&quot;:{&quot;promoKey&quot;:&quot;ugapp:topBannerShow:Summersale2023&quot;,&quot;promoType&quot;:&quot;Summer&quot;,&quot;endedKey&quot;:&quot;_ug_promotionEnded_v4&quot;,&quot;emergency&quot;:{&quot;imgUrl&quot;:&quot;https://www.ultimate-guitar.com/static/storage/marketing/images/7/7bcbdf234b3f68a208985575259d8f7b22c3ff8b.webp&quot;,&quot;title&quot;:&quot;Summer Sale&quot;},&quot;exit&quot;:{&quot;imgUrl&quot;:&quot;https://www.ultimate-guitar.com/static/storage/marketing/images/7/757d514209eae5d7227ca7ac4cad88784ab8685e.webp&quot;,&quot;title&quot;:&quot;SUMMER SALE&quot;,&quot;subtitle&quot;:&quot;&quot;,&quot;hasLabel&quot;:false,&quot;hasTimer&quot;:false},&quot;heroBanner&quot;:{&quot;imgUrl&quot;:&quot;https://www.ultimate-guitar.com/static/storage/marketing/images/b/b1cc041634b0f46d4fbccdf2d7bb2a94dee2fe39.webp&quot;,&quot;title&quot;:&quot;&quot;,&quot;subtitle&quot;:&quot;SUMMER SALE&quot;,&quot;buttonText&quot;:&quot;GET SPECIAL OFFER&quot;},&quot;heroBlock&quot;:{&quot;imgUrl&quot;:&quot;https://www.ultimate-guitar.com/static/storage/marketing/images/c/c720d37487014a3fa8189adea71f7d1addbc4855.webp&quot;},&quot;payment&quot;:{&quot;imgUrl&quot;:&quot;https://www.ultimate-guitar.com/static/storage/marketing/images/f/fa31a31311b61e5c080be48ba88e464b5f0cd541.webp&quot;,&quot;title&quot;:&quot;SUMMER\\\\nSALE&quot;,&quot;planName&quot;:&quot;Summer sale&quot;},&quot;permBanner&quot;:{&quot;imgUrl&quot;:&quot;https://www.ultimate-guitar.com/static/storage/marketing/images/f/f2b964381ba69f1fa9058c2776f10eb47bdfc1f9.webp&quot;,&quot;title&quot;:&quot;Summer sale:&quot;,&quot;subtitle&quot;:&quot;Pro Access&quot;,&quot;hasTimer&quot;:true,&quot;endedSubscriptionText&quot;:&quot;Welcome offer: %percentage% OFF on an annual membership of Ultimate Guitar Pro&quot;,&quot;cardProblemText&quot;:&quot;Card you used to subscribe has expired. Please update your payment information to continue enjoying Ultimate Guitar&quot;,&quot;paymentProblemText&quot;:&quot;We were unable to renew your premium subscription. Please top-up card balance&quot;,&quot;buttonText&quot;:&quot;GET SPECIAL OFFER&quot;},&quot;stickyBanner&quot;:{&quot;imgUrl&quot;:&quot;https://www.ultimate-guitar.com/static/storage/marketing/images/7/7dfafc3a558a64cc6003568c376321db71eb7173.webp&quot;,&quot;title&quot;:&quot;&quot;,&quot;subtitle&quot;:&quot;SUMMER SALE!&quot;,&quot;buttonText&quot;:&quot;GET SPECIAL OFFER&quot;}},&quot;user&quot;:{&quot;id&quot;:0,&quot;pa_id&quot;:0,&quot;avatarUrl&quot;:&quot;https://tabs.ultimate-guitar.com/static/users/0/0/0/0.gif?d=d&amp;h=1693396353&quot;,&quot;username&quot;:&quot;Unregistered&quot;,&quot;email&quot;:&quot;&quot;,&quot;usergroupid&quot;:0,&quot;contributor&quot;:{&quot;isContributor&quot;:false,&quot;isTabContributor&quot;:false,&quot;first_tab&quot;:0},&quot;iq&quot;:0,&quot;tabsCount&quot;:0,&quot;playlistCount&quot;:0,&quot;coursesCount&quot;:0,&quot;messagesCount&quot;:0,&quot;rights&quot;:[],&quot;hasExpiredCard&quot;:null,&quot;hasChargeError&quot;:null,&quot;hasActiveProPause&quot;:false,&quot;hasActiveEduPause&quot;:false,&quot;tab_try&quot;:null,&quot;content_access&quot;:[],&quot;joinDate&quot;:0,&quot;user_status&quot;:&quot;&quot;,&quot;segment&quot;:{&quot;preview&quot;:null,&quot;current&quot;:null},&quot;uid2_token_url&quot;:null,&quot;ip&quot;:&quot;88.126.89.198&quot;,&quot;id5_hashed&quot;:&quot;&quot;},&quot;notifications&quot;:{&quot;count_new&quot;:0,&quot;data&quot;:[],&quot;giveaway_id&quot;:0,&quot;texts&quot;:{&quot;markAll&quot;:&quot;Mark all as read&quot;,&quot;settings&quot;:&quot;Settings&quot;,&quot;thanksForVote&quot;:&quot;Thanks for your vote&quot;}},&quot;forms&quot;:[],&quot;theme&quot;:&quot;dark&quot;,&quot;commentForm&quot;:{&quot;is_new&quot;:0},&quot;isUgOffice&quot;:0,&quot;ugSearch&quot;:{&quot;type&quot;:&quot;tabs&quot;,&quot;value&quot;:&quot;&quot;},&quot;sponsorsFooter&quot;:null,&quot;takeover&quot;:{&quot;items&quot;:[],&quot;debug_takeover_id&quot;:0},&quot;interstitial&quot;:false,&quot;customAlerts&quot;:[]},&quot;globalHelpers&quot;:[],&quot;helpers&quot;:{&quot;typeHelper&quot;:{&quot;short&quot;:{&quot;Official&quot;:&quot;OFFICIAL&quot;,&quot;Chords&quot;:&quot;CRD&quot;,&quot;Tabs&quot;:&quot;TAB&quot;,&quot;Pro&quot;:&quot;PRO&quot;,&quot;Power&quot;:&quot;PWR&quot;,&quot;Bass Tabs&quot;:&quot;BASS&quot;,&quot;Drum Tabs&quot;:&quot;DRM&quot;,&quot;Video&quot;:&quot;VID&quot;,&quot;Ukulele Chords&quot;:&quot;UKE&quot;,&quot;Tab Pro&quot;:&quot;TAB PRO&quot;,&quot;Chord Pro&quot;:&quot;CRD PRO&quot;,&quot;Vocal&quot;:&quot;VOCAL&quot;},&quot;filter&quot;:{&quot;Official&quot;:&quot;official&quot;,&quot;Chords&quot;:&quot;chords&quot;,&quot;Tabs&quot;:&quot;tab&quot;,&quot;Pro&quot;:&quot;guitar pro&quot;,&quot;Power&quot;:&quot;power&quot;,&quot;Bass Tabs&quot;:&quot;bass&quot;,&quot;Drum Tabs&quot;:&quot;drums&quot;,&quot;Video&quot;:&quot;video&quot;,&quot;Ukulele Chords&quot;:&quot;ukulele&quot;,&quot;Tab Pro&quot;:&quot;tab pro&quot;,&quot;Chord Pro&quot;:&quot;chord pro&quot;,&quot;Vocal&quot;:&quot;vocal&quot;},&quot;full&quot;:{&quot;Official&quot;:&quot;official tab&quot;,&quot;Chords&quot;:&quot;chords&quot;,&quot;Tabs&quot;:&quot;tab&quot;,&quot;Pro&quot;:&quot;guitar pro tab&quot;,&quot;Power&quot;:&quot;power tab&quot;,&quot;Bass Tabs&quot;:&quot;bass tab&quot;,&quot;Drum Tabs&quot;:&quot;drum tab&quot;,&quot;Video&quot;:&quot;video tab&quot;,&quot;Ukulele Chords&quot;:&quot;ukulele chords&quot;,&quot;Tab Pro&quot;:&quot;tab pro&quot;,&quot;Chord Pro&quot;:&quot;chord pro&quot;,&quot;Vocal&quot;:&quot;vocal tab&quot;},&quot;recommendations&quot;:{&quot;Official&quot;:&quot;Official&quot;,&quot;Chords&quot;:&quot;Chords&quot;,&quot;Tabs&quot;:&quot;Tab&quot;,&quot;Pro&quot;:&quot;Pro&quot;,&quot;Power&quot;:&quot;Power&quot;,&quot;Bass Tabs&quot;:&quot;Bass&quot;,&quot;Drum Tabs&quot;:&quot;Drum&quot;,&quot;Video&quot;:&quot;Video&quot;,&quot;Ukulele Chords&quot;:&quot;Ukulele&quot;,&quot;Tab Pro&quot;:&quot;Tab Pro&quot;,&quot;Chord Pro&quot;:&quot;Chord&quot;,&quot;Vocal&quot;:&quot;Vocal&quot;}}},&quot;cmp&quot;:{&quot;setConsentUrl&quot;:&quot;https://www.ultimate-guitar.com/user/security/consent&quot;},&quot;bidding&quot;:{&quot;analytics&quot;:{&quot;logUrl&quot;:&quot;//track.ultimate-guitar.com/ug/&quot;,&quot;pageType&quot;:&quot;tab_desktop&quot;,&quot;region&quot;:&quot;WEU&quot;,&quot;device&quot;:&quot;desktop&quot;,&quot;variation&quot;:&quot;&quot;,&quot;hasHardRefresh&quot;:true},&quot;refresh&quot;:{&quot;limit&quot;:30,&quot;maxVisibleTime&quot;:1000,&quot;delay&quot;:30000,&quot;delayDeviation&quot;:10000,&quot;enabled&quot;:true,&quot;hasHardRefresh&quot;:true,&quot;availableBidders&quot;:[&quot;appnexus&quot;,&quot;ix&quot;,&quot;pubmatic&quot;,&quot;rubicon&quot;,&quot;openx&quot;,&quot;adform&quot;,&quot;sharethrough&quot;],&quot;ignoreChangePageVisibility&quot;:false},&quot;minRefreshCpm&quot;:0.040000000000000000832667268468867405317723751068115234375,&quot;cpmFloor&quot;:0.1000000000000000055511151231257827021181583404541015625,&quot;timeout&quot;:2000,&quot;refreshTimeout&quot;:1000,&quot;dfpId&quot;:74268401,&quot;units&quot;:[{&quot;code&quot;:&quot;ad_cs_2010320_160_600&quot;,&quot;dfpCode&quot;:&quot;UG_ATF_160&quot;,&quot;sizes&quot;:[[160,600]],&quot;placementId&quot;:&quot;7478445&quot;,&quot;layoutPlacement&quot;:&quot;side&quot;,&quot;mediaTypes&quot;:{&quot;banner&quot;:{&quot;sizes&quot;:[[160,600]]}},&quot;refresh&quot;:{&quot;delay&quot;:30000,&quot;delayDeviation&quot;:10000,&quot;maxVisibleTime&quot;:1000,&quot;limit&quot;:30},&quot;appnexusPlacementId&quot;:12097756,&quot;mediaType&quot;:&quot;banner&quot;,&quot;bids&quot;:[{&quot;bidder&quot;:&quot;appnexus&quot;,&quot;params&quot;:{&quot;placementId&quot;:7478445,&quot;keywords&quot;:{&quot;is_refresh&quot;:&quot;false&quot;,&quot;artist&quot;:73225,&quot;tab_id&quot;:4300502,&quot;instr&quot;:&quot;guitar&quot;,&quot;title&quot;:&quot;Les Ogres De Barback - 3 - 0 (chords)&quot;}}},{&quot;bidder&quot;:&quot;adform&quot;,&quot;params&quot;:{&quot;mid&quot;:&quot;211877&quot;,&quot;adxDomain&quot;:&quot;adx.adform.net&quot;}},{&quot;bidder&quot;:&quot;openx&quot;,&quot;params&quot;:{&quot;delDomain&quot;:&quot;ultimate-guitar-d.openx.net&quot;,&quot;unit&quot;:&quot;538591659&quot;}},{&quot;bidder&quot;:&quot;pubmatic&quot;,&quot;params&quot;:{&quot;publisherId&quot;:&quot;72623&quot;,&quot;adSlot&quot;:&quot;3131193&quot;}},{&quot;bidder&quot;:&quot;rubicon&quot;,&quot;params&quot;:{&quot;accountId&quot;:&quot;15178&quot;,&quot;siteId&quot;:&quot;93918&quot;,&quot;zoneId&quot;:&quot;441918&quot;}},{&quot;bidder&quot;:&quot;ix&quot;,&quot;params&quot;:{&quot;id&quot;:1,&quot;siteId&quot;:&quot;177325&quot;}},{&quot;bidder&quot;:&quot;sharethrough&quot;,&quot;params&quot;:{&quot;pkey&quot;:&quot;2DMGYqOnPeq1qmyOc10E0J7p&quot;}}],&quot;customTargeting&quot;:{}},{&quot;code&quot;:&quot;ad_cs_2010319_160_600&quot;,&quot;dfpCode&quot;:&quot;UG_BTFR_160&quot;,&quot;sizes&quot;:[[160,600]],&quot;placementId&quot;:&quot;7478445&quot;,&quot;layoutPlacement&quot;:&quot;sideBottom&quot;,&quot;mediaTypes&quot;:{&quot;banner&quot;:{&quot;sizes&quot;:[[160,600]]}},&quot;refresh&quot;:{&quot;delay&quot;:30000,&quot;delayDeviation&quot;:10000,&quot;maxVisibleTime&quot;:1000,&quot;limit&quot;:30},&quot;appnexusPlacementId&quot;:12097784,&quot;mediaType&quot;:&quot;banner&quot;,&quot;bids&quot;:[{&quot;bidder&quot;:&quot;appnexus&quot;,&quot;params&quot;:{&quot;placementId&quot;:7478445,&quot;keywords&quot;:{&quot;is_refresh&quot;:&quot;false&quot;,&quot;artist&quot;:73225,&quot;tab_id&quot;:4300502,&quot;instr&quot;:&quot;guitar&quot;,&quot;title&quot;:&quot;Les Ogres De Barback - 3 - 0 (chords)&quot;}}},{&quot;bidder&quot;:&quot;adform&quot;,&quot;params&quot;:{&quot;mid&quot;:&quot;849566&quot;,&quot;adxDomain&quot;:&quot;adx.adform.net&quot;}},{&quot;bidder&quot;:&quot;pubmatic&quot;,&quot;params&quot;:{&quot;publisherId&quot;:&quot;72623&quot;,&quot;adSlot&quot;:&quot;3131225&quot;}},{&quot;bidder&quot;:&quot;rubicon&quot;,&quot;params&quot;:{&quot;accountId&quot;:&quot;15178&quot;,&quot;siteId&quot;:&quot;93918&quot;,&quot;zoneId&quot;:&quot;467554&quot;}},{&quot;bidder&quot;:&quot;ix&quot;,&quot;params&quot;:{&quot;siteId&quot;:&quot;179682&quot;,&quot;id&quot;:&quot;03&quot;}},{&quot;bidder&quot;:&quot;sharethrough&quot;,&quot;params&quot;:{&quot;pkey&quot;:&quot;4wvqxnlPv0OVn60kXMsmh12M&quot;}}],&quot;customTargeting&quot;:{}},{&quot;code&quot;:&quot;ad_cs_2010319_300_250&quot;,&quot;dfpCode&quot;:&quot;UG_BTFR_300&quot;,&quot;sizes&quot;:[[1,1]],&quot;placementId&quot;:&quot;8549997&quot;,&quot;layoutPlacement&quot;:&quot;bottom&quot;,&quot;mediaTypes&quot;:{&quot;banner&quot;:{&quot;sizes&quot;:[[1,1],[300,250],[610,300],[535,300],[535,400]]}},&quot;refresh&quot;:{&quot;delay&quot;:30000,&quot;delayDeviation&quot;:10000,&quot;maxVisibleTime&quot;:1000,&quot;limit&quot;:30},&quot;withoutBids&quot;:true,&quot;appnexusPlacementId&quot;:12097784,&quot;mediaType&quot;:&quot;banner&quot;,&quot;bids&quot;:[{&quot;bidder&quot;:&quot;appnexus&quot;,&quot;params&quot;:{&quot;placementId&quot;:8549997,&quot;keywords&quot;:{&quot;is_refresh&quot;:&quot;false&quot;,&quot;artist&quot;:73225,&quot;tab_id&quot;:4300502,&quot;instr&quot;:&quot;guitar&quot;,&quot;title&quot;:&quot;Les Ogres De Barback - 3 - 0 (chords)&quot;}}},{&quot;bidder&quot;:&quot;openx&quot;,&quot;params&quot;:{&quot;delDomain&quot;:&quot;ultimate-guitar-d.openx.net&quot;,&quot;unit&quot;:&quot;538591661&quot;}},{&quot;bidder&quot;:&quot;pubmatic&quot;,&quot;params&quot;:{&quot;publisherId&quot;:&quot;72623&quot;,&quot;adSlot&quot;:&quot;3131198@300x250&quot;}},{&quot;bidder&quot;:&quot;rubicon&quot;,&quot;params&quot;:{&quot;accountId&quot;:&quot;15178&quot;,&quot;siteId&quot;:&quot;93918&quot;,&quot;zoneId&quot;:&quot;467554&quot;}}],&quot;customTargeting&quot;:{},&quot;primis&quot;:true,&quot;dynamic&quot;:true}],&quot;priceGranularity&quot;:[{&quot;precision&quot;:2,&quot;min&quot;:0,&quot;max&quot;:1,&quot;increment&quot;:0.01000000000000000020816681711721685132943093776702880859375},{&quot;precision&quot;:2,&quot;min&quot;:1,&quot;max&quot;:2,&quot;increment&quot;:0.0200000000000000004163336342344337026588618755340576171875},{&quot;precision&quot;:2,&quot;min&quot;:2,&quot;max&quot;:5,&quot;increment&quot;:0.05000000000000000277555756156289135105907917022705078125},{&quot;precision&quot;:2,&quot;min&quot;:5,&quot;max&quot;:10,&quot;increment&quot;:0.1000000000000000055511151231257827021181583404541015625},{&quot;precision&quot;:2,&quot;min&quot;:10,&quot;max&quot;:20,&quot;increment&quot;:0.200000000000000011102230246251565404236316680908203125},{&quot;precision&quot;:2,&quot;min&quot;:20,&quot;max&quot;:50,&quot;increment&quot;:0.5}],&quot;dynamicLoad&quot;:true,&quot;disableAdx&quot;:false,&quot;isGDPRAvailable&quot;:true,&quot;isShowOnTap&quot;:false,&quot;showMePlayer&quot;:false,&quot;showMePlayerV2&quot;:false,&quot;adsTargeting&quot;:{&quot;song&quot;:&quot;3 - 0&quot;,&quot;artist&quot;:&quot;Les Ogres de Barback&quot;,&quot;tab_subtype&quot;:&quot;&quot;},&quot;prebidLibUrl&quot;:&quot;https://tabs.ultimate-guitar.com/static/public/build/prebid_7_40_0/prebid_ver1693396252.js&quot;,&quot;isRegistered&quot;:0,&quot;emailHash&quot;:&quot;e3b0c44298fc1c149afbf4c8996fb92427ae41e4649b934ca495991b7852b855&quot;,&quot;slots&quot;:[]}}\"></div>\\n<script defer src=\\'https://tabs.ultimate-guitar.com/static/public/build/ug_react/vendor.38a500e5c5738b331675c21353fa087f.js\\'></script>\\n    <script defer src=\\'https://tabs.ultimate-guitar.com/static/public/build/ug_react/ug~runtime.6e146e287f44a898c8ca3e4e7bac89fd.js\\'></script>    <script defer src=\\'https://tabs.ultimate-guitar.com/static/public/build/ug_react/ug.bd4b12dfe265dbc616c11e3484b06e40.js\\'></script><script type=\"text/javascript\">\\n\\n    \\n        (function (d, w, c) {\\n    function setCookie(name, value) {\\n      var options = {}\\n      options.expires = new Date(new Date().setFullYear(new Date().getFullYear() + 1)).toUTCString();\\n      options.path = \\'/\\'\\n      options.domain = \\'.ultimate-guitar.com\\'\\n      var updatedCookie = encodeURIComponent(name) + \"=\" + encodeURIComponent(value);\\n      for (var optionKey in options) {\\n        updatedCookie += \"; \" + optionKey;\\n        var optionValue = options[optionKey];\\n        if (optionValue !== true) {\\n          updatedCookie += \"=\" + optionValue;\\n        }\\n      }\\n      document.cookie = updatedCookie;\\n    }\\n    (w[c] = w[c] || []).push(function() {\\n        try {\\n                            w.yaCounter18746557 = new Ya.Metrika({\"clickmap\":true,\"trackLinks\":true,\"triggerEvent\":true,\"accurateTrackBounce\":true,\"id\":18746557,\"webvisor\":true});\\n\\n                \\n                                                                \\n             var clientId = w.yaCounter18746557.getClientID();\\n\\n             setCookie(\\'_ug_client_id\\', clientId)\\n\\n             var isPwa =  (\\n                 (window.matchMedia && window.matchMedia(\\'(display-mode: standalone)\\').matches) ||\\n                 window.navigator.standalone === true\\n             );\\n             var params = {\"has_web_pro_access\":0,\"is_registered\":0,\"rights\":0,\"u_id\":\"SA==\",\"type\":\"Chords\",\"auth\":\"None\"};\\n             params.pwa = isPwa ? 1 : 0;\\n             w.yaCounter18746557.params(params)\\n        } catch(e) { }\\n    });\\n\\n    var n = d.getElementsByTagName(\"script\")[0],\\n        s = d.createElement(\"script\"),\\n        f = function () { n.parentNode.insertBefore(s, n); };\\n    s.type = \"text/javascript\";\\n    s.async = true;\\n    s.src = (d.location.protocol == \"https:\" ? \"https:\" : \"http:\") + \"//tabs.ultimate-guitar.com/static/vendor/metrica/watch_ver1693396252.js\";\\n\\n    if (w.opera == \"[object Opera]\") {\\n        d.addEventListener(\"DOMContentLoaded\", f, false);\\n    } else { f(); }\\n})(document, window, \"yandex_metrika_callbacks\");\\n    </script>\\n\\n    <noscript>\\n        <img src=\"//mc.yandex.ru/watch/18746557\" style=\"position:absolute; left:-9999px;\" alt=\"\" />\\n    </noscript>\\n        <script type=\"application/ld+json\">\\n{\\n  \"@context\":\"http://schema.org\",\\n  \"@type\":\"MusicRecording\",\\n  \"byArtist\": {\\n    \"@context\":\"http://schema.org\",\\n    \"@type\":\"MusicGroup\",\\n    \"name\":\"Les Ogres de Barback\",\\n    \"url\":\"https://www.ultimate-guitar.com/artist/les_ogres_de_barback_73225\"\\n  },\\n  \"name\":\"3 - 0\",\\n  \"url\":\"https://tabs.ultimate-guitar.com/tab/les-ogres-de-barback/3-0-chords-4300502\"\\n  ,\"datePublished\": \"2022-08-10T05:14:07-04:00\"\\n  ,\"dateModified\": \"2022-08-10T05:14:07-04:00\"\\n  ,\"aggregateRating\": { \"@type\": \"AggregateRating\", \"ratingValue\": \"4.6\", \"reviewCount\": \"3\", \"bestRating\": \"5\", \"worstRating\": \"1\" }\\n}\\n</script>\\n<script type=\"application/ld+json\">\\n{\\n  \"@context\":\"http://schema.org\",\\n  \"@type\":\"CreativeWork\",\\n  \"name\":\"3 - 0\"\\n}\\n</script>\\n<script type=\"application/ld+json\">\\n{\\n \"@context\": \"http://schema.org\",\\n \"@type\": \"BreadcrumbList\",\\n \"itemListElement\":\\n [\\n   {\\n   \"@type\": \"ListItem\",\\n   \"position\": 1,\\n   \"item\":\\n   {\\n    \"@id\": \"https://www.ultimate-guitar.com/bands/l.htm\",\\n    \"name\": \"L\"\\n    }\\n  },\\n  {\\n   \"@type\": \"ListItem\",\\n   \"position\": 2,\\n   \"item\":\\n   {\\n    \"@id\": \"https://www.ultimate-guitar.com/artist/les_ogres_de_barback_73225\",\\n    \"name\": \"Les Ogres de Barback\"\\n    }\\n  },\\n  {\\n   \"@type\": \"ListItem\",\\n  \"position\": 3,\\n  \"item\":\\n   {\\n     \"@id\": \"https://tabs.ultimate-guitar.com/tab/les-ogres-de-barback/3-0-chords-4300502\",\\n     \"name\": \"3 - 0\"\\n   }\\n  }\\n ]\\n}\\n</script>\\n<style>.hide-seo-text{font-size: 0;}</style>\\n\\n</body>\\n</html>\\n'}"
      ]
     },
     "execution_count": 9,
     "metadata": {},
     "output_type": "execute_result"
    }
   ],
   "source": [
    "\n",
    "Scrapper.song.tab.scrap_save(url, dest=\"./data/raw/ultimateguitar/\")"
   ]
  },
  {
   "cell_type": "code",
   "execution_count": 10,
   "metadata": {},
   "outputs": [
    {
     "name": "stderr",
     "output_type": "stream",
     "text": [
      "ERROR:root:url empty or not string : nan, type <class 'float'>\n",
      "ERROR:root:{'url': nan, 'status': 500, 'comment': \"url empty or not string : nan, type <class 'float'>\", 'date': '2023-08-30_13:54:58', 'retired': -1, 'html_doc': ''}\n",
      "ERROR:root:url empty or not string : nan, type <class 'float'>\n",
      "ERROR:root:{'url': nan, 'status': 500, 'comment': \"url empty or not string : nan, type <class 'float'>\", 'date': '2023-08-30_13:54:59', 'retired': -1, 'html_doc': ''}\n",
      "ERROR:root:url empty or not string : nan, type <class 'float'>\n",
      "ERROR:root:{'url': nan, 'status': 500, 'comment': \"url empty or not string : nan, type <class 'float'>\", 'date': '2023-08-30_13:54:59', 'retired': -1, 'html_doc': ''}\n",
      "ERROR:root:url empty or not string : nan, type <class 'float'>\n",
      "ERROR:root:{'url': nan, 'status': 500, 'comment': \"url empty or not string : nan, type <class 'float'>\", 'date': '2023-08-30_13:54:59', 'retired': -1, 'html_doc': ''}\n",
      "ERROR:root:url empty or not string : nan, type <class 'float'>\n",
      "ERROR:root:{'url': nan, 'status': 500, 'comment': \"url empty or not string : nan, type <class 'float'>\", 'date': '2023-08-30_13:54:59', 'retired': -1, 'html_doc': ''}\n",
      "ERROR:root:url empty or not string : nan, type <class 'float'>\n",
      "ERROR:root:{'url': nan, 'status': 500, 'comment': \"url empty or not string : nan, type <class 'float'>\", 'date': '2023-08-30_13:55:01', 'retired': -1, 'html_doc': ''}\n",
      "ERROR:root:url empty or not string : nan, type <class 'float'>\n",
      "ERROR:root:{'url': nan, 'status': 500, 'comment': \"url empty or not string : nan, type <class 'float'>\", 'date': '2023-08-30_13:55:01', 'retired': -1, 'html_doc': ''}\n",
      "ERROR:root:url empty or not string : nan, type <class 'float'>\n",
      "ERROR:root:{'url': nan, 'status': 500, 'comment': \"url empty or not string : nan, type <class 'float'>\", 'date': '2023-08-30_13:55:01', 'retired': -1, 'html_doc': ''}\n",
      "ERROR:root:url empty or not string : nan, type <class 'float'>\n",
      "ERROR:root:{'url': nan, 'status': 500, 'comment': \"url empty or not string : nan, type <class 'float'>\", 'date': '2023-08-30_13:55:01', 'retired': -1, 'html_doc': ''}\n",
      "ERROR:root:url empty or not string : nan, type <class 'float'>\n",
      "ERROR:root:{'url': nan, 'status': 500, 'comment': \"url empty or not string : nan, type <class 'float'>\", 'date': '2023-08-30_13:55:01', 'retired': -1, 'html_doc': ''}\n",
      "ERROR:root:url empty or not string : nan, type <class 'float'>\n",
      "ERROR:root:{'url': nan, 'status': 500, 'comment': \"url empty or not string : nan, type <class 'float'>\", 'date': '2023-08-30_13:55:02', 'retired': -1, 'html_doc': ''}\n",
      "ERROR:root:url empty or not string : nan, type <class 'float'>\n",
      "ERROR:root:{'url': nan, 'status': 500, 'comment': \"url empty or not string : nan, type <class 'float'>\", 'date': '2023-08-30_13:55:05', 'retired': -1, 'html_doc': ''}\n",
      "ERROR:root:url empty or not string : nan, type <class 'float'>\n",
      "ERROR:root:{'url': nan, 'status': 500, 'comment': \"url empty or not string : nan, type <class 'float'>\", 'date': '2023-08-30_13:55:09', 'retired': -1, 'html_doc': ''}\n",
      "ERROR:root:url empty or not string : nan, type <class 'float'>\n",
      "ERROR:root:{'url': nan, 'status': 500, 'comment': \"url empty or not string : nan, type <class 'float'>\", 'date': '2023-08-30_13:55:10', 'retired': -1, 'html_doc': ''}\n",
      "ERROR:root:url empty or not string : nan, type <class 'float'>\n",
      "ERROR:root:{'url': nan, 'status': 500, 'comment': \"url empty or not string : nan, type <class 'float'>\", 'date': '2023-08-30_13:55:10', 'retired': -1, 'html_doc': ''}\n",
      "ERROR:root:url empty or not string : nan, type <class 'float'>\n",
      "ERROR:root:{'url': nan, 'status': 500, 'comment': \"url empty or not string : nan, type <class 'float'>\", 'date': '2023-08-30_13:55:10', 'retired': -1, 'html_doc': ''}\n",
      "ERROR:root:url empty or not string : nan, type <class 'float'>\n",
      "ERROR:root:{'url': nan, 'status': 500, 'comment': \"url empty or not string : nan, type <class 'float'>\", 'date': '2023-08-30_13:55:11', 'retired': -1, 'html_doc': ''}\n",
      "ERROR:root:url empty or not string : nan, type <class 'float'>\n",
      "ERROR:root:{'url': nan, 'status': 500, 'comment': \"url empty or not string : nan, type <class 'float'>\", 'date': '2023-08-30_13:55:13', 'retired': -1, 'html_doc': ''}\n"
     ]
    },
    {
     "data": {
      "text/plain": [
       "0      {'url': 'https://tabs.ultimate-guitar.com/tab/...\n",
       "10     {'url': 'https://tabs.ultimate-guitar.com/tab/...\n",
       "13     {'url': 'https://tabs.ultimate-guitar.com/tab/...\n",
       "16     {'url': 'https://tabs.ultimate-guitar.com/tab/...\n",
       "18     {'url': 'https://tabs.ultimate-guitar.com/tab/...\n",
       "                             ...                        \n",
       "433    {'url': nan, 'status': 500, 'comment': 'url em...\n",
       "438    {'url': 'https://tabs.ultimate-guitar.com/tab/...\n",
       "439    {'url': 'https://tabs.ultimate-guitar.com/tab/...\n",
       "440    {'url': 'https://tabs.ultimate-guitar.com/tab/...\n",
       "443    {'url': 'https://tabs.ultimate-guitar.com/tab/...\n",
       "Name: url, Length: 69, dtype: object"
      ]
     },
     "execution_count": 10,
     "metadata": {},
     "output_type": "execute_result"
    }
   ],
   "source": [
    "scrap = lambda url : Scrapper.song.tab.scrap_save(url, dest=\"./data/raw/ultimateguitar/\")\n",
    "\n",
    "df.url.apply(scrap)"
   ]
  },
  {
   "cell_type": "markdown",
   "metadata": {},
   "source": [
    "# Analyse"
   ]
  },
  {
   "cell_type": "code",
   "execution_count": null,
   "metadata": {},
   "outputs": [],
   "source": [
    "cwd = os.getcwd()\n",
    "data = \"data\"\n",
    "raw = \"raw\"\n",
    "boiteachansons = \"boiteachansons\"\n",
    "\n",
    "\n",
    "path = os.path.join(cwd, data, raw, boiteachansons)"
   ]
  },
  {
   "cell_type": "code",
   "execution_count": null,
   "metadata": {},
   "outputs": [],
   "source": [
    "file_list= os.listdir(path)\n",
    "file_list= sorted(file_list)\n",
    "file_list"
   ]
  },
  {
   "cell_type": "code",
   "execution_count": null,
   "metadata": {},
   "outputs": [],
   "source": [
    "def f(txt) : return 1 if txt.startswith(\"RETIRED\") else 0\n",
    "retired_list  = [f(txt) for txt in file_list]\n",
    "retired_list[:5]"
   ]
  },
  {
   "cell_type": "code",
   "execution_count": null,
   "metadata": {},
   "outputs": [],
   "source": [
    "file_df = pd.DataFrame({\"fn\" : file_list, \"retired\" : retired_list})\n",
    "file_df"
   ]
  },
  {
   "cell_type": "code",
   "execution_count": null,
   "metadata": {},
   "outputs": [],
   "source": [
    "file_df.retired.mean()"
   ]
  },
  {
   "cell_type": "code",
   "execution_count": null,
   "metadata": {},
   "outputs": [],
   "source": [
    "retired = file_df.loc[file_df.retired > 0]\n",
    "retired"
   ]
  },
  {
   "cell_type": "code",
   "execution_count": null,
   "metadata": {},
   "outputs": [],
   "source": []
  }
 ],
 "metadata": {
  "kernelspec": {
   "display_name": ".venv",
   "language": "python",
   "name": "python3"
  },
  "language_info": {
   "codemirror_mode": {
    "name": "ipython",
    "version": 3
   },
   "file_extension": ".py",
   "mimetype": "text/x-python",
   "name": "python",
   "nbconvert_exporter": "python",
   "pygments_lexer": "ipython3",
   "version": "3.10.12"
  },
  "orig_nbformat": 4
 },
 "nbformat": 4,
 "nbformat_minor": 2
}
