{
 "cells": [
  {
   "cell_type": "code",
   "execution_count": null,
   "metadata": {},
   "outputs": [],
   "source": [
    "cd ../.."
   ]
  },
  {
   "cell_type": "markdown",
   "metadata": {},
   "source": [
    "# Imports"
   ]
  },
  {
   "cell_type": "code",
   "execution_count": null,
   "metadata": {},
   "outputs": [],
   "source": [
    "import os, sys, time, logging, datetime\n",
    "import unicodedata\n",
    "import pandas as pd\n",
    "\n",
    "import requests\n",
    "import bs4\n",
    "from bs4 import BeautifulSoup\n",
    "\n",
    "import selenium\n",
    "\n",
    "from IPython.display import display, HTML\n",
    "\n",
    "from pandarallel import pandarallel\n",
    "\n",
    "\n",
    "from src.loggers import create_logger\n",
    "create_logger()\n",
    "\n",
    "\n",
    "from src.chords import Chord\n",
    "\n",
    "\n",
    "from src.scrappers import Scrapper\n",
    "from src.managers import Manager\n",
    "from src.url_finders import UrlFinder\n",
    "\n",
    "from src.loaders import Loader\n",
    "\n",
    "from src.transformers import ManageClass, classes_to_find\n",
    "from src.helpers import now"
   ]
  },
  {
   "cell_type": "code",
   "execution_count": null,
   "metadata": {},
   "outputs": [],
   "source": [
    "pandarallel.initialize(progress_bar=True)"
   ]
  },
  {
   "cell_type": "code",
   "execution_count": null,
   "metadata": {},
   "outputs": [],
   "source": []
  },
  {
   "cell_type": "markdown",
   "metadata": {},
   "source": [
    "# by One"
   ]
  },
  {
   "cell_type": "code",
   "execution_count": null,
   "metadata": {},
   "outputs": [],
   "source": [
    "li = [{'_song': '99 luftballons',\n",
    "  '_author': 'nena',\n",
    "  'url_video': 'https://www.youtube.com/watch?v=Fpu5a0Bl8eY'},\n",
    " {'_song': 'a nos souvenirs',\n",
    "  '_author': 'trois cafes gourmands',\n",
    "  'url_video': 'https://www.youtube.com/watch?v=voQhp1K2TSk'},\n",
    " {'_song': 'adieu cher camarade',\n",
    "  '_author': 'marc ogeret',\n",
    "  'url_video': 'https://www.youtube.com/watch?v=lftrgBS8kn0'},\n",
    " {'_song': 'africa',\n",
    "  '_author': 'toto',\n",
    "  'url_video': 'https://www.youtube.com/watch?v=FTQbiNvZqaY'},\n",
    " {'_song': 'ah le petit vin blanc',\n",
    "  '_author': 'lina margy',\n",
    "  'url_video': 'https://www.youtube.com/watch?v=IDmPxv3hUaI'},\n",
    " {'_song': 'aimer est plus fort que d etre aime',\n",
    "  '_author': 'daniel balavoine',\n",
    "  'url_video': 'https://www.youtube.com/watch?v=6bTAgC-1Brs'},\n",
    " {'_song': 'alexandrie alexandra',\n",
    "  '_author': 'claude francois',\n",
    "  'url_video': 'https://www.youtube.com/watch?v=HkVhN64dyd8'},\n",
    " {'_song': 'allez reste',\n",
    "  '_author': 'boulevard des airs',\n",
    "  'url_video': 'https://www.youtube.com/watch?v=lM3R1vkb21s'},\n",
    " {'_song': 'allumer le feu',\n",
    "  '_author': 'johnny hallyday',\n",
    "  'url_video': 'https://www.youtube.com/watch?v=s3O1Xro7oAI'},\n",
    " {'_song': 'amsterdam',\n",
    "  '_author': 'jacques brel',\n",
    "  'url_video': 'https://www.youtube.com/watch?v=V3BSj1cHX-M'}]"
   ]
  },
  {
   "cell_type": "code",
   "execution_count": null,
   "metadata": {},
   "outputs": [],
   "source": [
    "li"
   ]
  },
  {
   "cell_type": "code",
   "execution_count": null,
   "metadata": {},
   "outputs": [],
   "source": [
    "__song = li[0]\n",
    "__song"
   ]
  },
  {
   "cell_type": "code",
   "execution_count": null,
   "metadata": {},
   "outputs": [],
   "source": [
    "Scrapper.song.video.scrap_save(\n",
    "    url = __song[\"url_video\"], \n",
    "    song=__song[\"_song\"],\n",
    "    author=__song[\"_author\"], \n",
    "    )"
   ]
  },
  {
   "cell_type": "code",
   "execution_count": null,
   "metadata": {},
   "outputs": [],
   "source": [
    "i=1\n",
    "Scrapper.song.video.scrap_save(\n",
    "    url = li[i][\"url_video\"], \n",
    "    song=li[i][\"_song\"],\n",
    "    author=li[i][\"_author\"], \n",
    "    )"
   ]
  },
  {
   "cell_type": "code",
   "execution_count": null,
   "metadata": {},
   "outputs": [],
   "source": [
    "i=2\n",
    "Scrapper.song.video.scrap_save(\n",
    "    url = li[i][\"url_video\"], \n",
    "    song=li[i][\"_song\"],\n",
    "    author=li[i][\"_author\"], \n",
    "    )"
   ]
  },
  {
   "cell_type": "code",
   "execution_count": null,
   "metadata": {},
   "outputs": [],
   "source": [
    "i=3\n",
    "Scrapper.song.video.scrap_save(\n",
    "    url = li[i][\"url_video\"], \n",
    "    song=li[i][\"_song\"],\n",
    "    author=li[i][\"_author\"], \n",
    "    )"
   ]
  },
  {
   "cell_type": "code",
   "execution_count": null,
   "metadata": {},
   "outputs": [],
   "source": [
    "i=4\n",
    "Scrapper.song.video.scrap_save(\n",
    "    url = li[i][\"url_video\"], \n",
    "    song=li[i][\"_song\"],\n",
    "    author=li[i][\"_author\"], \n",
    "    )"
   ]
  },
  {
   "cell_type": "code",
   "execution_count": null,
   "metadata": {},
   "outputs": [],
   "source": [
    "i=5\n",
    "Scrapper.song.video.scrap_save(\n",
    "    url = li[i][\"url_video\"], \n",
    "    song=li[i][\"_song\"],\n",
    "    author=li[i][\"_author\"], \n",
    "    )"
   ]
  },
  {
   "cell_type": "markdown",
   "metadata": {},
   "source": [
    "# by batch"
   ]
  },
  {
   "cell_type": "code",
   "execution_count": null,
   "metadata": {},
   "outputs": [],
   "source": [
    "def f(dd) : return Scrapper.song.video.scrap_save(\n",
    "    url = dd[\"url_video\"], \n",
    "    song=dd[\"_song\"],\n",
    "    author=dd[\"_author\"], \n",
    "    )\n",
    "\n",
    "\n",
    "_ = [print(f(dd)) for dd in li[6:]]"
   ]
  },
  {
   "cell_type": "markdown",
   "metadata": {},
   "source": [
    "# By All"
   ]
  },
  {
   "cell_type": "code",
   "execution_count": null,
   "metadata": {},
   "outputs": [],
   "source": [
    "# df\n",
    "df = Loader.base(website=\"\", nan_url=\"drop\", top=False)\n",
    "df.iloc[:, 7:16].head()"
   ]
  },
  {
   "cell_type": "code",
   "execution_count": null,
   "metadata": {},
   "outputs": [],
   "source": [
    "# _query \n",
    "df[\"__query\"] = df._song + \" \" + df._author\n",
    "df.iloc[:, 7:].head()\n"
   ]
  },
  {
   "cell_type": "code",
   "execution_count": null,
   "metadata": {},
   "outputs": [],
   "source": [
    "df[\"video\"] = df.__query.apply(UrlFinder.song.robust_video)\n",
    "df.iloc[:, 9:].head()\n"
   ]
  },
  {
   "cell_type": "code",
   "execution_count": null,
   "metadata": {},
   "outputs": [],
   "source": [
    "df[\"url_video\"] = df.video.apply(lambda dd : dd[\"url_list\"][0])\n",
    "df.iloc[:, -4:].head()"
   ]
  },
  {
   "cell_type": "code",
   "execution_count": null,
   "metadata": {},
   "outputs": [],
   "source": [
    "\n",
    "cols = [\"_song\", \"_author\", \"url_video\"]\n",
    "_df = df.loc[:, cols]\n"
   ]
  },
  {
   "cell_type": "code",
   "execution_count": null,
   "metadata": {},
   "outputs": [],
   "source": [
    "li = _df.to_dict(orient=\"records\")\n",
    "li"
   ]
  },
  {
   "cell_type": "code",
   "execution_count": null,
   "metadata": {},
   "outputs": [],
   "source": [
    "_ = [print(f(dd)) for dd in li[6:]]"
   ]
  },
  {
   "cell_type": "markdown",
   "metadata": {},
   "source": [
    "# by all "
   ]
  },
  {
   "cell_type": "code",
   "execution_count": null,
   "metadata": {},
   "outputs": [],
   "source": []
  },
  {
   "cell_type": "markdown",
   "metadata": {},
   "source": [
    "# Analyse"
   ]
  },
  {
   "cell_type": "code",
   "execution_count": null,
   "metadata": {},
   "outputs": [],
   "source": []
  }
 ],
 "metadata": {
  "kernelspec": {
   "display_name": ".venv",
   "language": "python",
   "name": "python3"
  },
  "language_info": {
   "codemirror_mode": {
    "name": "ipython",
    "version": 3
   },
   "file_extension": ".py",
   "mimetype": "text/x-python",
   "name": "python",
   "nbconvert_exporter": "python",
   "pygments_lexer": "ipython3",
   "version": "3.10.12"
  },
  "orig_nbformat": 4
 },
 "nbformat": 4,
 "nbformat_minor": 2
}
